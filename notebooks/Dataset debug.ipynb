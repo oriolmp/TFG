{
 "cells": [
  {
   "cell_type": "code",
   "execution_count": 14,
   "id": "4e224d11-b7ad-4dff-ae24-345dd8bb00ab",
   "metadata": {
    "tags": []
   },
   "outputs": [],
   "source": [
    "import cv2\n",
    "import torch\n",
    "import numpy as np\n",
    "import torchvision.transforms as T\n",
    "import torch.nn.functional as F\n",
    "from einops import rearrange"
   ]
  },
  {
   "cell_type": "code",
   "execution_count": 2,
   "id": "39a2007c-4348-4868-88c5-7fc06a116ddb",
   "metadata": {
    "tags": []
   },
   "outputs": [],
   "source": [
    "frame_path = 'frame_0000042685.jpg'"
   ]
  },
  {
   "cell_type": "code",
   "execution_count": 3,
   "id": "d2ead259-93a7-4b8e-9aba-39f63217de4f",
   "metadata": {
    "tags": []
   },
   "outputs": [],
   "source": [
    "frame = cv2.imread(frame_path, cv2.IMREAD_UNCHANGED)"
   ]
  },
  {
   "cell_type": "code",
   "execution_count": 4,
   "id": "f4dc58ef-92d7-4626-8345-3418a2b4c14c",
   "metadata": {
    "tags": []
   },
   "outputs": [
    {
     "data": {
      "text/plain": [
       "array([[[ 52,  81, 112],\n",
       "        [ 51,  80, 111],\n",
       "        [ 52,  81, 112],\n",
       "        ...,\n",
       "        [ 26,  54,  88],\n",
       "        [ 26,  54,  88],\n",
       "        [ 26,  54,  88]],\n",
       "\n",
       "       [[ 52,  81, 112],\n",
       "        [ 51,  80, 111],\n",
       "        [ 52,  81, 112],\n",
       "        ...,\n",
       "        [ 26,  54,  88],\n",
       "        [ 26,  54,  88],\n",
       "        [ 26,  54,  88]],\n",
       "\n",
       "       [[ 53,  82, 113],\n",
       "        [ 52,  81, 112],\n",
       "        [ 52,  81, 112],\n",
       "        ...,\n",
       "        [ 26,  54,  88],\n",
       "        [ 26,  54,  88],\n",
       "        [ 26,  54,  88]],\n",
       "\n",
       "       ...,\n",
       "\n",
       "       [[ 50,  75, 107],\n",
       "        [ 51,  76, 108],\n",
       "        [ 51,  76, 108],\n",
       "        ...,\n",
       "        [  4,   3,  12],\n",
       "        [  0,   0,   4],\n",
       "        [  6,   4,  10]],\n",
       "\n",
       "       [[ 50,  75, 107],\n",
       "        [ 51,  76, 108],\n",
       "        [ 52,  77, 109],\n",
       "        ...,\n",
       "        [  4,   3,  12],\n",
       "        [  0,   0,   4],\n",
       "        [  0,   0,   4]],\n",
       "\n",
       "       [[ 50,  75, 107],\n",
       "        [ 51,  76, 108],\n",
       "        [ 52,  77, 109],\n",
       "        ...,\n",
       "        [  4,   3,  12],\n",
       "        [  9,   7,  13],\n",
       "        [  0,   0,   4]]], dtype=uint8)"
      ]
     },
     "execution_count": 4,
     "metadata": {},
     "output_type": "execute_result"
    }
   ],
   "source": [
    "frame"
   ]
  },
  {
   "cell_type": "code",
   "execution_count": 8,
   "id": "a57db3c6-5461-4cdf-9204-ccc5f56b046e",
   "metadata": {
    "tags": []
   },
   "outputs": [],
   "source": [
    "resize = T.Resize(size=(112, 112), antialias=True)\n",
    "to_tensor = T.ToTensor()"
   ]
  },
  {
   "cell_type": "code",
   "execution_count": 9,
   "id": "1f0b0f76-1548-4a4c-ad60-f3f2d15a861d",
   "metadata": {
    "tags": []
   },
   "outputs": [],
   "source": [
    "frame_tensor = to_tensor(frame)"
   ]
  },
  {
   "cell_type": "code",
   "execution_count": 10,
   "id": "434a67e1-d996-42eb-999c-6c2af7603fa8",
   "metadata": {
    "tags": []
   },
   "outputs": [],
   "source": [
    "frame_tensor = resize(frame_tensor)"
   ]
  },
  {
   "cell_type": "code",
   "execution_count": 11,
   "id": "b44fe654-f512-4b10-8405-92d3330475e3",
   "metadata": {
    "tags": []
   },
   "outputs": [],
   "source": [
    "frames = [frame_tensor.unsqueeze(-1) for x in range(100)]"
   ]
  },
  {
   "cell_type": "code",
   "execution_count": 13,
   "id": "4e6ade9a-95db-4c5e-9524-7f8a3cb4873c",
   "metadata": {
    "tags": []
   },
   "outputs": [
    {
     "data": {
      "text/plain": [
       "torch.Size([3, 112, 112, 100])"
      ]
     },
     "execution_count": 13,
     "metadata": {},
     "output_type": "execute_result"
    }
   ],
   "source": [
    "clip = torch.cat(frames, dim=-1)\n",
    "clip.shape"
   ]
  },
  {
   "cell_type": "code",
   "execution_count": 15,
   "id": "09ad3ffc-eb4d-4465-82b4-46f22efee7a3",
   "metadata": {
    "tags": []
   },
   "outputs": [],
   "source": [
    "clip = rearrange(clip, 'c w h t -> c t w h')\n",
    "clip = rearrange(clip, 'c t w h -> t w h c')"
   ]
  },
  {
   "cell_type": "code",
   "execution_count": 17,
   "id": "b77a239c-20ed-4365-b947-b3a28b8a747e",
   "metadata": {
    "tags": []
   },
   "outputs": [
    {
     "data": {
      "text/plain": [
       "(100, 112, 112, 3)"
      ]
     },
     "execution_count": 17,
     "metadata": {},
     "output_type": "execute_result"
    }
   ],
   "source": [
    "arr = clip.numpy()\n",
    "arr.shape"
   ]
  },
  {
   "cell_type": "code",
   "execution_count": 20,
   "id": "eb5f9bdd-bf15-4d1f-98e2-73c9c458822e",
   "metadata": {
    "tags": []
   },
   "outputs": [],
   "source": [
    "sample_frame = clip[0]"
   ]
  },
  {
   "cell_type": "code",
   "execution_count": 22,
   "id": "1a459312-bbaf-4220-b97d-a59a5a243f71",
   "metadata": {
    "tags": []
   },
   "outputs": [
    {
     "data": {
      "text/plain": [
       "torch.Size([112, 112, 3])"
      ]
     },
     "execution_count": 22,
     "metadata": {},
     "output_type": "execute_result"
    }
   ],
   "source": [
    "sample_frame.shape"
   ]
  },
  {
   "cell_type": "code",
   "execution_count": 26,
   "id": "49df7db1-5921-444e-b1f5-73f191357515",
   "metadata": {
    "tags": []
   },
   "outputs": [],
   "source": [
    "sample_frame = rearrange(sample_frame, 'w h c -> c w h')"
   ]
  },
  {
   "cell_type": "code",
   "execution_count": 23,
   "id": "54574a81-f2e3-4a07-9f7d-f4750d821320",
   "metadata": {
    "tags": []
   },
   "outputs": [],
   "source": [
    "to_image = T.ToPILImage()"
   ]
  },
  {
   "cell_type": "code",
   "execution_count": 27,
   "id": "e13b33fd-1614-44fb-9f4b-c9231262fa77",
   "metadata": {
    "tags": []
   },
   "outputs": [],
   "source": [
    "img_from_tensor = to_image(sample_frame)\n",
    "img_from_tensor.show()"
   ]
  },
  {
   "cell_type": "code",
   "execution_count": null,
   "id": "2ef8a26e-4dc9-4498-893b-45b7224b4021",
   "metadata": {},
   "outputs": [],
   "source": []
  }
 ],
 "metadata": {
  "kernelspec": {
   "display_name": "Python 3 (ipykernel)",
   "language": "python",
   "name": "python3"
  },
  "language_info": {
   "codemirror_mode": {
    "name": "ipython",
    "version": 3
   },
   "file_extension": ".py",
   "mimetype": "text/x-python",
   "name": "python",
   "nbconvert_exporter": "python",
   "pygments_lexer": "ipython3",
   "version": "3.10.9"
  }
 },
 "nbformat": 4,
 "nbformat_minor": 5
}

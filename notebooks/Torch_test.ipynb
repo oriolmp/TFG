{
 "cells": [
  {
   "cell_type": "code",
   "execution_count": 11,
   "id": "9ff2d875-dee1-4827-b230-ad20ed61a4d5",
   "metadata": {
    "tags": []
   },
   "outputs": [],
   "source": [
    "import torch\n",
    "import torch.nn as nn\n",
    "from einops import rearrange, reduce, repeat\n",
    "import omegaconf\n",
    "import math"
   ]
  },
  {
   "cell_type": "code",
   "execution_count": 2,
   "id": "71002102-5279-49c2-80d7-cd506611c8db",
   "metadata": {
    "tags": []
   },
   "outputs": [],
   "source": [
    "x = torch.rand(1, 3, 200, 112, 112) # b, c, t, w, h"
   ]
  },
  {
   "cell_type": "markdown",
   "id": "9afc980c-14ee-49a9-aa6e-76e86e5c69b9",
   "metadata": {},
   "source": [
    "## PATCH TOKENIZATION"
   ]
  },
  {
   "cell_type": "code",
   "execution_count": 3,
   "id": "d89f0b19-db21-45e2-a0a3-c5bc61ccd0fd",
   "metadata": {
    "tags": []
   },
   "outputs": [],
   "source": [
    "class PatchEmbed(nn.Module):\n",
    "    \"\"\" Image to Patch Embedding\n",
    "    \"\"\"\n",
    "    def __init__(self, img_size=112, patch_size=16, in_chans=3, embed_dim=768):\n",
    "        super().__init__()\n",
    "        img_size = [img_size, img_size]\n",
    "        patch_size = [patch_size, patch_size]\n",
    "        num_patches = (img_size[1] // patch_size[1]) * (img_size[0] // patch_size[0])\n",
    "        self.img_size = img_size\n",
    "        self.patch_size = patch_size\n",
    "        self.num_patches = num_patches\n",
    "\n",
    "        self.proj = nn.Conv2d(in_chans, embed_dim, kernel_size=patch_size, stride=patch_size)\n",
    "\n",
    "    def forward(self, x):\n",
    "        B, C, T, H, W = x.shape\n",
    "        x = rearrange(x, 'b c t h w -> (b t) c h w')\n",
    "        print(f'x shape 1: {x.shape}')\n",
    "        x = self.proj(x)\n",
    "        print(f'x shape 2: {x.shape}')\n",
    "        W = x.size(-1)\n",
    "        # x = rearrange(x, 'b c h w -> b (h w) c')\n",
    "        x = rearrange(x, '(b t) c w h -> b (w h t) c', t=200) \n",
    "        return x, T, W"
   ]
  },
  {
   "cell_type": "code",
   "execution_count": 4,
   "id": "0e262f89-ed57-44b4-bc22-da65e3d8ff48",
   "metadata": {
    "tags": []
   },
   "outputs": [],
   "source": [
    "patching = PatchEmbed(img_size=112)"
   ]
  },
  {
   "cell_type": "code",
   "execution_count": 5,
   "id": "0ed2b3f3-a1fc-4439-916d-339ec2e2c5e8",
   "metadata": {
    "tags": []
   },
   "outputs": [
    {
     "data": {
      "text/plain": [
       "3"
      ]
     },
     "execution_count": 5,
     "metadata": {},
     "output_type": "execute_result"
    }
   ],
   "source": [
    "num_patches = x.shape[1]\n",
    "num_patches"
   ]
  },
  {
   "cell_type": "code",
   "execution_count": 6,
   "id": "baddf7ea-f800-4e8f-8f5d-f21c1e089a4b",
   "metadata": {
    "tags": []
   },
   "outputs": [
    {
     "name": "stdout",
     "output_type": "stream",
     "text": [
      "x shape 1: torch.Size([200, 3, 112, 112])\n",
      "x shape 2: torch.Size([200, 768, 7, 7])\n"
     ]
    }
   ],
   "source": [
    "x, T, W = patching.forward(x)"
   ]
  },
  {
   "cell_type": "code",
   "execution_count": 7,
   "id": "a532369e-4655-4b6f-b685-c5816d7d16c8",
   "metadata": {
    "tags": []
   },
   "outputs": [
    {
     "name": "stdout",
     "output_type": "stream",
     "text": [
      "x shape: torch.Size([1, 9800, 768])\n",
      "T: 200\n",
      "W: 7\n"
     ]
    }
   ],
   "source": [
    "print(f'x shape: {x.size()}') # ( frames x batches ), nº patches, patch_embed = (3 x 16 x 16)\n",
    "print(f'T: {T}')\n",
    "print(f'W: {W}')"
   ]
  },
  {
   "cell_type": "markdown",
   "id": "563e63df-850b-4953-8d8f-85e8cf8d8da7",
   "metadata": {},
   "source": [
    "## MULTIHEAD ATTENTION"
   ]
  },
  {
   "cell_type": "code",
   "execution_count": 8,
   "id": "a6fc7db1-5558-4a2e-b96b-06f8678abda0",
   "metadata": {
    "tags": []
   },
   "outputs": [],
   "source": [
    "import sys, os\n",
    "sys.path.append(r'C:\\Users\\34609\\VisualStudio\\TFG\\attention_zoo')  \n",
    "from base_attention import BaseAttention"
   ]
  },
  {
   "cell_type": "code",
   "execution_count": 9,
   "id": "1cafefb9-cf55-48fc-9e79-d8595cf34931",
   "metadata": {
    "tags": []
   },
   "outputs": [],
   "source": [
    "# MODEL_V1.YAML\n",
    "cfg = omegaconf.OmegaConf.create({\n",
    "    'model': {\n",
    "        'ATTENTION' : 'rela_attention'\n",
    "    }\n",
    "})\n",
    "\n",
    "# MODEL_V2.YAML\n",
    "# cfg = omegaconf.OmegaConf.create({\n",
    "#     'model': {\n",
    "#         'ATTENTION' : 'skyformer',\n",
    "#         'accumulation': 1,\n",
    "#         'num_feats': 128\n",
    "#     }\n",
    "# })\n",
    "\n",
    "# MODEL_V3.YAML\n",
    "# cfg = omegaconf.OmegaConf.create({\n",
    "#     'model': {\n",
    "#         # 'ATTENTION': 'nystromformer',\n",
    "#         'ATTENTION': 'cosformer',\n",
    "#         'eps': 1e-8,\n",
    "#         'num_landmarks': 64,\n",
    "#         'pinv_iterations': 64\n",
    "#     }\n",
    "# })\n",
    "\n",
    "# MODEL_V4.YAML\n",
    "# cfg = omegaconf.OmegaConf.create({\n",
    "#     'model': {\n",
    "#         'ATTENTION' : 'fastformer',\n",
    "#         'use_rotary_emb': False\n",
    "#     }\n",
    "# })\n",
    "\n",
    "# MODEL_V5.YAML\n",
    "# cfg = omegaconf.OmegaConf.create({\n",
    "#     'model': {\n",
    "#         'ATTENTION' : 'linformer',\n",
    "#         'proj_feats': 64 \n",
    "#     }\n",
    "# })\n",
    "\n",
    "# MODEL_V6.YAML\n",
    "# cfg = omegaconf.OmegaConf.create({\n",
    "#     'model': {\n",
    "#         'ATTENTION' : 'performer',\n",
    "#         'kernel_type': 'relu'\n",
    "#     }\n",
    "# })"
   ]
  },
  {
   "cell_type": "code",
   "execution_count": 10,
   "id": "c8956b7b-d2ba-4e75-a403-28350ff64f13",
   "metadata": {
    "tags": []
   },
   "outputs": [],
   "source": [
    "class MultiHeadAttention(nn.Module):\n",
    "    def __init__(self, cfg, dim, num_heads=4, num_patches=num_patches, proj_drop=0., attn_drop=0.):\n",
    "        super().__init__()\n",
    "        self.num_heads = num_heads\n",
    "        self.attention = BaseAttention.init_att_module(cfg, in_feat=dim, out_feat=dim, n=num_patches, h=num_heads)\n",
    "        self.qkv = nn.Linear(dim, dim * 3)  # (B, N, C) -> (B, N, C * 3)\n",
    "        self.proj = nn.Linear(dim, dim)\n",
    "        self.proj_drop = nn.Dropout(proj_drop)\n",
    "        self.attn_drop = nn.Dropout(attn_drop)\n",
    "        \n",
    "    def forward(self, x):\n",
    "        B, N, C = x.shape\n",
    "        print(f'x shape; {x.shape}')\n",
    "        qkv = self.qkv(x)\n",
    "        print(f'qkv: {self.qkv(x).shape}')\n",
    "        qkv = rearrange(qkv, 'b n (c h1 c1) -> b n c h1 c1', h1=self.num_heads, c1=C//self.num_heads)\n",
    "        print(f'qkv reshaped: {qkv.shape}')\n",
    "        qkv = rearrange(qkv, 'b n c h1 c1 -> c b h1 n c1')\n",
    "        print(f'qkv reshaped and permuted: {qkv.shape}')\n",
    "        q, k, v = qkv[0], qkv[1], qkv[2]\n",
    "        print(f'q: {q.shape}, k: {k.shape}, v: {v.shape}')\n",
    "        output = self.attention.apply_attention(Q=q, K=k, V=v)\n",
    "        return output"
   ]
  },
  {
   "cell_type": "code",
   "execution_count": 11,
   "id": "3b2ffe6d-ada9-4ad4-a827-c13acd58c74f",
   "metadata": {
    "tags": []
   },
   "outputs": [],
   "source": [
    "mha = MultiHeadAttention(cfg=cfg, dim=768)"
   ]
  },
  {
   "cell_type": "code",
   "execution_count": 12,
   "id": "9546c9f4-449b-4d3f-89fc-bbc496a435fe",
   "metadata": {
    "tags": []
   },
   "outputs": [
    {
     "name": "stdout",
     "output_type": "stream",
     "text": [
      "x shape; torch.Size([1, 9800, 768])\n",
      "qkv: torch.Size([1, 9800, 2304])\n",
      "qkv reshaped: torch.Size([1, 9800, 3, 4, 192])\n",
      "qkv reshaped and permuted: torch.Size([3, 1, 4, 9800, 192])\n",
      "q: torch.Size([1, 4, 9800, 192]), k: torch.Size([1, 4, 9800, 192]), v: torch.Size([1, 4, 9800, 192])\n"
     ]
    }
   ],
   "source": [
    "out = mha.forward(x)"
   ]
  },
  {
   "cell_type": "code",
   "execution_count": 13,
   "id": "13335908-9114-42b5-b8be-2b20655c907c",
   "metadata": {
    "tags": []
   },
   "outputs": [
    {
     "name": "stdout",
     "output_type": "stream",
     "text": [
      "Output shape: torch.Size([1, 9800, 768])\n",
      "Scores: None\n"
     ]
    }
   ],
   "source": [
    "print(f'Output shape: {out[0].shape}')\n",
    "print(f'Scores: {out[1]}')"
   ]
  },
  {
   "cell_type": "markdown",
   "id": "b66f0e25-7718-4ef8-a3b3-7686b4b9c74e",
   "metadata": {},
   "source": [
    "## MLP"
   ]
  },
  {
   "cell_type": "code",
   "execution_count": 14,
   "id": "c8b1277f-8081-4f10-b42d-94a014133484",
   "metadata": {
    "tags": []
   },
   "outputs": [],
   "source": [
    "class MLP(nn.Module):\n",
    "    def __init__(self, in_features, hidden_features=None, out_features=None, act_layer=nn.GELU, drop=0.):\n",
    "        super().__init__()\n",
    "        out_features = out_features or in_features\n",
    "        hidden_features = hidden_features or in_features\n",
    "        print(f'in: {in_features} / hidden: {hidden_features} / out: {out_features}')\n",
    "        self.fc1 = nn.Linear(in_features, hidden_features)\n",
    "        self.act = act_layer()\n",
    "        self.fc2 = nn.Linear(hidden_features, out_features)\n",
    "        self.drop = nn.Dropout(drop)\n",
    "\n",
    "    def forward(self, x):\n",
    "        x = self.fc1(x)\n",
    "        x = self.act(x)\n",
    "        x = self.drop(x)\n",
    "        x = self.fc2(x)\n",
    "        x = self.drop(x)\n",
    "\n",
    "        return x "
   ]
  },
  {
   "cell_type": "code",
   "execution_count": 15,
   "id": "ca6e5350-d991-4a84-a428-9da47fcea60d",
   "metadata": {
    "tags": []
   },
   "outputs": [
    {
     "name": "stdout",
     "output_type": "stream",
     "text": [
      "in: 768 / hidden: 3072 / out: 768\n"
     ]
    }
   ],
   "source": [
    "mlp = MLP(in_features=768, hidden_features=4*768)"
   ]
  },
  {
   "cell_type": "code",
   "execution_count": 16,
   "id": "a2ac90ff-1f31-4636-b381-f3fa0026eb41",
   "metadata": {
    "tags": []
   },
   "outputs": [],
   "source": [
    "mlp_out = mlp.forward(out[0])"
   ]
  },
  {
   "cell_type": "code",
   "execution_count": 17,
   "id": "70b1022e-80b0-4173-a28e-647391a34da1",
   "metadata": {
    "tags": []
   },
   "outputs": [
    {
     "name": "stdout",
     "output_type": "stream",
     "text": [
      "torch.Size([1, 9800, 768])\n"
     ]
    }
   ],
   "source": [
    "print(mlp_out.shape)"
   ]
  },
  {
   "cell_type": "markdown",
   "id": "f3530df4-e6a9-4ef6-8fcc-287738dbdc9b",
   "metadata": {},
   "source": [
    "## ATTENTION BLOCK"
   ]
  },
  {
   "cell_type": "code",
   "execution_count": 18,
   "id": "51136411-a8e9-4b2d-8797-7a9b1894c69a",
   "metadata": {
    "tags": []
   },
   "outputs": [],
   "source": [
    "class Block(nn.Module):\n",
    "    def __init__(self, cfg, dim, num_heads, mlp_ratio=4., proj_drop=0., attn_drop=0., act_layer=nn.GELU, norm_layer=nn.LayerNorm):\n",
    "        super().__init__()\n",
    "        self.norm1 = norm_layer(dim)\n",
    "        self.attn = MultiHeadAttention(cfg, dim, num_heads, proj_drop, attn_drop)\n",
    "        self.norm2 = norm_layer(dim)\n",
    "        mlp_hidden_dim = int(dim * mlp_ratio)\n",
    "        self.mlp = MLP(dim, mlp_hidden_dim, act_layer=act_layer, drop=proj_drop)\n",
    "\n",
    "    def forward(self, x):\n",
    "        x = x + self.attn(self.norm1(x))[0]\n",
    "        x = x + self.mlp(self.norm2(x))\n",
    "        return x"
   ]
  },
  {
   "cell_type": "code",
   "execution_count": 19,
   "id": "83b859fb-acf1-4c5d-ae6d-bd0c3f45e9de",
   "metadata": {
    "tags": []
   },
   "outputs": [
    {
     "name": "stdout",
     "output_type": "stream",
     "text": [
      "in: 768 / hidden: 3072 / out: 768\n"
     ]
    }
   ],
   "source": [
    "block = Block(cfg, dim=768, num_heads=4)"
   ]
  },
  {
   "cell_type": "code",
   "execution_count": 20,
   "id": "c94f8c65-8279-46d1-a7a4-49be08248713",
   "metadata": {
    "tags": []
   },
   "outputs": [
    {
     "name": "stdout",
     "output_type": "stream",
     "text": [
      "x shape; torch.Size([1, 9800, 768])\n",
      "qkv: torch.Size([1, 9800, 2304])\n",
      "qkv reshaped: torch.Size([1, 9800, 3, 4, 192])\n",
      "qkv reshaped and permuted: torch.Size([3, 1, 4, 9800, 192])\n",
      "q: torch.Size([1, 4, 9800, 192]), k: torch.Size([1, 4, 9800, 192]), v: torch.Size([1, 4, 9800, 192])\n"
     ]
    }
   ],
   "source": [
    "block_out = block.forward(x)"
   ]
  },
  {
   "cell_type": "code",
   "execution_count": 21,
   "id": "1f10c68b-b50c-4449-924d-12f6f0a8aae7",
   "metadata": {
    "tags": []
   },
   "outputs": [
    {
     "name": "stdout",
     "output_type": "stream",
     "text": [
      "torch.Size([1, 9800, 768])\n"
     ]
    }
   ],
   "source": [
    "print(block_out.shape)"
   ]
  },
  {
   "cell_type": "markdown",
   "id": "05f454a7-207c-4c7a-9503-33e7a2184c4e",
   "metadata": {},
   "source": [
    "## MODEL"
   ]
  },
  {
   "cell_type": "code",
   "execution_count": 22,
   "id": "444d8c94-8d62-4cf9-acbe-3838edb3f968",
   "metadata": {
    "tags": []
   },
   "outputs": [],
   "source": [
    "class Model(nn.Module):\n",
    "    \"\"\"\n",
    "    Model class with PatchTokenization + (MuliHeadAttention + MLP) x L + MLP\n",
    "    \"\"\"\n",
    "    def __init__(self, cfg, img_size=112, patch_size=16, in_chans=3, embed_dim=768, num_classes=97, depth=2, num_heads=4, mlp_ratio=4.,\n",
    "                 proj_drop=0., attn_drop=0., norm_layer=nn.LayerNorm, num_frames=200, dropout=0., batch_size=1):\n",
    "        super().__init__()\n",
    "        self.depth = depth\n",
    "        self.dropout = nn.Dropout(dropout)\n",
    "        self.num_classes = num_classes\n",
    "        self.num_features = self.embed_dim = embed_dim\n",
    "        self.num_frames = num_frames\n",
    "        self.patch_embed= PatchEmbed(img_size, patch_size, in_chans, embed_dim)\n",
    "        num_patches = self.patch_embed.num_patches * self.num_frames\n",
    "        \n",
    "        # Positional Embeddings\n",
    "        self.cls_token = nn.Parameter(torch.zeros(1, 1, embed_dim))\n",
    "        self.pos_embed = nn.Parameter(torch.zeros(batch_size, num_patches+1, embed_dim))\n",
    "        # self.time_embed = nn.Parameter(torch.zeros(1, num_frames, embed_dim))\n",
    "                                       \n",
    "        # Attention Blocks\n",
    "        self.blocks = nn.ModuleList([\n",
    "            Block(cfg, embed_dim, num_heads, mlp_ratio, proj_drop, attn_drop, act_layer=nn.GELU, norm_layer=norm_layer)\n",
    "            for i in range(self.depth)])                            \n",
    "        self.norm = norm_layer(embed_dim)\n",
    "        \n",
    "        # Classifier head\n",
    "        self.head = nn.Linear(embed_dim, num_classes)\n",
    "        \n",
    "    def forward(self, x):\n",
    "        x, T, W = self.patch_embed(x)\n",
    "        \n",
    "        # add class token\n",
    "        cls_tokens = self.cls_token.expand(x.size(0), -1, -1) # shape: (1, 1, embed) -> (batches, 1, embed)\n",
    "        print(f'cls_tokens shape: {cls_tokens.shape}')\n",
    "        x = torch.cat((cls_tokens, x), dim=1) # (batch, frames * patches, embed) -> (batch, frames * patches + 1, embed)\n",
    "        print(f'torch cat: {x.shape}')\n",
    "    \n",
    "        # add positional/temporal embedding\n",
    "        x = x + self.pos_embed\n",
    "        print(f'x + pos_embed: {x.shape}')\n",
    "    \n",
    "        for block in self.blocks:\n",
    "            x = block.forward(x)\n",
    "        # x = rearrange(x, 'b (p f) e -> b f p e', f=self.num_frames) # (batch x frames, patches, embed) -> (batch, frames, patch, embed)\n",
    "        # x = torch.mean(x, [1,2])\n",
    "        x = x[:, -1]\n",
    "        print(f'x shape: {x.shape}')\n",
    "        x = self.head(x)\n",
    "        return x               "
   ]
  },
  {
   "cell_type": "code",
   "execution_count": 23,
   "id": "89177871-3c91-4d01-8fb4-167545a9c903",
   "metadata": {
    "tags": []
   },
   "outputs": [
    {
     "name": "stdout",
     "output_type": "stream",
     "text": [
      "in: 768 / hidden: 3072 / out: 768\n",
      "in: 768 / hidden: 3072 / out: 768\n"
     ]
    }
   ],
   "source": [
    "model = Model(cfg)"
   ]
  },
  {
   "cell_type": "code",
   "execution_count": 24,
   "id": "c315da47-7c16-4946-af4e-614136b39afa",
   "metadata": {
    "tags": []
   },
   "outputs": [
    {
     "name": "stdout",
     "output_type": "stream",
     "text": [
      "48\n"
     ]
    }
   ],
   "source": [
    "params = model.named_parameters()\n",
    "count = 0\n",
    "for param in params:\n",
    "    # print(param[0])\n",
    "    count += 1\n",
    "print(count)"
   ]
  },
  {
   "cell_type": "code",
   "execution_count": null,
   "id": "bcd7861b-5755-4f9b-b32c-c2bd5f25314a",
   "metadata": {
    "tags": []
   },
   "outputs": [],
   "source": [
    "x = torch.rand(3, 3, 200, 112, 112) # b, c, t, w, h\n",
    "model_out = model(x)"
   ]
  },
  {
   "cell_type": "code",
   "execution_count": null,
   "id": "faf77c0e-be15-4623-9223-a2eb9d2e7d41",
   "metadata": {
    "tags": []
   },
   "outputs": [],
   "source": [
    "print(model_out.size())"
   ]
  },
  {
   "cell_type": "markdown",
   "id": "80e4dc64-e881-4688-9d96-60d918f8319d",
   "metadata": {},
   "source": [
    "## Positional encoding"
   ]
  },
  {
   "cell_type": "code",
   "execution_count": 5,
   "id": "cb710f84-75cb-41f4-8c31-b5e2c2901e2f",
   "metadata": {
    "tags": []
   },
   "outputs": [],
   "source": [
    "from math import sin, cos, pow\n",
    "\n",
    "def pos_embed(\n",
    "    batch_size: int,\n",
    "    num_patches: int,\n",
    "    embed_dim: int\n",
    ") -> torch.tensor:\n",
    "    pos_embed = torch.zeros(num_patches, embed_dim)\n",
    "    \n",
    "    for i in range(num_patches):\n",
    "        for j in range(embed_dim):\n",
    "            if j % 2 == 0:\n",
    "                p = sin(i / pow(10000, ((2 * i) / embed_dim)))\n",
    "            else:\n",
    "                p = cos(i / pow(10000, ((2 * i) / embed_dim)))\n",
    "            pos_embed[i][j] = p\n",
    "    pos_embed = pos_embed.unsqueeze(0)\n",
    "    \n",
    "    return pos_embed        "
   ]
  },
  {
   "cell_type": "code",
   "execution_count": 20,
   "id": "243093ce-8d40-42b4-9a7a-36e9c34cef9d",
   "metadata": {
    "tags": []
   },
   "outputs": [],
   "source": [
    "class PositionalEncoding(nn.Module):\n",
    "\n",
    "    def __init__(self, d_model: int, dropout: float = 0.1, max_len: int = 9801):\n",
    "        super().__init__()\n",
    "        self.dropout = nn.Dropout(p=dropout)\n",
    "\n",
    "        position = torch.arange(max_len).unsqueeze(1)\n",
    "        div_term = torch.exp(torch.arange(0, d_model, 2) * (-math.log(10000.0) / d_model))\n",
    "        pe = torch.zeros(1, max_len, d_model)\n",
    "        pe[0, :, 0::2] = torch.sin(position * div_term)\n",
    "        pe[0, :, 1::2] = torch.cos(position * div_term)\n",
    "        self.register_buffer('pe', pe)\n",
    "\n",
    "    def forward(self, x: torch.Tensor) -> torch.Tensor:\n",
    "        \"\"\"\n",
    "        Arguments:\n",
    "            x: Tensor, shape ``[batch_size, seq_length, embedding_dim]`` orignally [seq, batch]\n",
    "        \"\"\"\n",
    "        x = x + self.pe[:x.size(0)]\n",
    "        return self.dropout(x)"
   ]
  },
  {
   "cell_type": "code",
   "execution_count": 47,
   "id": "b4b3aff4-ed29-4920-bc3f-3891127f889f",
   "metadata": {
    "tags": []
   },
   "outputs": [],
   "source": [
    "div_term = torch.exp(torch.arange(1, 768, 2) * (-math.log(10000.0) / 768))\n",
    "pe = torch.zeros(1, 9801, 768)\n",
    "position = torch.arange(9801).unsqueeze(1)"
   ]
  },
  {
   "cell_type": "code",
   "execution_count": 48,
   "id": "8c14477d-dc70-47ed-9bda-0a0a32ff6afe",
   "metadata": {
    "tags": []
   },
   "outputs": [
    {
     "data": {
      "text/plain": [
       "torch.Size([1, 9801, 768])"
      ]
     },
     "execution_count": 48,
     "metadata": {},
     "output_type": "execute_result"
    }
   ],
   "source": [
    "pe[0, :, 0::2] = torch.sin(position * div_term)\n",
    "pe[0, :, 1::2] = torch.cos(position * div_term)\n",
    "pe.size()"
   ]
  },
  {
   "cell_type": "code",
   "execution_count": 49,
   "id": "27deae3b-3ba3-48b6-928d-46afee81af2f",
   "metadata": {
    "tags": []
   },
   "outputs": [
    {
     "data": {
      "text/plain": [
       "torch.Size([2, 9801, 768])"
      ]
     },
     "execution_count": 49,
     "metadata": {},
     "output_type": "execute_result"
    }
   ],
   "source": [
    "x = torch.zeros(2, 9801, 768)\n",
    "a = x + pe\n",
    "a.size()"
   ]
  },
  {
   "cell_type": "code",
   "execution_count": 50,
   "id": "8e4a3444-5ab9-4525-9ee7-2786fdccc578",
   "metadata": {
    "tags": []
   },
   "outputs": [
    {
     "data": {
      "text/plain": [
       "tensor([[[ 0.0000e+00,  1.0000e+00,  0.0000e+00,  ...,  1.0000e+00,\n",
       "           0.0000e+00,  1.0000e+00],\n",
       "         [ 8.3497e-01,  5.5029e-01,  8.2186e-01,  ...,  1.0000e+00,\n",
       "           1.0121e-04,  1.0000e+00],\n",
       "         [ 9.1896e-01, -3.9435e-01,  9.3641e-01,  ...,  1.0000e+00,\n",
       "           2.0241e-04,  1.0000e+00],\n",
       "         ...,\n",
       "         [-9.2849e-01,  3.7137e-01,  9.6313e-01,  ...,  5.2703e-01,\n",
       "           8.3691e-01,  5.4733e-01],\n",
       "         [-2.0066e-01,  9.7966e-01,  3.2739e-01,  ...,  5.2694e-01,\n",
       "           8.3697e-01,  5.4725e-01],\n",
       "         [ 7.0702e-01,  7.0720e-01, -5.9019e-01,  ...,  5.2685e-01,\n",
       "           8.3702e-01,  5.4716e-01]],\n",
       "\n",
       "        [[ 0.0000e+00,  1.0000e+00,  0.0000e+00,  ...,  1.0000e+00,\n",
       "           0.0000e+00,  1.0000e+00],\n",
       "         [ 8.3497e-01,  5.5029e-01,  8.2186e-01,  ...,  1.0000e+00,\n",
       "           1.0121e-04,  1.0000e+00],\n",
       "         [ 9.1896e-01, -3.9435e-01,  9.3641e-01,  ...,  1.0000e+00,\n",
       "           2.0241e-04,  1.0000e+00],\n",
       "         ...,\n",
       "         [-9.2849e-01,  3.7137e-01,  9.6313e-01,  ...,  5.2703e-01,\n",
       "           8.3691e-01,  5.4733e-01],\n",
       "         [-2.0066e-01,  9.7966e-01,  3.2739e-01,  ...,  5.2694e-01,\n",
       "           8.3697e-01,  5.4725e-01],\n",
       "         [ 7.0702e-01,  7.0720e-01, -5.9019e-01,  ...,  5.2685e-01,\n",
       "           8.3702e-01,  5.4716e-01]]])"
      ]
     },
     "execution_count": 50,
     "metadata": {},
     "output_type": "execute_result"
    }
   ],
   "source": [
    "a"
   ]
  },
  {
   "cell_type": "code",
   "execution_count": 7,
   "id": "25a4611c-2462-4ddc-b38d-b8ac386a9ece",
   "metadata": {
    "tags": []
   },
   "outputs": [
    {
     "ename": "KeyboardInterrupt",
     "evalue": "",
     "output_type": "error",
     "traceback": [
      "\u001b[1;31m---------------------------------------------------------------------------\u001b[0m",
      "\u001b[1;31mKeyboardInterrupt\u001b[0m                         Traceback (most recent call last)",
      "Cell \u001b[1;32mIn[7], line 5\u001b[0m\n\u001b[0;32m      3\u001b[0m d \u001b[38;5;241m=\u001b[39m \u001b[38;5;241m768\u001b[39m\n\u001b[0;32m      4\u001b[0m \u001b[38;5;66;03m# dummy = torch.rand(b, n, d)\u001b[39;00m\n\u001b[1;32m----> 5\u001b[0m p \u001b[38;5;241m=\u001b[39m \u001b[43mpos_embed\u001b[49m\u001b[43m(\u001b[49m\u001b[43mb\u001b[49m\u001b[43m,\u001b[49m\u001b[43m \u001b[49m\u001b[43mn\u001b[49m\u001b[43m,\u001b[49m\u001b[43m \u001b[49m\u001b[43md\u001b[49m\u001b[43m)\u001b[49m\n\u001b[0;32m      6\u001b[0m \u001b[38;5;28mprint\u001b[39m(p\u001b[38;5;241m.\u001b[39mshape)\n",
      "Cell \u001b[1;32mIn[5], line 16\u001b[0m, in \u001b[0;36mpos_embed\u001b[1;34m(batch_size, num_patches, embed_dim)\u001b[0m\n\u001b[0;32m     14\u001b[0m         \u001b[38;5;28;01melse\u001b[39;00m:\n\u001b[0;32m     15\u001b[0m             p \u001b[38;5;241m=\u001b[39m cos(i \u001b[38;5;241m/\u001b[39m \u001b[38;5;28mpow\u001b[39m(\u001b[38;5;241m10000\u001b[39m, ((\u001b[38;5;241m2\u001b[39m \u001b[38;5;241m*\u001b[39m i) \u001b[38;5;241m/\u001b[39m embed_dim)))\n\u001b[1;32m---> 16\u001b[0m         pos_embed[i][j] \u001b[38;5;241m=\u001b[39m p\n\u001b[0;32m     17\u001b[0m pos_embed \u001b[38;5;241m=\u001b[39m pos_embed\u001b[38;5;241m.\u001b[39munsqueeze(\u001b[38;5;241m0\u001b[39m)\n\u001b[0;32m     19\u001b[0m \u001b[38;5;28;01mreturn\u001b[39;00m pos_embed\n",
      "\u001b[1;31mKeyboardInterrupt\u001b[0m: "
     ]
    }
   ],
   "source": [
    "b = 2\n",
    "n = 9801\n",
    "d = 768\n",
    "# dummy = torch.rand(b, n, d)\n",
    "p = pos_embed(b, n, d)\n",
    "print(p.shape)"
   ]
  },
  {
   "cell_type": "code",
   "execution_count": null,
   "id": "dbc86d97-acf9-4bd6-981c-469fd3c3bd4d",
   "metadata": {},
   "outputs": [],
   "source": []
  }
 ],
 "metadata": {
  "kernelspec": {
   "display_name": "Python 3 (ipykernel)",
   "language": "python",
   "name": "python3"
  },
  "language_info": {
   "codemirror_mode": {
    "name": "ipython",
    "version": 3
   },
   "file_extension": ".py",
   "mimetype": "text/x-python",
   "name": "python",
   "nbconvert_exporter": "python",
   "pygments_lexer": "ipython3",
   "version": "3.10.9"
  }
 },
 "nbformat": 4,
 "nbformat_minor": 5
}

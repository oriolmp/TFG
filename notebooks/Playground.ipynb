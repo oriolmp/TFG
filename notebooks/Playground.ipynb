{
 "cells": [
  {
   "cell_type": "code",
   "execution_count": 3,
   "id": "65082436",
   "metadata": {
    "tags": []
   },
   "outputs": [],
   "source": [
    "import torch\n",
    "import torch.nn as nn\n",
    "import pandas as pd\n",
    "import numpy as np"
   ]
  },
  {
   "cell_type": "markdown",
   "id": "3e301dc9",
   "metadata": {},
   "source": [
    "### Labels exploration"
   ]
  },
  {
   "cell_type": "code",
   "execution_count": 4,
   "id": "a51dda77-6258-4cb4-8695-d8f1b2fb8c3a",
   "metadata": {
    "tags": []
   },
   "outputs": [],
   "source": [
    "CSV_NAME = 'EPIC_100_train.csv'"
   ]
  },
  {
   "cell_type": "code",
   "execution_count": 6,
   "id": "2cad68d4-4b22-4cf1-914d-cd10b1128366",
   "metadata": {
    "tags": []
   },
   "outputs": [],
   "source": [
    "df = pd.read_csv(CSV_NAME)\n",
    "df.head(1)"
   ]
  },
  {
   "cell_type": "code",
   "execution_count": 15,
   "id": "0f27caca-8876-4583-b5e9-be2fc56ab56e",
   "metadata": {
    "tags": []
   },
   "outputs": [
    {
     "data": {
      "text/plain": [
       "array([ 3,  6,  0,  5,  1,  4, 10,  7, 59, 77, 13, 23,  9, 38, 17, 28, 12,\n",
       "        2, 72, 16, 35, 60,  8, 37, 18, 14, 11, 20, 39, 31, 15, 41, 22, 45,\n",
       "       24, 42, 19, 34, 51, 27, 53, 52, 48, 47, 87, 64, 71, 49, 32, 21, 33,\n",
       "       56, 44, 73, 25, 63, 30, 36, 82, 67, 26, 50, 89, 46, 61, 70, 76, 68,\n",
       "       74, 40, 55, 86, 43, 91, 57, 66, 83, 94, 81, 29, 65, 58, 78, 62, 95,\n",
       "       54, 85, 88, 69, 75, 79, 84, 80, 92, 96, 90, 93], dtype=int64)"
      ]
     },
     "execution_count": 15,
     "metadata": {},
     "output_type": "execute_result"
    }
   ],
   "source": [
    "df['verb_class'].unique()"
   ]
  },
  {
   "cell_type": "code",
   "execution_count": 32,
   "id": "18c5104a-e094-4730-a88b-d179d363293b",
   "metadata": {
    "tags": []
   },
   "outputs": [
    {
     "data": {
      "text/html": [
       "<div>\n",
       "<style scoped>\n",
       "    .dataframe tbody tr th:only-of-type {\n",
       "        vertical-align: middle;\n",
       "    }\n",
       "\n",
       "    .dataframe tbody tr th {\n",
       "        vertical-align: top;\n",
       "    }\n",
       "\n",
       "    .dataframe thead th {\n",
       "        text-align: right;\n",
       "    }\n",
       "</style>\n",
       "<table border=\"1\" class=\"dataframe\">\n",
       "  <thead>\n",
       "    <tr style=\"text-align: right;\">\n",
       "      <th></th>\n",
       "      <th>participant_id</th>\n",
       "      <th>video_id</th>\n",
       "      <th>start_frame</th>\n",
       "      <th>stop_frame</th>\n",
       "      <th>verb_class</th>\n",
       "    </tr>\n",
       "  </thead>\n",
       "  <tbody>\n",
       "    <tr>\n",
       "      <th>0</th>\n",
       "      <td>P01</td>\n",
       "      <td>P01_01</td>\n",
       "      <td>8</td>\n",
       "      <td>202</td>\n",
       "      <td>3</td>\n",
       "    </tr>\n",
       "    <tr>\n",
       "      <th>1</th>\n",
       "      <td>P01</td>\n",
       "      <td>P01_01</td>\n",
       "      <td>262</td>\n",
       "      <td>370</td>\n",
       "      <td>6</td>\n",
       "    </tr>\n",
       "    <tr>\n",
       "      <th>2</th>\n",
       "      <td>P01</td>\n",
       "      <td>P01_01</td>\n",
       "      <td>1498</td>\n",
       "      <td>1572</td>\n",
       "      <td>3</td>\n",
       "    </tr>\n",
       "    <tr>\n",
       "      <th>3</th>\n",
       "      <td>P01</td>\n",
       "      <td>P01_01</td>\n",
       "      <td>28785</td>\n",
       "      <td>28852</td>\n",
       "      <td>0</td>\n",
       "    </tr>\n",
       "    <tr>\n",
       "      <th>4</th>\n",
       "      <td>P01</td>\n",
       "      <td>P01_01</td>\n",
       "      <td>28888</td>\n",
       "      <td>28932</td>\n",
       "      <td>3</td>\n",
       "    </tr>\n",
       "    <tr>\n",
       "      <th>...</th>\n",
       "      <td>...</td>\n",
       "      <td>...</td>\n",
       "      <td>...</td>\n",
       "      <td>...</td>\n",
       "      <td>...</td>\n",
       "    </tr>\n",
       "    <tr>\n",
       "      <th>67212</th>\n",
       "      <td>P37</td>\n",
       "      <td>P37_103</td>\n",
       "      <td>18858</td>\n",
       "      <td>18883</td>\n",
       "      <td>8</td>\n",
       "    </tr>\n",
       "    <tr>\n",
       "      <th>67213</th>\n",
       "      <td>P37</td>\n",
       "      <td>P37_103</td>\n",
       "      <td>18893</td>\n",
       "      <td>19188</td>\n",
       "      <td>0</td>\n",
       "    </tr>\n",
       "    <tr>\n",
       "      <th>67214</th>\n",
       "      <td>P37</td>\n",
       "      <td>P37_103</td>\n",
       "      <td>19172</td>\n",
       "      <td>19633</td>\n",
       "      <td>9</td>\n",
       "    </tr>\n",
       "    <tr>\n",
       "      <th>67215</th>\n",
       "      <td>P37</td>\n",
       "      <td>P37_103</td>\n",
       "      <td>2028</td>\n",
       "      <td>2209</td>\n",
       "      <td>30</td>\n",
       "    </tr>\n",
       "    <tr>\n",
       "      <th>67216</th>\n",
       "      <td>P37</td>\n",
       "      <td>P37_103</td>\n",
       "      <td>2342</td>\n",
       "      <td>2732</td>\n",
       "      <td>30</td>\n",
       "    </tr>\n",
       "  </tbody>\n",
       "</table>\n",
       "<p>67217 rows × 5 columns</p>\n",
       "</div>"
      ],
      "text/plain": [
       "      participant_id video_id  start_frame  stop_frame  verb_class\n",
       "0                P01   P01_01            8         202           3\n",
       "1                P01   P01_01          262         370           6\n",
       "2                P01   P01_01         1498        1572           3\n",
       "3                P01   P01_01        28785       28852           0\n",
       "4                P01   P01_01        28888       28932           3\n",
       "...              ...      ...          ...         ...         ...\n",
       "67212            P37  P37_103        18858       18883           8\n",
       "67213            P37  P37_103        18893       19188           0\n",
       "67214            P37  P37_103        19172       19633           9\n",
       "67215            P37  P37_103         2028        2209          30\n",
       "67216            P37  P37_103         2342        2732          30\n",
       "\n",
       "[67217 rows x 5 columns]"
      ]
     },
     "execution_count": 32,
     "metadata": {},
     "output_type": "execute_result"
    }
   ],
   "source": [
    "columns = ['participant_id', 'video_id', 'start_frame', 'stop_frame', 'verb_class']\n",
    "clip_df = df[columns]\n",
    "clip_df"
   ]
  },
  {
   "cell_type": "code",
   "execution_count": 35,
   "id": "5bc03ec5-2e8d-495e-8005-d68025da0fd2",
   "metadata": {
    "tags": []
   },
   "outputs": [
    {
     "data": {
      "text/plain": [
       "participant_id       P01\n",
       "video_id          P01_01\n",
       "start_frame            8\n",
       "stop_frame           202\n",
       "verb_class             3\n",
       "Name: 0, dtype: object"
      ]
     },
     "execution_count": 35,
     "metadata": {},
     "output_type": "execute_result"
    }
   ],
   "source": [
    "clip_info = clip_df.iloc[0]\n",
    "clip_info"
   ]
  },
  {
   "cell_type": "code",
   "execution_count": 29,
   "id": "a07fd822-aed9-490a-8432-0c23931e26a9",
   "metadata": {
    "tags": []
   },
   "outputs": [],
   "source": []
  },
  {
   "cell_type": "code",
   "execution_count": 38,
   "id": "8122475c-c6c2-4d10-9e31-5d6a307a3532",
   "metadata": {
    "tags": []
   },
   "outputs": [],
   "source": [
    "middel_frame = clip_info['start_frame'] + (clip_info['stop_frame'] - clip_info['start_frame']) // 2\n",
    "clip_frames = (middel_frame - 30 // 2, middel_frame + 30 // 2)\n",
    "clip_paths = ['home/' + 'frame_' + str(x).rjust(10, '0') + '.jpg' for x in range(clip_frames[0], clip_frames[1])]"
   ]
  },
  {
   "cell_type": "code",
   "execution_count": 39,
   "id": "3009eec2-7885-494c-b4f6-47d15cfc3377",
   "metadata": {
    "tags": []
   },
   "outputs": [
    {
     "name": "stdout",
     "output_type": "stream",
     "text": [
      "home/frame_0000000090.jpg\n",
      "home/frame_0000000091.jpg\n",
      "home/frame_0000000092.jpg\n",
      "home/frame_0000000093.jpg\n",
      "home/frame_0000000094.jpg\n",
      "home/frame_0000000095.jpg\n",
      "home/frame_0000000096.jpg\n",
      "home/frame_0000000097.jpg\n",
      "home/frame_0000000098.jpg\n",
      "home/frame_0000000099.jpg\n",
      "home/frame_0000000100.jpg\n",
      "home/frame_0000000101.jpg\n",
      "home/frame_0000000102.jpg\n",
      "home/frame_0000000103.jpg\n",
      "home/frame_0000000104.jpg\n",
      "home/frame_0000000105.jpg\n",
      "home/frame_0000000106.jpg\n",
      "home/frame_0000000107.jpg\n",
      "home/frame_0000000108.jpg\n",
      "home/frame_0000000109.jpg\n",
      "home/frame_0000000110.jpg\n",
      "home/frame_0000000111.jpg\n",
      "home/frame_0000000112.jpg\n",
      "home/frame_0000000113.jpg\n",
      "home/frame_0000000114.jpg\n",
      "home/frame_0000000115.jpg\n",
      "home/frame_0000000116.jpg\n",
      "home/frame_0000000117.jpg\n",
      "home/frame_0000000118.jpg\n",
      "home/frame_0000000119.jpg\n"
     ]
    }
   ],
   "source": [
    "for path in clip_paths:\n",
    "    print(path)"
   ]
  },
  {
   "cell_type": "code",
   "execution_count": null,
   "id": "fe5dc901-cf52-4717-b836-116f8088685f",
   "metadata": {},
   "outputs": [],
   "source": []
  }
 ],
 "metadata": {
  "kernelspec": {
   "display_name": "Python 3 (ipykernel)",
   "language": "python",
   "name": "python3"
  },
  "language_info": {
   "codemirror_mode": {
    "name": "ipython",
    "version": 3
   },
   "file_extension": ".py",
   "mimetype": "text/x-python",
   "name": "python",
   "nbconvert_exporter": "python",
   "pygments_lexer": "ipython3",
   "version": "3.10.9"
  }
 },
 "nbformat": 4,
 "nbformat_minor": 5
}

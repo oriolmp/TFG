{
 "cells": [
  {
   "cell_type": "code",
   "execution_count": 2,
   "id": "65082436",
   "metadata": {},
   "outputs": [],
   "source": [
    "import torch\n",
    "import torch.nn as nn\n",
    "from sklearn.feature_extraction import image\n",
    "from sklearn.datasets import load_sample_image\n",
    "import numpy as np"
   ]
  },
  {
   "cell_type": "markdown",
   "id": "3e301dc9",
   "metadata": {},
   "source": [
    "### 0. Get patch from image"
   ]
  },
  {
   "cell_type": "code",
   "execution_count": 10,
   "id": "eb3f77bb",
   "metadata": {},
   "outputs": [],
   "source": [
    "img = load_sample_image('china.jpg')"
   ]
  },
  {
   "cell_type": "code",
   "execution_count": 12,
   "id": "6e8f268a",
   "metadata": {},
   "outputs": [
    {
     "data": {
      "text/plain": [
       "(427, 640, 3)"
      ]
     },
     "execution_count": 12,
     "metadata": {},
     "output_type": "execute_result"
    }
   ],
   "source": [
    "img.shape"
   ]
  },
  {
   "cell_type": "code",
   "execution_count": 13,
   "id": "3071a61c",
   "metadata": {},
   "outputs": [],
   "source": [
    "patches = image.extract_patches_2d(img, (16, 16))"
   ]
  },
  {
   "cell_type": "code",
   "execution_count": 15,
   "id": "3a8afccf",
   "metadata": {},
   "outputs": [
    {
     "data": {
      "text/plain": [
       "(257500, 16, 16, 3)"
      ]
     },
     "execution_count": 15,
     "metadata": {},
     "output_type": "execute_result"
    }
   ],
   "source": [
    "patches.shape"
   ]
  },
  {
   "cell_type": "code",
   "execution_count": 17,
   "id": "6c255e29",
   "metadata": {},
   "outputs": [
    {
     "data": {
      "text/plain": [
       "(16, 16, 3)"
      ]
     },
     "execution_count": 17,
     "metadata": {},
     "output_type": "execute_result"
    }
   ],
   "source": [
    "patches[0].shape"
   ]
  },
  {
   "cell_type": "code",
   "execution_count": 117,
   "id": "9c8e30d8",
   "metadata": {},
   "outputs": [
    {
     "data": {
      "text/plain": [
       "torch.Size([3, 16, 16])"
      ]
     },
     "execution_count": 117,
     "metadata": {},
     "output_type": "execute_result"
    }
   ],
   "source": [
    "patch = patches[0]\n",
    "x = torch.tensor(patch)\n",
    "x = x.type(torch.float32)\n",
    "x = x.permute(2, 0, 1)\n",
    "x.shape"
   ]
  },
  {
   "cell_type": "markdown",
   "id": "d7234e85",
   "metadata": {},
   "source": [
    "### 1. Define modules classes"
   ]
  },
  {
   "cell_type": "code",
   "execution_count": 61,
   "id": "3b20269f",
   "metadata": {},
   "outputs": [],
   "source": [
    "class PatchTokenization(nn.Module):\n",
    "    def __init__(self, patch_size=16, chanels=3, embed_dim=768):  # embed_dim = 16x16x3\n",
    "        super().__init__()\n",
    "        self.proj = nn.Conv2d(chanels, embed_dim, kernel_size=patch_size, stride=patch_size)\n",
    "\n",
    "    def forward(self, x):\n",
    "        x = self.proj(x)\n",
    "        return x"
   ]
  },
  {
   "cell_type": "code",
   "execution_count": 62,
   "id": "869aeabd",
   "metadata": {},
   "outputs": [],
   "source": [
    "patching = PatchTokenization()"
   ]
  },
  {
   "cell_type": "code",
   "execution_count": 159,
   "id": "a40e921f",
   "metadata": {},
   "outputs": [],
   "source": [
    "class MultiHeadAttention(nn.Module):\n",
    "    def __init__(self, dim, num_heads=8, proj_drop=0., attn_drop=0.):\n",
    "        super().__init__()\n",
    "        self.num_heads = num_heads\n",
    "        # self.head_dim = dim // num_heads\n",
    "        self.qkv = nn.Linear(dim, dim * 3)  # (B, N, C) -> (B, N, C * 3)\n",
    "        self.proj = nn.Linear(dim, dim)\n",
    "        self.proj_drop = nn.Dropout(proj_drop)\n",
    "        self.attn_drop = nn.Dropout(attn_drop)\n",
    "\n",
    "    def forward(self, x):\n",
    "        B, N, C = x.shape\n",
    "        qkv = self.qkv(x)\n",
    "        print(f'qkv size: {qkv.size()}')\n",
    "        qkv = qkv.reshape(B, N, 3, self.num_heads, C // self.num_heads)\n",
    "        print(f'qkv reshaped size: {qkv.size()}')\n",
    "        qkv = qkv.permute(2, 0, 3, 1, 4)  # (3, head, C/head, W, H)\n",
    "        q, k, v = qkv[0], qkv[1], qkv[2]\n",
    "\n",
    "        print(f'q size: {q.size()}')\n",
    "        print(f'k size: {k.size()}')\n",
    "        print(f'v size: {v.size()}')\n",
    "        attn = q @ k.transpose(-2, -1)\n",
    "        # attn = attn * (self.head_dim ** -0.5)\n",
    "        print(f'attn size: {attn.size()}')\n",
    "        attn = attn.softmax(dim=-1)\n",
    "        attn = self.attn_drop(attn)\n",
    "\n",
    "        # x = torch.mul(attn, v)\n",
    "        x = (attn @ v).transpose(1, 2)\n",
    "        print(f'attn * v size: {x.size()}')\n",
    "        x = x.reshape(B, N, C)\n",
    "        x = self.proj(x)\n",
    "        x = self.proj_drop(x)\n",
    "\n",
    "        return x"
   ]
  },
  {
   "cell_type": "code",
   "execution_count": 160,
   "id": "b3d2624e",
   "metadata": {},
   "outputs": [],
   "source": [
    "attention = MultiHeadAttention(dim=768)"
   ]
  },
  {
   "cell_type": "code",
   "execution_count": 23,
   "id": "7106e3f9",
   "metadata": {},
   "outputs": [],
   "source": [
    "class MLP(nn.Module):\n",
    "    def __init__(self, in_features, hidden_features=None, out_features=None, act_layer=nn.GELU, drop=0.):\n",
    "        super().__init__()\n",
    "        self.fc1 = nn.Linear(in_features, hidden_features)\n",
    "        self.act = act_layer()\n",
    "        self.fc2 = nn.Linear(hidden_features, out_features)\n",
    "        self.drop = nn.Dropout(drop)\n",
    "\n",
    "    def forward(self, x):\n",
    "        x = self.fc1(x)\n",
    "        x = self.act(x)\n",
    "        x = self.drop(x)\n",
    "        x = self.fc2(x)\n",
    "        x = self.drop(x)\n",
    "\n",
    "        return x "
   ]
  },
  {
   "cell_type": "markdown",
   "id": "ca59ed71",
   "metadata": {},
   "source": [
    "### 2. Patch trough architecture"
   ]
  },
  {
   "cell_type": "code",
   "execution_count": 120,
   "id": "782257a8",
   "metadata": {},
   "outputs": [],
   "source": [
    "x = patching.forward(x) "
   ]
  },
  {
   "cell_type": "code",
   "execution_count": 122,
   "id": "52399315",
   "metadata": {},
   "outputs": [
    {
     "data": {
      "text/plain": [
       "torch.Size([768, 1, 1])"
      ]
     },
     "execution_count": 122,
     "metadata": {},
     "output_type": "execute_result"
    }
   ],
   "source": [
    "x.size()"
   ]
  },
  {
   "cell_type": "code",
   "execution_count": 131,
   "id": "4acb35ca",
   "metadata": {},
   "outputs": [],
   "source": [
    "z = x.swapaxes(0, 2)"
   ]
  },
  {
   "cell_type": "code",
   "execution_count": 132,
   "id": "b365efe7",
   "metadata": {},
   "outputs": [
    {
     "data": {
      "text/plain": [
       "torch.Size([1, 1, 768])"
      ]
     },
     "execution_count": 132,
     "metadata": {},
     "output_type": "execute_result"
    }
   ],
   "source": [
    "z.size()"
   ]
  },
  {
   "cell_type": "code",
   "execution_count": 137,
   "id": "d7e335f5",
   "metadata": {},
   "outputs": [
    {
     "name": "stdout",
     "output_type": "stream",
     "text": [
      "1 1 768\n"
     ]
    }
   ],
   "source": [
    "A, B, C = z.shape\n",
    "print(A, B, C)"
   ]
  },
  {
   "cell_type": "code",
   "execution_count": 161,
   "id": "92287999",
   "metadata": {},
   "outputs": [
    {
     "name": "stdout",
     "output_type": "stream",
     "text": [
      "qkv size: torch.Size([1, 1, 2304])\n",
      "qkv reshaped size: torch.Size([1, 1, 3, 8, 96])\n",
      "q size: torch.Size([1, 8, 1, 96])\n",
      "k size: torch.Size([1, 8, 1, 96])\n",
      "v size: torch.Size([1, 8, 1, 96])\n",
      "attn size: torch.Size([1, 8, 1, 1])\n",
      "attn * v size: torch.Size([1, 1, 8, 96])\n"
     ]
    }
   ],
   "source": [
    "y = attention.forward(z)"
   ]
  },
  {
   "cell_type": "code",
   "execution_count": 162,
   "id": "0ef13de9",
   "metadata": {},
   "outputs": [
    {
     "name": "stdout",
     "output_type": "stream",
     "text": [
      "torch.Size([1, 1, 768])\n"
     ]
    }
   ],
   "source": [
    "print(y.size())"
   ]
  },
  {
   "cell_type": "code",
   "execution_count": null,
   "id": "011b56a1",
   "metadata": {},
   "outputs": [],
   "source": []
  }
 ],
 "metadata": {
  "kernelspec": {
   "display_name": "Python 3 (ipykernel)",
   "language": "python",
   "name": "python3"
  },
  "language_info": {
   "codemirror_mode": {
    "name": "ipython",
    "version": 3
   },
   "file_extension": ".py",
   "mimetype": "text/x-python",
   "name": "python",
   "nbconvert_exporter": "python",
   "pygments_lexer": "ipython3",
   "version": "3.10.9"
  }
 },
 "nbformat": 4,
 "nbformat_minor": 5
}

{
 "cells": [
  {
   "cell_type": "code",
   "execution_count": 1,
   "id": "65082436",
   "metadata": {
    "tags": []
   },
   "outputs": [],
   "source": [
    "import torch\n",
    "import torch.nn as nn\n",
    "import pandas as pd\n",
    "import numpy as np\n",
    "import torchvision.transforms as T\n",
    "import torch.nn.functional as F\n",
    "from einops import rearrange\n",
    "from PIL import Image\n",
    "import numpy as np\n",
    "import matplotlib.pyplot as plt\n",
    "import csv\n",
    "from sklearn.metrics import confusion_matrix, balanced_accuracy_score\n",
    "from torch.linalg import matrix_rank"
   ]
  },
  {
   "cell_type": "markdown",
   "id": "3e301dc9",
   "metadata": {},
   "source": [
    "### Annotations file exploration"
   ]
  },
  {
   "cell_type": "code",
   "execution_count": 2,
   "id": "a51dda77-6258-4cb4-8695-d8f1b2fb8c3a",
   "metadata": {
    "tags": []
   },
   "outputs": [],
   "source": [
    "TRAIN_CSV = 'EPIC_100_train.csv'\n",
    "VAL_CSV = 'EPIC_100_validation.csv'"
   ]
  },
  {
   "cell_type": "markdown",
   "id": "8ad419d5-97b1-4552-b535-3c53d8782433",
   "metadata": {
    "tags": []
   },
   "source": [
    "### Train df"
   ]
  },
  {
   "cell_type": "code",
   "execution_count": 3,
   "id": "2cad68d4-4b22-4cf1-914d-cd10b1128366",
   "metadata": {
    "tags": []
   },
   "outputs": [
    {
     "data": {
      "text/html": [
       "<div>\n",
       "<style scoped>\n",
       "    .dataframe tbody tr th:only-of-type {\n",
       "        vertical-align: middle;\n",
       "    }\n",
       "\n",
       "    .dataframe tbody tr th {\n",
       "        vertical-align: top;\n",
       "    }\n",
       "\n",
       "    .dataframe thead th {\n",
       "        text-align: right;\n",
       "    }\n",
       "</style>\n",
       "<table border=\"1\" class=\"dataframe\">\n",
       "  <thead>\n",
       "    <tr style=\"text-align: right;\">\n",
       "      <th></th>\n",
       "      <th>narration_id</th>\n",
       "      <th>participant_id</th>\n",
       "      <th>video_id</th>\n",
       "      <th>narration_timestamp</th>\n",
       "      <th>start_timestamp</th>\n",
       "      <th>stop_timestamp</th>\n",
       "      <th>start_frame</th>\n",
       "      <th>stop_frame</th>\n",
       "      <th>narration</th>\n",
       "      <th>verb</th>\n",
       "      <th>verb_class</th>\n",
       "      <th>noun</th>\n",
       "      <th>noun_class</th>\n",
       "      <th>all_nouns</th>\n",
       "      <th>all_noun_classes</th>\n",
       "    </tr>\n",
       "  </thead>\n",
       "  <tbody>\n",
       "    <tr>\n",
       "      <th>0</th>\n",
       "      <td>P01_01_0</td>\n",
       "      <td>P01</td>\n",
       "      <td>P01_01</td>\n",
       "      <td>00:00:01.089</td>\n",
       "      <td>00:00:00.14</td>\n",
       "      <td>00:00:03.37</td>\n",
       "      <td>8</td>\n",
       "      <td>202</td>\n",
       "      <td>open door</td>\n",
       "      <td>open</td>\n",
       "      <td>3</td>\n",
       "      <td>door</td>\n",
       "      <td>3</td>\n",
       "      <td>['door']</td>\n",
       "      <td>[3]</td>\n",
       "    </tr>\n",
       "    <tr>\n",
       "      <th>1</th>\n",
       "      <td>P01_01_1</td>\n",
       "      <td>P01</td>\n",
       "      <td>P01_01</td>\n",
       "      <td>00:00:02.629</td>\n",
       "      <td>00:00:04.37</td>\n",
       "      <td>00:00:06.17</td>\n",
       "      <td>262</td>\n",
       "      <td>370</td>\n",
       "      <td>turn on light</td>\n",
       "      <td>turn-on</td>\n",
       "      <td>6</td>\n",
       "      <td>light</td>\n",
       "      <td>114</td>\n",
       "      <td>['light']</td>\n",
       "      <td>[114]</td>\n",
       "    </tr>\n",
       "    <tr>\n",
       "      <th>2</th>\n",
       "      <td>P01_01_10</td>\n",
       "      <td>P01</td>\n",
       "      <td>P01_01</td>\n",
       "      <td>00:00:23.340</td>\n",
       "      <td>00:00:24.97</td>\n",
       "      <td>00:00:26.20</td>\n",
       "      <td>1498</td>\n",
       "      <td>1572</td>\n",
       "      <td>open drawer</td>\n",
       "      <td>open</td>\n",
       "      <td>3</td>\n",
       "      <td>drawer</td>\n",
       "      <td>8</td>\n",
       "      <td>['drawer']</td>\n",
       "      <td>[8]</td>\n",
       "    </tr>\n",
       "    <tr>\n",
       "      <th>3</th>\n",
       "      <td>P01_01_100</td>\n",
       "      <td>P01</td>\n",
       "      <td>P01_01</td>\n",
       "      <td>00:07:57.919</td>\n",
       "      <td>00:07:59.75</td>\n",
       "      <td>00:08:00.88</td>\n",
       "      <td>28785</td>\n",
       "      <td>28852</td>\n",
       "      <td>take cup</td>\n",
       "      <td>take</td>\n",
       "      <td>0</td>\n",
       "      <td>cup</td>\n",
       "      <td>13</td>\n",
       "      <td>['cup']</td>\n",
       "      <td>[13]</td>\n",
       "    </tr>\n",
       "    <tr>\n",
       "      <th>4</th>\n",
       "      <td>P01_01_101</td>\n",
       "      <td>P01</td>\n",
       "      <td>P01_01</td>\n",
       "      <td>00:08:00.020</td>\n",
       "      <td>00:08:01.47</td>\n",
       "      <td>00:08:02.21</td>\n",
       "      <td>28888</td>\n",
       "      <td>28932</td>\n",
       "      <td>open cupboard</td>\n",
       "      <td>open</td>\n",
       "      <td>3</td>\n",
       "      <td>cupboard</td>\n",
       "      <td>3</td>\n",
       "      <td>['cupboard']</td>\n",
       "      <td>[3]</td>\n",
       "    </tr>\n",
       "  </tbody>\n",
       "</table>\n",
       "</div>"
      ],
      "text/plain": [
       "  narration_id participant_id video_id narration_timestamp start_timestamp   \n",
       "0     P01_01_0            P01   P01_01        00:00:01.089     00:00:00.14  \\\n",
       "1     P01_01_1            P01   P01_01        00:00:02.629     00:00:04.37   \n",
       "2    P01_01_10            P01   P01_01        00:00:23.340     00:00:24.97   \n",
       "3   P01_01_100            P01   P01_01        00:07:57.919     00:07:59.75   \n",
       "4   P01_01_101            P01   P01_01        00:08:00.020     00:08:01.47   \n",
       "\n",
       "  stop_timestamp  start_frame  stop_frame      narration     verb  verb_class   \n",
       "0    00:00:03.37            8         202      open door     open           3  \\\n",
       "1    00:00:06.17          262         370  turn on light  turn-on           6   \n",
       "2    00:00:26.20         1498        1572    open drawer     open           3   \n",
       "3    00:08:00.88        28785       28852       take cup     take           0   \n",
       "4    00:08:02.21        28888       28932  open cupboard     open           3   \n",
       "\n",
       "       noun  noun_class     all_nouns all_noun_classes  \n",
       "0      door           3      ['door']              [3]  \n",
       "1     light         114     ['light']            [114]  \n",
       "2    drawer           8    ['drawer']              [8]  \n",
       "3       cup          13       ['cup']             [13]  \n",
       "4  cupboard           3  ['cupboard']              [3]  "
      ]
     },
     "execution_count": 3,
     "metadata": {},
     "output_type": "execute_result"
    }
   ],
   "source": [
    "df = pd.read_csv(TRAIN_CSV)\n",
    "df.head(5)"
   ]
  },
  {
   "cell_type": "code",
   "execution_count": 4,
   "id": "3dc56146-54be-4ec3-aa34-913d86bd1ceb",
   "metadata": {
    "tags": []
   },
   "outputs": [
    {
     "data": {
      "text/plain": [
       "(67217, 15)"
      ]
     },
     "execution_count": 4,
     "metadata": {},
     "output_type": "execute_result"
    }
   ],
   "source": [
    "df.shape"
   ]
  },
  {
   "cell_type": "code",
   "execution_count": 7,
   "id": "cb3583a0-6618-4f68-88bc-96d5d2d2e139",
   "metadata": {
    "tags": []
   },
   "outputs": [
    {
     "data": {
      "text/plain": [
       "7    put-on\n",
       "Name: verb, dtype: object"
      ]
     },
     "execution_count": 7,
     "metadata": {},
     "output_type": "execute_result"
    }
   ],
   "source": [
    "df['verb'][df['verb_class']==1].head(1)"
   ]
  },
  {
   "cell_type": "code",
   "execution_count": 5,
   "id": "e77942fd-e43c-4da0-a863-a58fce8f4fc9",
   "metadata": {
    "tags": []
   },
   "outputs": [
    {
     "data": {
      "text/html": [
       "<div>\n",
       "<style scoped>\n",
       "    .dataframe tbody tr th:only-of-type {\n",
       "        vertical-align: middle;\n",
       "    }\n",
       "\n",
       "    .dataframe tbody tr th {\n",
       "        vertical-align: top;\n",
       "    }\n",
       "\n",
       "    .dataframe thead th {\n",
       "        text-align: right;\n",
       "    }\n",
       "</style>\n",
       "<table border=\"1\" class=\"dataframe\">\n",
       "  <thead>\n",
       "    <tr style=\"text-align: right;\">\n",
       "      <th></th>\n",
       "      <th>narration_id</th>\n",
       "      <th>participant_id</th>\n",
       "      <th>video_id</th>\n",
       "      <th>narration_timestamp</th>\n",
       "      <th>start_timestamp</th>\n",
       "      <th>stop_timestamp</th>\n",
       "      <th>start_frame</th>\n",
       "      <th>stop_frame</th>\n",
       "      <th>narration</th>\n",
       "      <th>verb</th>\n",
       "      <th>verb_class</th>\n",
       "      <th>noun</th>\n",
       "      <th>noun_class</th>\n",
       "      <th>all_nouns</th>\n",
       "      <th>all_noun_classes</th>\n",
       "    </tr>\n",
       "  </thead>\n",
       "  <tbody>\n",
       "    <tr>\n",
       "      <th>0</th>\n",
       "      <td>P01_01_0</td>\n",
       "      <td>P01</td>\n",
       "      <td>P01_01</td>\n",
       "      <td>00:00:01.089</td>\n",
       "      <td>00:00:00.14</td>\n",
       "      <td>00:00:03.37</td>\n",
       "      <td>8</td>\n",
       "      <td>202</td>\n",
       "      <td>open door</td>\n",
       "      <td>open</td>\n",
       "      <td>3</td>\n",
       "      <td>door</td>\n",
       "      <td>3</td>\n",
       "      <td>['door']</td>\n",
       "      <td>[3]</td>\n",
       "    </tr>\n",
       "  </tbody>\n",
       "</table>\n",
       "</div>"
      ],
      "text/plain": [
       "  narration_id participant_id video_id narration_timestamp start_timestamp   \n",
       "0     P01_01_0            P01   P01_01        00:00:01.089     00:00:00.14  \\\n",
       "\n",
       "  stop_timestamp  start_frame  stop_frame  narration  verb  verb_class  noun   \n",
       "0    00:00:03.37            8         202  open door  open           3  door  \\\n",
       "\n",
       "   noun_class all_nouns all_noun_classes  \n",
       "0           3  ['door']              [3]  "
      ]
     },
     "execution_count": 5,
     "metadata": {},
     "output_type": "execute_result"
    }
   ],
   "source": [
    "df_1 = df[df['verb_class']==3]\n",
    "df_1.head(1)"
   ]
  },
  {
   "cell_type": "code",
   "execution_count": 6,
   "id": "0f27caca-8876-4583-b5e9-be2fc56ab56e",
   "metadata": {
    "tags": []
   },
   "outputs": [
    {
     "data": {
      "text/plain": [
       "array([ 3,  6,  0,  5,  1,  4, 10,  7, 59, 77, 13, 23,  9, 38, 17, 28, 12,\n",
       "        2, 72, 16, 35, 60,  8, 37, 18, 14, 11, 20, 39, 31, 15, 41, 22, 45,\n",
       "       24, 42, 19, 34, 51, 27, 53, 52, 48, 47, 87, 64, 71, 49, 32, 21, 33,\n",
       "       56, 44, 73, 25, 63, 30, 36, 82, 67, 26, 50, 89, 46, 61, 70, 76, 68,\n",
       "       74, 40, 55, 86, 43, 91, 57, 66, 83, 94, 81, 29, 65, 58, 78, 62, 95,\n",
       "       54, 85, 88, 69, 75, 79, 84, 80, 92, 96, 90, 93], dtype=int64)"
      ]
     },
     "execution_count": 6,
     "metadata": {},
     "output_type": "execute_result"
    }
   ],
   "source": [
    "df['verb_class'].unique()"
   ]
  },
  {
   "cell_type": "code",
   "execution_count": 7,
   "id": "8ec5806a-1190-4bda-a07d-2980b6f1a4af",
   "metadata": {
    "tags": []
   },
   "outputs": [
    {
     "data": {
      "text/plain": [
       "verb_class\n",
       "0     14848\n",
       "1     12225\n",
       "2      6927\n",
       "3      4870\n",
       "4      3483\n",
       "      ...  \n",
       "94        3\n",
       "95        2\n",
       "96        2\n",
       "90        2\n",
       "93        1\n",
       "Name: count, Length: 97, dtype: int64"
      ]
     },
     "execution_count": 7,
     "metadata": {},
     "output_type": "execute_result"
    }
   ],
   "source": [
    "df['verb_class'].value_counts()"
   ]
  },
  {
   "cell_type": "code",
   "execution_count": 8,
   "id": "b390686c-b92a-4ce3-87a4-77363388834c",
   "metadata": {
    "tags": []
   },
   "outputs": [
    {
     "data": {
      "text/plain": [
       "<Axes: title={'center': 'Training labels'}, xlabel='Label', ylabel='Frequency'>"
      ]
     },
     "execution_count": 8,
     "metadata": {},
     "output_type": "execute_result"
    },
    {
     "data": {
      "image/png": "[encoded data removed]",
      "text/plain": [
       "<Figure size 640x480 with 1 Axes>"
      ]
     },
     "metadata": {},
     "output_type": "display_data"
    }
   ],
   "source": [
    "df['verb_class'].plot(kind='hist', bins=98, title='Training labels', xticks=[5*x for x in range(20)], xlabel='Label', align='left')"
   ]
  },
  {
   "cell_type": "code",
   "execution_count": 9,
   "id": "18c5104a-e094-4730-a88b-d179d363293b",
   "metadata": {
    "tags": []
   },
   "outputs": [
    {
     "data": {
      "text/html": [
       "<div>\n",
       "<style scoped>\n",
       "    .dataframe tbody tr th:only-of-type {\n",
       "        vertical-align: middle;\n",
       "    }\n",
       "\n",
       "    .dataframe tbody tr th {\n",
       "        vertical-align: top;\n",
       "    }\n",
       "\n",
       "    .dataframe thead th {\n",
       "        text-align: right;\n",
       "    }\n",
       "</style>\n",
       "<table border=\"1\" class=\"dataframe\">\n",
       "  <thead>\n",
       "    <tr style=\"text-align: right;\">\n",
       "      <th></th>\n",
       "      <th>participant_id</th>\n",
       "      <th>video_id</th>\n",
       "      <th>start_frame</th>\n",
       "      <th>stop_frame</th>\n",
       "      <th>verb_class</th>\n",
       "    </tr>\n",
       "  </thead>\n",
       "  <tbody>\n",
       "    <tr>\n",
       "      <th>0</th>\n",
       "      <td>P01</td>\n",
       "      <td>P01_01</td>\n",
       "      <td>8</td>\n",
       "      <td>202</td>\n",
       "      <td>3</td>\n",
       "    </tr>\n",
       "    <tr>\n",
       "      <th>1</th>\n",
       "      <td>P01</td>\n",
       "      <td>P01_01</td>\n",
       "      <td>262</td>\n",
       "      <td>370</td>\n",
       "      <td>6</td>\n",
       "    </tr>\n",
       "    <tr>\n",
       "      <th>2</th>\n",
       "      <td>P01</td>\n",
       "      <td>P01_01</td>\n",
       "      <td>1498</td>\n",
       "      <td>1572</td>\n",
       "      <td>3</td>\n",
       "    </tr>\n",
       "    <tr>\n",
       "      <th>3</th>\n",
       "      <td>P01</td>\n",
       "      <td>P01_01</td>\n",
       "      <td>28785</td>\n",
       "      <td>28852</td>\n",
       "      <td>0</td>\n",
       "    </tr>\n",
       "    <tr>\n",
       "      <th>4</th>\n",
       "      <td>P01</td>\n",
       "      <td>P01_01</td>\n",
       "      <td>28888</td>\n",
       "      <td>28932</td>\n",
       "      <td>3</td>\n",
       "    </tr>\n",
       "  </tbody>\n",
       "</table>\n",
       "</div>"
      ],
      "text/plain": [
       "  participant_id video_id  start_frame  stop_frame  verb_class\n",
       "0            P01   P01_01            8         202           3\n",
       "1            P01   P01_01          262         370           6\n",
       "2            P01   P01_01         1498        1572           3\n",
       "3            P01   P01_01        28785       28852           0\n",
       "4            P01   P01_01        28888       28932           3"
      ]
     },
     "execution_count": 9,
     "metadata": {},
     "output_type": "execute_result"
    }
   ],
   "source": [
    "columns = ['participant_id', 'video_id', 'start_frame', 'stop_frame', 'verb_class']\n",
    "clip_df = df[columns]\n",
    "clip_df.head()"
   ]
  },
  {
   "cell_type": "code",
   "execution_count": 10,
   "id": "84b87151-f273-47e1-84f7-e80e64e320e5",
   "metadata": {
    "tags": []
   },
   "outputs": [
    {
     "name": "stderr",
     "output_type": "stream",
     "text": [
      "C:\\Users\\34609\\AppData\\Local\\Temp\\ipykernel_7816\\265523361.py:1: SettingWithCopyWarning: \n",
      "A value is trying to be set on a copy of a slice from a DataFrame.\n",
      "Try using .loc[row_indexer,col_indexer] = value instead\n",
      "\n",
      "See the caveats in the documentation: https://pandas.pydata.org/pandas-docs/stable/user_guide/indexing.html#returning-a-view-versus-a-copy\n",
      "  clip_df['num_frames'] = clip_df.apply(lambda row: row.stop_frame - row.start_frame, axis = 1)\n"
     ]
    }
   ],
   "source": [
    "clip_df['num_frames'] = clip_df.apply(lambda row: row.stop_frame - row.start_frame, axis = 1)"
   ]
  },
  {
   "cell_type": "code",
   "execution_count": 11,
   "id": "4768e56e-bc81-4403-aea4-a7f128822d47",
   "metadata": {
    "tags": []
   },
   "outputs": [
    {
     "data": {
      "text/html": [
       "<div>\n",
       "<style scoped>\n",
       "    .dataframe tbody tr th:only-of-type {\n",
       "        vertical-align: middle;\n",
       "    }\n",
       "\n",
       "    .dataframe tbody tr th {\n",
       "        vertical-align: top;\n",
       "    }\n",
       "\n",
       "    .dataframe thead th {\n",
       "        text-align: right;\n",
       "    }\n",
       "</style>\n",
       "<table border=\"1\" class=\"dataframe\">\n",
       "  <thead>\n",
       "    <tr style=\"text-align: right;\">\n",
       "      <th></th>\n",
       "      <th>participant_id</th>\n",
       "      <th>video_id</th>\n",
       "      <th>start_frame</th>\n",
       "      <th>stop_frame</th>\n",
       "      <th>verb_class</th>\n",
       "      <th>num_frames</th>\n",
       "    </tr>\n",
       "  </thead>\n",
       "  <tbody>\n",
       "    <tr>\n",
       "      <th>0</th>\n",
       "      <td>P01</td>\n",
       "      <td>P01_01</td>\n",
       "      <td>8</td>\n",
       "      <td>202</td>\n",
       "      <td>3</td>\n",
       "      <td>194</td>\n",
       "    </tr>\n",
       "    <tr>\n",
       "      <th>1</th>\n",
       "      <td>P01</td>\n",
       "      <td>P01_01</td>\n",
       "      <td>262</td>\n",
       "      <td>370</td>\n",
       "      <td>6</td>\n",
       "      <td>108</td>\n",
       "    </tr>\n",
       "    <tr>\n",
       "      <th>2</th>\n",
       "      <td>P01</td>\n",
       "      <td>P01_01</td>\n",
       "      <td>1498</td>\n",
       "      <td>1572</td>\n",
       "      <td>3</td>\n",
       "      <td>74</td>\n",
       "    </tr>\n",
       "    <tr>\n",
       "      <th>3</th>\n",
       "      <td>P01</td>\n",
       "      <td>P01_01</td>\n",
       "      <td>28785</td>\n",
       "      <td>28852</td>\n",
       "      <td>0</td>\n",
       "      <td>67</td>\n",
       "    </tr>\n",
       "    <tr>\n",
       "      <th>4</th>\n",
       "      <td>P01</td>\n",
       "      <td>P01_01</td>\n",
       "      <td>28888</td>\n",
       "      <td>28932</td>\n",
       "      <td>3</td>\n",
       "      <td>44</td>\n",
       "    </tr>\n",
       "  </tbody>\n",
       "</table>\n",
       "</div>"
      ],
      "text/plain": [
       "  participant_id video_id  start_frame  stop_frame  verb_class  num_frames\n",
       "0            P01   P01_01            8         202           3         194\n",
       "1            P01   P01_01          262         370           6         108\n",
       "2            P01   P01_01         1498        1572           3          74\n",
       "3            P01   P01_01        28785       28852           0          67\n",
       "4            P01   P01_01        28888       28932           3          44"
      ]
     },
     "execution_count": 11,
     "metadata": {},
     "output_type": "execute_result"
    }
   ],
   "source": [
    "clip_df.head()"
   ]
  },
  {
   "cell_type": "code",
   "execution_count": 12,
   "id": "ab1e16b6-3e6d-4c05-b928-e72e0810daf4",
   "metadata": {
    "tags": []
   },
   "outputs": [],
   "source": [
    "a = clip_df['num_frames']"
   ]
  },
  {
   "cell_type": "code",
   "execution_count": 13,
   "id": "d1298c11-0fc3-4ca9-ae30-1d4a8bade11e",
   "metadata": {
    "tags": []
   },
   "outputs": [
    {
     "data": {
      "text/plain": [
       "array([194, 108,  74, ..., 461, 181, 390], dtype=int64)"
      ]
     },
     "execution_count": 13,
     "metadata": {},
     "output_type": "execute_result"
    }
   ],
   "source": [
    "a_arr = np.array(a)\n",
    "a_arr"
   ]
  },
  {
   "cell_type": "code",
   "execution_count": 14,
   "id": "e0f2b75a-1fee-4462-96bc-24ef616e6102",
   "metadata": {
    "tags": []
   },
   "outputs": [
    {
     "data": {
      "text/plain": [
       "(array([15285., 22597.,  9644.,  5283.,  3147.,  2187.,  1607.,  1311.]),\n",
       " array([  0.,  50., 100., 150., 200., 250., 300., 350., 400.]),\n",
       " <BarContainer object of 8 artists>)"
      ]
     },
     "execution_count": 14,
     "metadata": {},
     "output_type": "execute_result"
    },
    {
     "data": {
      "image/png": "[encoded data removed]",
      "text/plain": [
       "<Figure size 1000x700 with 1 Axes>"
      ]
     },
     "metadata": {},
     "output_type": "display_data"
    }
   ],
   "source": [
    "fig, ax = plt.subplots(figsize =(10, 7))\n",
    "ax.hist(a_arr, bins = [0, 50, 100, 150, 200, 250, 300, 350, 400])"
   ]
  },
  {
   "cell_type": "code",
   "execution_count": 15,
   "id": "d1ea87b8-22e7-44e4-a13d-b319bf679f3a",
   "metadata": {
    "tags": []
   },
   "outputs": [
    {
     "name": "stdout",
     "output_type": "stream",
     "text": [
      "Total of clips with more than 200 frames: 14329\n",
      "% of frames with more than 200 frames: 21.317523840695063\n"
     ]
    }
   ],
   "source": [
    "b = [x for x in a_arr if x > 200]\n",
    "print(f'Total of clips with more than 200 frames: {len(b)}')\n",
    "print(f'% of frames with more than 200 frames: {(len(b)/len(a)) * 100}')"
   ]
  },
  {
   "cell_type": "code",
   "execution_count": 16,
   "id": "f4af55fd-671f-4e17-a45a-2e20d7159961",
   "metadata": {
    "tags": []
   },
   "outputs": [],
   "source": [
    "df_drop = clip_df.drop(clip_df[clip_df['video_id']== 'P23_04'].index)"
   ]
  },
  {
   "cell_type": "code",
   "execution_count": 17,
   "id": "4022c77d-74d6-4408-9465-4fb99a35441f",
   "metadata": {
    "tags": []
   },
   "outputs": [],
   "source": [
    "# df_drop['video_id'].unique()"
   ]
  },
  {
   "cell_type": "code",
   "execution_count": 18,
   "id": "5bc03ec5-2e8d-495e-8005-d68025da0fd2",
   "metadata": {
    "tags": []
   },
   "outputs": [
    {
     "data": {
      "text/plain": [
       "participant_id       P01\n",
       "video_id          P01_01\n",
       "start_frame            8\n",
       "stop_frame           202\n",
       "verb_class             3\n",
       "num_frames           194\n",
       "Name: 0, dtype: object"
      ]
     },
     "execution_count": 18,
     "metadata": {},
     "output_type": "execute_result"
    }
   ],
   "source": [
    "clip_info = clip_df.iloc[0]\n",
    "clip_info"
   ]
  },
  {
   "cell_type": "code",
   "execution_count": 19,
   "id": "e42ad6de-2b76-4e79-b9ce-a1022e16ec52",
   "metadata": {
    "tags": []
   },
   "outputs": [
    {
     "data": {
      "text/plain": [
       "array(['P01', 'P02', 'P03', 'P04', 'P05', 'P06', 'P07', 'P08', 'P09',\n",
       "       'P10', 'P11', 'P12', 'P13', 'P14', 'P15', 'P16', 'P17', 'P19',\n",
       "       'P20', 'P21', 'P22', 'P23', 'P24', 'P25', 'P26', 'P27', 'P28',\n",
       "       'P29', 'P30', 'P31', 'P35', 'P37'], dtype=object)"
      ]
     },
     "execution_count": 19,
     "metadata": {},
     "output_type": "execute_result"
    }
   ],
   "source": [
    "clip_df['participant_id'].unique()"
   ]
  },
  {
   "cell_type": "code",
   "execution_count": 20,
   "id": "9dd1b1e9-d6cc-4dd7-a9a6-35f4b10750ec",
   "metadata": {
    "tags": []
   },
   "outputs": [],
   "source": [
    "error = clip_df[clip_df['video_id'] == 'P23_04']"
   ]
  },
  {
   "cell_type": "code",
   "execution_count": 21,
   "id": "313706e6-88d8-4b9d-9878-b0b5d016d4cb",
   "metadata": {
    "tags": []
   },
   "outputs": [
    {
     "name": "stdout",
     "output_type": "stream",
     "text": [
      "      participant_id video_id  start_frame  stop_frame  verb_class  num_frames\n",
      "46123            P23   P23_04            1         580           0         579\n",
      "46124            P23   P23_04          586        1816          12        1230\n",
      "46125            P23   P23_04        15381       15867          12         486\n",
      "46126            P23   P23_04        82392       82725           2         333\n",
      "46127            P23   P23_04        82764       83062          12         298\n",
      "...              ...      ...          ...         ...         ...         ...\n",
      "46306            P23   P23_04        79679       79736           0          57\n",
      "46307            P23   P23_04        79736       79788           5          52\n",
      "46308            P23   P23_04        79914       79983           0          69\n",
      "46309            P23   P23_04        80019       80485           2         466\n",
      "46310            P23   P23_04        80922       81630           2         708\n",
      "\n",
      "[188 rows x 6 columns]\n"
     ]
    }
   ],
   "source": [
    "print(error)"
   ]
  },
  {
   "cell_type": "code",
   "execution_count": 22,
   "id": "90ae3c4a-4a2d-43ac-bbc6-82e9de79d2a4",
   "metadata": {
    "tags": []
   },
   "outputs": [
    {
     "data": {
      "text/plain": [
       "(67029, 6)"
      ]
     },
     "execution_count": 22,
     "metadata": {},
     "output_type": "execute_result"
    }
   ],
   "source": [
    "df_drop.shape"
   ]
  },
  {
   "cell_type": "markdown",
   "id": "4cfd6198-58fa-435f-a55d-8370b399bc0b",
   "metadata": {
    "jp-MarkdownHeadingCollapsed": true,
    "tags": []
   },
   "source": [
    "#### Dataset class testing"
   ]
  },
  {
   "cell_type": "code",
   "execution_count": 23,
   "id": "8122475c-c6c2-4d10-9e31-5d6a307a3532",
   "metadata": {
    "tags": []
   },
   "outputs": [],
   "source": [
    "middel_frame = clip_info['start_frame'] + (clip_info['stop_frame'] - clip_info['start_frame']) // 2\n",
    "clip_frames = (middel_frame - 30 // 2, middel_frame + 30 // 2)\n",
    "clip_paths = ['home/' + 'frame_' + str(x).rjust(10, '0') + '.jpg' for x in range(clip_frames[0], clip_frames[1])]"
   ]
  },
  {
   "cell_type": "code",
   "execution_count": 24,
   "id": "3009eec2-7885-494c-b4f6-47d15cfc3377",
   "metadata": {
    "tags": []
   },
   "outputs": [
    {
     "name": "stdout",
     "output_type": "stream",
     "text": [
      "home/frame_0000000090.jpg\n"
     ]
    }
   ],
   "source": [
    "for path in clip_paths:\n",
    "    print(path)\n",
    "    break"
   ]
  },
  {
   "cell_type": "code",
   "execution_count": 25,
   "id": "fe5dc901-cf52-4717-b836-116f8088685f",
   "metadata": {
    "tags": []
   },
   "outputs": [
    {
     "name": "stdout",
     "output_type": "stream",
     "text": [
      "torch.Size([1920, 1080, 3, 1])\n"
     ]
    }
   ],
   "source": [
    "x = torch.rand((1920, 1080, 3)).unsqueeze(-1)\n",
    "y = torch.rand((1920, 1080, 3)).unsqueeze(-1)\n",
    "z = torch.rand((1920, 1080, 3)).unsqueeze(-1)\n",
    "\n",
    "print(x.shape)"
   ]
  },
  {
   "cell_type": "code",
   "execution_count": 26,
   "id": "94f7c55e-fd5e-4337-9f00-d9a016094a71",
   "metadata": {
    "tags": []
   },
   "outputs": [
    {
     "name": "stdout",
     "output_type": "stream",
     "text": [
      "torch.Size([1920, 1080, 3, 3])\n"
     ]
    }
   ],
   "source": [
    "lst = [x, y, z]\n",
    "v = torch.cat(lst, -1)\n",
    "print(v.shape)"
   ]
  },
  {
   "cell_type": "code",
   "execution_count": 27,
   "id": "707c10d2-aa52-4076-91c2-2841ef0e74a9",
   "metadata": {
    "tags": []
   },
   "outputs": [
    {
     "name": "stdout",
     "output_type": "stream",
     "text": [
      "torch.Size([640, 224, 224])\n"
     ]
    }
   ],
   "source": [
    "x = torch.rand((640, 640, 3))\n",
    "x\n",
    "resize = T.Resize(size=(224,224))\n",
    "x_resized = resize(x)\n",
    "print(x_resized.shape)"
   ]
  },
  {
   "cell_type": "code",
   "execution_count": 28,
   "id": "4094d508-031b-43e4-81cf-f7233a07d7cb",
   "metadata": {
    "tags": []
   },
   "outputs": [
    {
     "name": "stdout",
     "output_type": "stream",
     "text": [
      "2\n",
      "pad: (4, 3)\n",
      "torch.Size([1920, 1080, 3, 10])\n"
     ]
    }
   ],
   "source": [
    "missing_frames = 7\n",
    "\n",
    "# check if missing frames is odd in order to ensure that after padding, \n",
    "# num_frames equals NUM_FRAMES\n",
    "if missing_frames % 2 == 0:\n",
    "    print('1')\n",
    "    pad = (missing_frames // 2, missing_frames // 2)\n",
    "else:\n",
    "    print('2')\n",
    "    pad = (missing_frames // 2 + 1, missing_frames // 2)\n",
    "print(f'pad: {pad}')\n",
    "video = F.pad(v, pad, 'constant', 0)\n",
    "print(video.shape)"
   ]
  },
  {
   "cell_type": "code",
   "execution_count": 29,
   "id": "838c50f1-50b8-411b-9a18-6906c987ef3d",
   "metadata": {
    "tags": []
   },
   "outputs": [
    {
     "name": "stdout",
     "output_type": "stream",
     "text": [
      "v1 shape: torch.Size([1920, 3240, 10])\n",
      "stride: 4\n",
      "torch.Size([1920, 3, 1080, 3])\n"
     ]
    }
   ],
   "source": [
    "# pool of size=3, stride=2\n",
    "v1 = rearrange(video, 'c w h t -> c (w h) t')\n",
    "print(f'v1 shape: {v1.shape}')\n",
    "total = 10\n",
    "num = 3\n",
    "s = (total - 1)//(num - 1)\n",
    "print(f'stride: {s}')\n",
    "m = torch.nn.MaxPool1d(kernel_size = 2, stride=s)\n",
    "output = m(v1)\n",
    "output = rearrange(output, 'c (w h) t -> c w h t', h = 1080)\n",
    "print(output.shape)"
   ]
  },
  {
   "cell_type": "code",
   "execution_count": 30,
   "id": "410a93e2-33b6-4167-b157-2f987737fe3e",
   "metadata": {
    "tags": []
   },
   "outputs": [
    {
     "data": {
      "text/plain": [
       "2073600"
      ]
     },
     "execution_count": 30,
     "metadata": {},
     "output_type": "execute_result"
    }
   ],
   "source": [
    "a = 1920 * 1080\n",
    "a"
   ]
  },
  {
   "cell_type": "markdown",
   "id": "359d025c-d940-47e7-919c-50ddf926ab94",
   "metadata": {},
   "source": [
    "### Test df"
   ]
  },
  {
   "cell_type": "code",
   "execution_count": 31,
   "id": "047aab5c-3a84-43d4-80a4-4916a1734460",
   "metadata": {
    "tags": []
   },
   "outputs": [],
   "source": [
    "test_df = pd.read_csv(VAL_CSV)"
   ]
  },
  {
   "cell_type": "code",
   "execution_count": 32,
   "id": "e3c061b4-6853-4d56-9872-37b665ae7463",
   "metadata": {
    "tags": []
   },
   "outputs": [
    {
     "data": {
      "text/html": [
       "<div>\n",
       "<style scoped>\n",
       "    .dataframe tbody tr th:only-of-type {\n",
       "        vertical-align: middle;\n",
       "    }\n",
       "\n",
       "    .dataframe tbody tr th {\n",
       "        vertical-align: top;\n",
       "    }\n",
       "\n",
       "    .dataframe thead th {\n",
       "        text-align: right;\n",
       "    }\n",
       "</style>\n",
       "<table border=\"1\" class=\"dataframe\">\n",
       "  <thead>\n",
       "    <tr style=\"text-align: right;\">\n",
       "      <th></th>\n",
       "      <th>narration_id</th>\n",
       "      <th>participant_id</th>\n",
       "      <th>video_id</th>\n",
       "      <th>narration_timestamp</th>\n",
       "      <th>start_timestamp</th>\n",
       "      <th>stop_timestamp</th>\n",
       "      <th>start_frame</th>\n",
       "      <th>stop_frame</th>\n",
       "      <th>narration</th>\n",
       "      <th>verb</th>\n",
       "      <th>verb_class</th>\n",
       "      <th>noun</th>\n",
       "      <th>noun_class</th>\n",
       "      <th>all_nouns</th>\n",
       "      <th>all_noun_classes</th>\n",
       "    </tr>\n",
       "  </thead>\n",
       "  <tbody>\n",
       "    <tr>\n",
       "      <th>0</th>\n",
       "      <td>P01_11_0</td>\n",
       "      <td>P01</td>\n",
       "      <td>P01_11</td>\n",
       "      <td>00:00:00.560</td>\n",
       "      <td>00:00:00.00</td>\n",
       "      <td>00:00:01.89</td>\n",
       "      <td>1</td>\n",
       "      <td>113</td>\n",
       "      <td>take plate</td>\n",
       "      <td>take</td>\n",
       "      <td>0</td>\n",
       "      <td>plate</td>\n",
       "      <td>2</td>\n",
       "      <td>['plate']</td>\n",
       "      <td>[2]</td>\n",
       "    </tr>\n",
       "    <tr>\n",
       "      <th>1</th>\n",
       "      <td>P01_11_1</td>\n",
       "      <td>P01</td>\n",
       "      <td>P01_11</td>\n",
       "      <td>00:00:01.700</td>\n",
       "      <td>00:00:01.56</td>\n",
       "      <td>00:00:02.45</td>\n",
       "      <td>93</td>\n",
       "      <td>147</td>\n",
       "      <td>put down plate</td>\n",
       "      <td>put-down</td>\n",
       "      <td>1</td>\n",
       "      <td>plate</td>\n",
       "      <td>2</td>\n",
       "      <td>['plate']</td>\n",
       "      <td>[2]</td>\n",
       "    </tr>\n",
       "    <tr>\n",
       "      <th>2</th>\n",
       "      <td>P01_11_10</td>\n",
       "      <td>P01</td>\n",
       "      <td>P01_11</td>\n",
       "      <td>00:00:48.500</td>\n",
       "      <td>00:00:49.15</td>\n",
       "      <td>00:00:50.95</td>\n",
       "      <td>2949</td>\n",
       "      <td>3057</td>\n",
       "      <td>take paper</td>\n",
       "      <td>take</td>\n",
       "      <td>0</td>\n",
       "      <td>paper</td>\n",
       "      <td>49</td>\n",
       "      <td>['paper']</td>\n",
       "      <td>[49]</td>\n",
       "    </tr>\n",
       "    <tr>\n",
       "      <th>3</th>\n",
       "      <td>P01_11_100</td>\n",
       "      <td>P01</td>\n",
       "      <td>P01_11</td>\n",
       "      <td>00:05:27.840</td>\n",
       "      <td>00:05:27.28</td>\n",
       "      <td>00:05:31.97</td>\n",
       "      <td>19636</td>\n",
       "      <td>19918</td>\n",
       "      <td>wash cloth</td>\n",
       "      <td>wash</td>\n",
       "      <td>2</td>\n",
       "      <td>cloth</td>\n",
       "      <td>17</td>\n",
       "      <td>['cloth']</td>\n",
       "      <td>[17]</td>\n",
       "    </tr>\n",
       "    <tr>\n",
       "      <th>4</th>\n",
       "      <td>P01_11_101</td>\n",
       "      <td>P01</td>\n",
       "      <td>P01_11</td>\n",
       "      <td>00:05:26.840</td>\n",
       "      <td>00:05:27.37</td>\n",
       "      <td>00:05:29.86</td>\n",
       "      <td>19642</td>\n",
       "      <td>19791</td>\n",
       "      <td>take cloth</td>\n",
       "      <td>take</td>\n",
       "      <td>0</td>\n",
       "      <td>cloth</td>\n",
       "      <td>17</td>\n",
       "      <td>['cloth']</td>\n",
       "      <td>[17]</td>\n",
       "    </tr>\n",
       "  </tbody>\n",
       "</table>\n",
       "</div>"
      ],
      "text/plain": [
       "  narration_id participant_id video_id narration_timestamp start_timestamp   \n",
       "0     P01_11_0            P01   P01_11        00:00:00.560     00:00:00.00  \\\n",
       "1     P01_11_1            P01   P01_11        00:00:01.700     00:00:01.56   \n",
       "2    P01_11_10            P01   P01_11        00:00:48.500     00:00:49.15   \n",
       "3   P01_11_100            P01   P01_11        00:05:27.840     00:05:27.28   \n",
       "4   P01_11_101            P01   P01_11        00:05:26.840     00:05:27.37   \n",
       "\n",
       "  stop_timestamp  start_frame  stop_frame       narration      verb   \n",
       "0    00:00:01.89            1         113      take plate      take  \\\n",
       "1    00:00:02.45           93         147  put down plate  put-down   \n",
       "2    00:00:50.95         2949        3057      take paper      take   \n",
       "3    00:05:31.97        19636       19918      wash cloth      wash   \n",
       "4    00:05:29.86        19642       19791      take cloth      take   \n",
       "\n",
       "   verb_class   noun  noun_class  all_nouns all_noun_classes  \n",
       "0           0  plate           2  ['plate']              [2]  \n",
       "1           1  plate           2  ['plate']              [2]  \n",
       "2           0  paper          49  ['paper']             [49]  \n",
       "3           2  cloth          17  ['cloth']             [17]  \n",
       "4           0  cloth          17  ['cloth']             [17]  "
      ]
     },
     "execution_count": 32,
     "metadata": {},
     "output_type": "execute_result"
    }
   ],
   "source": [
    "test_df.head(5)"
   ]
  },
  {
   "cell_type": "code",
   "execution_count": 33,
   "id": "6bd089ad-3119-4bdb-966b-b799b88b3932",
   "metadata": {
    "tags": []
   },
   "outputs": [
    {
     "data": {
      "text/plain": [
       "(9668, 15)"
      ]
     },
     "execution_count": 33,
     "metadata": {},
     "output_type": "execute_result"
    }
   ],
   "source": [
    "test_df.shape"
   ]
  },
  {
   "cell_type": "code",
   "execution_count": 34,
   "id": "371530a4-2658-421a-95f7-194fc29ed35f",
   "metadata": {
    "tags": []
   },
   "outputs": [
    {
     "data": {
      "text/plain": [
       "array([ 0,  1,  2, 18,  6,  3,  8, 13,  4, 14, 41, 36, 12,  5, 28,  7, 31,\n",
       "       39, 15,  9, 60, 11, 33, 10, 17, 49, 43, 35, 24, 37, 42, 48, 20, 34,\n",
       "       51, 27, 47, 16, 46, 21, 53, 68, 26, 65, 69, 25, 38, 19, 75, 84, 64,\n",
       "       22, 82, 83, 23, 67, 40, 71, 78, 85, 32, 90, 44, 72, 30, 81, 45, 57,\n",
       "       63, 29, 59, 52, 80, 70, 89, 56, 55, 93], dtype=int64)"
      ]
     },
     "execution_count": 34,
     "metadata": {},
     "output_type": "execute_result"
    }
   ],
   "source": [
    "test_df['verb_class'].unique()"
   ]
  },
  {
   "cell_type": "code",
   "execution_count": 35,
   "id": "00e25294-31a9-4703-bff5-00a8236cb45b",
   "metadata": {
    "tags": []
   },
   "outputs": [
    {
     "data": {
      "text/plain": [
       "78"
      ]
     },
     "execution_count": 35,
     "metadata": {},
     "output_type": "execute_result"
    }
   ],
   "source": [
    "len(test_df['verb_class'].unique())"
   ]
  },
  {
   "cell_type": "code",
   "execution_count": 36,
   "id": "aa428de2-fa70-4c45-92e5-f23966b7d4c4",
   "metadata": {
    "tags": []
   },
   "outputs": [
    {
     "data": {
      "text/plain": [
       "verb_class\n",
       "0     1937\n",
       "1     1709\n",
       "2     1141\n",
       "3      810\n",
       "5      608\n",
       "      ... \n",
       "89       2\n",
       "93       2\n",
       "72       1\n",
       "70       1\n",
       "75       1\n",
       "Name: count, Length: 78, dtype: int64"
      ]
     },
     "execution_count": 36,
     "metadata": {},
     "output_type": "execute_result"
    }
   ],
   "source": [
    "test_df['verb_class'].value_counts()"
   ]
  },
  {
   "cell_type": "markdown",
   "id": "2f8ab0ef-51d1-4500-a95e-d3301a98e015",
   "metadata": {
    "tags": []
   },
   "source": [
    "### Test results"
   ]
  },
  {
   "cell_type": "code",
   "execution_count": 2,
   "id": "e445451a-3007-4258-8340-a96f68fd3349",
   "metadata": {
    "tags": []
   },
   "outputs": [],
   "source": [
    "RESULTS_CSV = 'labels_linformer_1.csv'"
   ]
  },
  {
   "cell_type": "code",
   "execution_count": 3,
   "id": "1355b864-2225-4f60-91e1-01c2a5542903",
   "metadata": {
    "tags": []
   },
   "outputs": [],
   "source": [
    "with open(RESULTS_CSV) as csv_file:\n",
    "    csv_reader = csv.reader(csv_file, delimiter=',')\n",
    "    for i, row in enumerate(csv_reader):\n",
    "        list_labels = []\n",
    "        for cell in row:\n",
    "            list_labels.append(int(cell))\n",
    "        if i == 0:\n",
    "            predicted = list_labels\n",
    "        else:\n",
    "            labels = list_labels"
   ]
  },
  {
   "cell_type": "code",
   "execution_count": 4,
   "id": "840d8108-cdac-413a-a54f-ded8756a2b28",
   "metadata": {
    "tags": []
   },
   "outputs": [],
   "source": [
    "predicted_ds = pd.Series(predicted)\n",
    "labels_ds = pd.Series(labels)"
   ]
  },
  {
   "cell_type": "code",
   "execution_count": 5,
   "id": "bce2f766-8e41-430e-9e02-2da6fc1dfd22",
   "metadata": {
    "tags": []
   },
   "outputs": [
    {
     "data": {
      "text/plain": [
       "0    96\n",
       "1    81\n",
       "2    62\n",
       "3    41\n",
       "Name: count, dtype: int64"
      ]
     },
     "execution_count": 5,
     "metadata": {},
     "output_type": "execute_result"
    }
   ],
   "source": [
    "labels_ds.value_counts()"
   ]
  },
  {
   "cell_type": "code",
   "execution_count": 6,
   "id": "300e21c9-dafc-4513-af34-2c5087747c63",
   "metadata": {
    "tags": []
   },
   "outputs": [
    {
     "data": {
      "text/plain": [
       "array([0, 2, 1, 3], dtype=int64)"
      ]
     },
     "execution_count": 6,
     "metadata": {},
     "output_type": "execute_result"
    }
   ],
   "source": [
    "predicted_ds.unique()"
   ]
  },
  {
   "cell_type": "code",
   "execution_count": 7,
   "id": "e75c7342-42c3-4212-bcca-0d148027b55b",
   "metadata": {
    "tags": []
   },
   "outputs": [
    {
     "data": {
      "text/plain": [
       "0    184\n",
       "1     53\n",
       "2     33\n",
       "3     10\n",
       "Name: count, dtype: int64"
      ]
     },
     "execution_count": 7,
     "metadata": {},
     "output_type": "execute_result"
    }
   ],
   "source": [
    "predicted_ds.value_counts()"
   ]
  },
  {
   "cell_type": "code",
   "execution_count": 8,
   "id": "958802a4-c929-4480-a3e2-fea98aa553ac",
   "metadata": {
    "tags": []
   },
   "outputs": [
    {
     "data": {
      "text/plain": [
       "<Axes: title={'center': 'predicted labels'}, xlabel='Label', ylabel='Frequency'>"
      ]
     },
     "execution_count": 8,
     "metadata": {},
     "output_type": "execute_result"
    },
    {
     "data": {
      "image/png": "[encoded data removed]",
      "text/plain": [
       "<Figure size 640x480 with 1 Axes>"
      ]
     },
     "metadata": {},
     "output_type": "display_data"
    }
   ],
   "source": [
    "predicted_ds.plot(kind='hist', bins=4, title='predicted labels', xlabel='Label', align='left') # xticks=[x for x in range(21)]"
   ]
  },
  {
   "cell_type": "code",
   "execution_count": 9,
   "id": "1b45d19b-d244-4238-a1e9-139729caf9f8",
   "metadata": {
    "tags": []
   },
   "outputs": [
    {
     "data": {
      "text/plain": [
       "0    96\n",
       "1    81\n",
       "2    62\n",
       "3    41\n",
       "Name: count, dtype: int64"
      ]
     },
     "execution_count": 9,
     "metadata": {},
     "output_type": "execute_result"
    }
   ],
   "source": [
    "labels_ds.value_counts()"
   ]
  },
  {
   "cell_type": "code",
   "execution_count": 12,
   "id": "a0171b50-f27d-440b-a08e-7200edd290c0",
   "metadata": {
    "tags": []
   },
   "outputs": [
    {
     "data": {
      "text/plain": [
       "<Axes: title={'center': 'true labels'}, xlabel='Label', ylabel='Frequency'>"
      ]
     },
     "execution_count": 12,
     "metadata": {},
     "output_type": "execute_result"
    },
    {
     "data": {
      "image/png": "[encoded data removed]",
      "text/plain": [
       "<Figure size 640x480 with 1 Axes>"
      ]
     },
     "metadata": {},
     "output_type": "display_data"
    }
   ],
   "source": [
    "labels_ds.plot(kind='hist', bins=4, title='true labels', xticks=[x for x in range(4)], xlabel='Label', align='left')"
   ]
  },
  {
   "cell_type": "code",
   "execution_count": 13,
   "id": "7631eacf-0339-41f9-8c28-18e14252cb4f",
   "metadata": {
    "tags": []
   },
   "outputs": [],
   "source": [
    "confusion_mat = confusion_matrix(labels, predicted, labels=[x for x in range(4)], sample_weight=None, normalize=None)"
   ]
  },
  {
   "cell_type": "code",
   "execution_count": 14,
   "id": "0aa81f16-3909-4eea-8e57-54030038b6b5",
   "metadata": {
    "tags": []
   },
   "outputs": [
    {
     "data": {
      "text/plain": [
       "array([[67, 18,  8,  3],\n",
       "       [50, 23,  2,  6],\n",
       "       [32,  7, 23,  0],\n",
       "       [35,  5,  0,  1]], dtype=int64)"
      ]
     },
     "execution_count": 14,
     "metadata": {},
     "output_type": "execute_result"
    }
   ],
   "source": [
    "confusion_mat"
   ]
  },
  {
   "cell_type": "code",
   "execution_count": 15,
   "id": "a4e3a8e2-7b90-4c9f-9589-6495c445fffa",
   "metadata": {
    "tags": []
   },
   "outputs": [
    {
     "data": {
      "text/plain": [
       "<matplotlib.image.AxesImage at 0x24516f560e0>"
      ]
     },
     "execution_count": 15,
     "metadata": {},
     "output_type": "execute_result"
    },
    {
     "data": {
      "image/png": "[encoded data removed]",
      "text/plain": [
       "<Figure size 480x480 with 1 Axes>"
      ]
     },
     "metadata": {},
     "output_type": "display_data"
    }
   ],
   "source": [
    "plt.matshow(confusion_mat[0:10, 0:10])"
   ]
  },
  {
   "cell_type": "code",
   "execution_count": 2,
   "id": "988a71ac-b65a-41aa-a5e7-a7ef64ee7766",
   "metadata": {},
   "outputs": [],
   "source": [
    "true = torch.randint(low=0, high=10, size=(150,))"
   ]
  },
  {
   "cell_type": "code",
   "execution_count": 52,
   "id": "336bd57e-2c02-4303-bfd2-c766629da5f2",
   "metadata": {
    "tags": []
   },
   "outputs": [],
   "source": [
    "pred = torch.randint(low=0, high=10, size=(150,))"
   ]
  },
  {
   "cell_type": "code",
   "execution_count": 3,
   "id": "8382cec3-8c9c-4d25-a978-5a3e7a57f13b",
   "metadata": {
    "tags": []
   },
   "outputs": [],
   "source": [
    "true = [1, 2, 1, 1]\n",
    "pred = [1, 4, 4, 5]"
   ]
  },
  {
   "cell_type": "code",
   "execution_count": 24,
   "id": "b4f1ae18-51b8-41b9-81f4-74f7654ee95e",
   "metadata": {
    "tags": []
   },
   "outputs": [],
   "source": [
    "import warnings\n",
    "import sklearn.exceptions\n",
    "warnings.filterwarnings(action='ignore')"
   ]
  },
  {
   "cell_type": "code",
   "execution_count": 25,
   "id": "29e29228-672b-4490-a02b-1ba151a3e39d",
   "metadata": {
    "tags": []
   },
   "outputs": [
    {
     "data": {
      "text/plain": [
       "0.16666666666666666"
      ]
     },
     "execution_count": 25,
     "metadata": {},
     "output_type": "execute_result"
    }
   ],
   "source": [
    "acc = balanced_accuracy_score(true, pred)\n",
    "acc"
   ]
  },
  {
   "cell_type": "code",
   "execution_count": 73,
   "id": "ec8c5e13-2925-4cf5-896c-8f8e2a80642d",
   "metadata": {
    "tags": []
   },
   "outputs": [],
   "source": [
    "result = []"
   ]
  },
  {
   "cell_type": "code",
   "execution_count": 74,
   "id": "34bec0c3-69eb-455b-9ffa-bc23b4bec93d",
   "metadata": {
    "tags": []
   },
   "outputs": [
    {
     "data": {
      "text/plain": [
       "[1, 2, 1, 1]"
      ]
     },
     "execution_count": 74,
     "metadata": {},
     "output_type": "execute_result"
    }
   ],
   "source": [
    "result = result + true\n",
    "result"
   ]
  },
  {
   "cell_type": "code",
   "execution_count": 75,
   "id": "f7c1a4ec-b7fe-4b33-9fe2-16669a74689d",
   "metadata": {
    "tags": []
   },
   "outputs": [
    {
     "data": {
      "text/plain": [
       "[1, 2, 1, 1, 1, 4, 4, 5]"
      ]
     },
     "execution_count": 75,
     "metadata": {},
     "output_type": "execute_result"
    }
   ],
   "source": [
    "result = result + pred\n",
    "result"
   ]
  },
  {
   "cell_type": "code",
   "execution_count": 9,
   "id": "06096c07-ca7d-43c6-bb7c-0fe233b0e735",
   "metadata": {},
   "outputs": [],
   "source": [
    "path = 'frame_0000000002.jpg'"
   ]
  },
  {
   "cell_type": "code",
   "execution_count": 10,
   "id": "6ca8f97f-0d61-462b-b7b9-9ab34e7015fb",
   "metadata": {
    "tags": []
   },
   "outputs": [],
   "source": [
    "img = Image.open(path)"
   ]
  },
  {
   "cell_type": "code",
   "execution_count": 11,
   "id": "2b5bcf2f-f593-4ec5-b7a0-566d84ab88bf",
   "metadata": {
    "tags": []
   },
   "outputs": [],
   "source": [
    "arr = np.asarray(img)"
   ]
  },
  {
   "cell_type": "code",
   "execution_count": 12,
   "id": "dcd1113f-ad60-4bf2-8285-e38f9221f9e8",
   "metadata": {
    "tags": []
   },
   "outputs": [
    {
     "data": {
      "text/plain": [
       "(256, 456, 3)"
      ]
     },
     "execution_count": 12,
     "metadata": {},
     "output_type": "execute_result"
    }
   ],
   "source": [
    "arr.shape"
   ]
  },
  {
   "cell_type": "markdown",
   "id": "1101ac5a-2fc0-42b9-b7cd-2754b0de42a4",
   "metadata": {},
   "source": [
    "Try multiprocessing"
   ]
  },
  {
   "cell_type": "code",
   "execution_count": 2,
   "id": "5d0a8c14-5eb3-4863-bc66-ce751264042b",
   "metadata": {
    "tags": []
   },
   "outputs": [],
   "source": [
    "from multiprocessing import Process"
   ]
  },
  {
   "cell_type": "code",
   "execution_count": 9,
   "id": "0c3fdb1a-f222-457d-bafc-6b2761b71a28",
   "metadata": {
    "tags": []
   },
   "outputs": [],
   "source": [
    "lst = []"
   ]
  },
  {
   "cell_type": "code",
   "execution_count": 10,
   "id": "4518a5e1-57d5-4e91-8621-8c5b9723eb54",
   "metadata": {
    "tags": []
   },
   "outputs": [],
   "source": [
    "def load_image(img_path, lst):\n",
    "    im = Image.open(img_path)\n",
    "    lst.append(im)\n",
    "    pass"
   ]
  },
  {
   "cell_type": "code",
   "execution_count": 15,
   "id": "a3df3211-9c43-4086-8000-5fa6fb6f8f34",
   "metadata": {
    "tags": []
   },
   "outputs": [],
   "source": [
    "p = Process(target=load_image, args=[('frame_0000042685.jpg', lst), ('frame_0000042685.jpg', lst)])"
   ]
  },
  {
   "cell_type": "code",
   "execution_count": 16,
   "id": "58d3ceb8-1ff1-4657-8787-b23ab4bb7854",
   "metadata": {
    "tags": []
   },
   "outputs": [],
   "source": [
    "p.start()\n",
    "p.join()"
   ]
  },
  {
   "cell_type": "code",
   "execution_count": 17,
   "id": "23d56c58-3a6e-478f-b6ba-c997929311e7",
   "metadata": {
    "tags": []
   },
   "outputs": [
    {
     "data": {
      "text/plain": [
       "[]"
      ]
     },
     "execution_count": 17,
     "metadata": {},
     "output_type": "execute_result"
    }
   ],
   "source": [
    "lst"
   ]
  },
  {
   "cell_type": "code",
   "execution_count": 8,
   "id": "c52862f3-6c5e-433e-af58-7faba4ecf898",
   "metadata": {
    "tags": []
   },
   "outputs": [
    {
     "data": {
      "text/plain": [
       "<Process name='Process-1' pid=21376 parent=8876 stopped exitcode=1>"
      ]
     },
     "execution_count": 8,
     "metadata": {},
     "output_type": "execute_result"
    }
   ],
   "source": [
    "p "
   ]
  },
  {
   "cell_type": "markdown",
   "id": "ef01f8c8-89ec-4441-ac99-4b76dc9aca4d",
   "metadata": {},
   "source": [
    "## Compute ranks"
   ]
  },
  {
   "cell_type": "code",
   "execution_count": 2,
   "id": "2fe405ca-f425-45c9-a2f7-2f18ff098cb3",
   "metadata": {
    "tags": []
   },
   "outputs": [],
   "source": [
    "x = torch.rand([4, 9800, 768])"
   ]
  },
  {
   "cell_type": "code",
   "execution_count": 3,
   "id": "5b0057c1-9f94-44b3-9882-83a0b64e92c3",
   "metadata": {
    "tags": []
   },
   "outputs": [],
   "source": [
    "r = matrix_rank(x)"
   ]
  },
  {
   "cell_type": "code",
   "execution_count": 4,
   "id": "63ca77d9-1364-4aec-8514-5ec5bbad29d6",
   "metadata": {
    "tags": []
   },
   "outputs": [
    {
     "data": {
      "text/plain": [
       "tensor([768, 768, 768, 768])"
      ]
     },
     "execution_count": 4,
     "metadata": {},
     "output_type": "execute_result"
    }
   ],
   "source": [
    "r"
   ]
  },
  {
   "cell_type": "code",
   "execution_count": 11,
   "id": "ef6796af-d3d8-462f-9d2f-40cb55ecc66f",
   "metadata": {
    "tags": []
   },
   "outputs": [],
   "source": [
    "ranks = [[r.tolist(), r.tolist()] for i in range(20)] "
   ]
  },
  {
   "cell_type": "code",
   "execution_count": 19,
   "id": "bcd95d21-b778-49f8-a7ea-5b86c14ad313",
   "metadata": {
    "tags": []
   },
   "outputs": [
    {
     "name": "stdout",
     "output_type": "stream",
     "text": [
      "[[768, 768, 768, 768], [768, 768, 768, 768]]\n",
      "[[768, 768, 768, 768], [768, 768, 768, 768]]\n",
      "[[768, 768, 768, 768], [768, 768, 768, 768]]\n",
      "[[768, 768, 768, 768], [768, 768, 768, 768]]\n",
      "[[768, 768, 768, 768], [768, 768, 768, 768]]\n",
      "[[768, 768, 768, 768], [768, 768, 768, 768]]\n",
      "[[768, 768, 768, 768], [768, 768, 768, 768]]\n",
      "[[768, 768, 768, 768], [768, 768, 768, 768]]\n",
      "[[768, 768, 768, 768], [768, 768, 768, 768]]\n",
      "[[768, 768, 768, 768], [768, 768, 768, 768]]\n",
      "[[768, 768, 768, 768], [768, 768, 768, 768]]\n",
      "[[768, 768, 768, 768], [768, 768, 768, 768]]\n",
      "[[768, 768, 768, 768], [768, 768, 768, 768]]\n",
      "[[768, 768, 768, 768], [768, 768, 768, 768]]\n",
      "[[768, 768, 768, 768], [768, 768, 768, 768]]\n",
      "[[768, 768, 768, 768], [768, 768, 768, 768]]\n",
      "[[768, 768, 768, 768], [768, 768, 768, 768]]\n",
      "[[768, 768, 768, 768], [768, 768, 768, 768]]\n",
      "[[768, 768, 768, 768], [768, 768, 768, 768]]\n",
      "[[768, 768, 768, 768], [768, 768, 768, 768]]\n"
     ]
    }
   ],
   "source": [
    "d = {}\n",
    "for i, rank in enumerate(ranks):\n",
    "    print(rank)\n",
    "    d[f'{i}'] = {'1': rank[0], '2': rank[1]} "
   ]
  },
  {
   "cell_type": "code",
   "execution_count": 20,
   "id": "e00a616e-5ed5-4b69-8988-5c8bb458b729",
   "metadata": {
    "tags": []
   },
   "outputs": [
    {
     "name": "stdout",
     "output_type": "stream",
     "text": [
      "{'0': {'1': [768, 768, 768, 768], '2': [768, 768, 768, 768]}, '1': {'1': [768, 768, 768, 768], '2': [768, 768, 768, 768]}, '2': {'1': [768, 768, 768, 768], '2': [768, 768, 768, 768]}, '3': {'1': [768, 768, 768, 768], '2': [768, 768, 768, 768]}, '4': {'1': [768, 768, 768, 768], '2': [768, 768, 768, 768]}, '5': {'1': [768, 768, 768, 768], '2': [768, 768, 768, 768]}, '6': {'1': [768, 768, 768, 768], '2': [768, 768, 768, 768]}, '7': {'1': [768, 768, 768, 768], '2': [768, 768, 768, 768]}, '8': {'1': [768, 768, 768, 768], '2': [768, 768, 768, 768]}, '9': {'1': [768, 768, 768, 768], '2': [768, 768, 768, 768]}, '10': {'1': [768, 768, 768, 768], '2': [768, 768, 768, 768]}, '11': {'1': [768, 768, 768, 768], '2': [768, 768, 768, 768]}, '12': {'1': [768, 768, 768, 768], '2': [768, 768, 768, 768]}, '13': {'1': [768, 768, 768, 768], '2': [768, 768, 768, 768]}, '14': {'1': [768, 768, 768, 768], '2': [768, 768, 768, 768]}, '15': {'1': [768, 768, 768, 768], '2': [768, 768, 768, 768]}, '16': {'1': [768, 768, 768, 768], '2': [768, 768, 768, 768]}, '17': {'1': [768, 768, 768, 768], '2': [768, 768, 768, 768]}, '18': {'1': [768, 768, 768, 768], '2': [768, 768, 768, 768]}, '19': {'1': [768, 768, 768, 768], '2': [768, 768, 768, 768]}}\n"
     ]
    }
   ],
   "source": [
    "print(d)"
   ]
  },
  {
   "cell_type": "code",
   "execution_count": 7,
   "id": "89dbafff-7020-439b-9de1-63ceca863027",
   "metadata": {
    "tags": []
   },
   "outputs": [],
   "source": [
    "import json"
   ]
  },
  {
   "cell_type": "code",
   "execution_count": 23,
   "id": "5cc5fc0f-9c01-4ce7-8994-0979cfeff2d2",
   "metadata": {
    "tags": []
   },
   "outputs": [],
   "source": [
    "j = json.dumps(d)"
   ]
  },
  {
   "cell_type": "code",
   "execution_count": 24,
   "id": "a4edc25d-f0c9-4e33-baf3-2828aef97fa9",
   "metadata": {
    "tags": []
   },
   "outputs": [
    {
     "data": {
      "text/plain": [
       "'{\"0\": {\"1\": [768, 768, 768, 768], \"2\": [768, 768, 768, 768]}, \"1\": {\"1\": [768, 768, 768, 768], \"2\": [768, 768, 768, 768]}, \"2\": {\"1\": [768, 768, 768, 768], \"2\": [768, 768, 768, 768]}, \"3\": {\"1\": [768, 768, 768, 768], \"2\": [768, 768, 768, 768]}, \"4\": {\"1\": [768, 768, 768, 768], \"2\": [768, 768, 768, 768]}, \"5\": {\"1\": [768, 768, 768, 768], \"2\": [768, 768, 768, 768]}, \"6\": {\"1\": [768, 768, 768, 768], \"2\": [768, 768, 768, 768]}, \"7\": {\"1\": [768, 768, 768, 768], \"2\": [768, 768, 768, 768]}, \"8\": {\"1\": [768, 768, 768, 768], \"2\": [768, 768, 768, 768]}, \"9\": {\"1\": [768, 768, 768, 768], \"2\": [768, 768, 768, 768]}, \"10\": {\"1\": [768, 768, 768, 768], \"2\": [768, 768, 768, 768]}, \"11\": {\"1\": [768, 768, 768, 768], \"2\": [768, 768, 768, 768]}, \"12\": {\"1\": [768, 768, 768, 768], \"2\": [768, 768, 768, 768]}, \"13\": {\"1\": [768, 768, 768, 768], \"2\": [768, 768, 768, 768]}, \"14\": {\"1\": [768, 768, 768, 768], \"2\": [768, 768, 768, 768]}, \"15\": {\"1\": [768, 768, 768, 768], \"2\": [768, 768, 768, 768]}, \"16\": {\"1\": [768, 768, 768, 768], \"2\": [768, 768, 768, 768]}, \"17\": {\"1\": [768, 768, 768, 768], \"2\": [768, 768, 768, 768]}, \"18\": {\"1\": [768, 768, 768, 768], \"2\": [768, 768, 768, 768]}, \"19\": {\"1\": [768, 768, 768, 768], \"2\": [768, 768, 768, 768]}}'"
      ]
     },
     "execution_count": 24,
     "metadata": {},
     "output_type": "execute_result"
    }
   ],
   "source": [
    "j"
   ]
  },
  {
   "cell_type": "code",
   "execution_count": 26,
   "id": "63bbc325-c3ee-438e-86d8-1bc81420b3a1",
   "metadata": {
    "tags": []
   },
   "outputs": [],
   "source": [
    "with open('test.json', 'w') as f:\n",
    "    json.dump(j, f)"
   ]
  },
  {
   "cell_type": "code",
   "execution_count": 28,
   "id": "14f2e8f1-f357-4f63-8206-7d488a90ce33",
   "metadata": {
    "tags": []
   },
   "outputs": [],
   "source": [
    "f = open('ranks_train_vanilla_attention.json')\n",
    "a = json.load(f)"
   ]
  },
  {
   "cell_type": "code",
   "execution_count": 29,
   "id": "f844d027-58f0-4daa-8233-97b169522bef",
   "metadata": {
    "tags": []
   },
   "outputs": [
    {
     "name": "stdout",
     "output_type": "stream",
     "text": [
      "{\"epoch_0\": {\"1\": [768, 768, 768, 768], \"2\": [768, 768, 768, 768]}}\n"
     ]
    }
   ],
   "source": [
    "print(a)"
   ]
  },
  {
   "cell_type": "code",
   "execution_count": null,
   "id": "30afe152-1226-4bad-b5ea-5875583efc4c",
   "metadata": {},
   "outputs": [],
   "source": []
  }
 ],
 "metadata": {
  "kernelspec": {
   "display_name": "Python 3 (ipykernel)",
   "language": "python",
   "name": "python3"
  },
  "language_info": {
   "codemirror_mode": {
    "name": "ipython",
    "version": 3
   },
   "file_extension": ".py",
   "mimetype": "text/x-python",
   "name": "python",
   "nbconvert_exporter": "python",
   "pygments_lexer": "ipython3",
   "version": "3.10.9"
  }
 },
 "nbformat": 4,
 "nbformat_minor": 5
}

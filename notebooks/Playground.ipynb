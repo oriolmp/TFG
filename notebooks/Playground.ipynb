{
 "cells": [
  {
   "cell_type": "code",
   "execution_count": 2,
   "id": "bf96c4cd",
   "metadata": {},
   "outputs": [],
   "source": [
    "import torch\n",
    "import torch.nn as nn\n",
    "from sklearn.feature_extraction import image\n",
    "from sklearn.datasets import load_sample_image\n",
    "import numpy as np"
   ]
  },
  {
   "cell_type": "markdown",
   "id": "27e32e45",
   "metadata": {},
   "source": [
    "# 0. Imaage "
   ]
  },
  {
   "cell_type": "code",
   "execution_count": 10,
   "id": "4b098ec0",
   "metadata": {},
   "outputs": [],
   "source": [
    "img = load_sample_image('china.jpg')"
   ]
  },
  {
   "cell_type": "code",
   "execution_count": 12,
   "id": "42842985",
   "metadata": {},
   "outputs": [
    {
     "data": {
      "text/plain": [
       "(427, 640, 3)"
      ]
     },
     "execution_count": 12,
     "metadata": {},
     "output_type": "execute_result"
    }
   ],
   "source": [
    "img.shape"
   ]
  },
  {
   "cell_type": "code",
   "execution_count": 13,
   "id": "1c6a3da2",
   "metadata": {},
   "outputs": [],
   "source": [
    "patches = image.extract_patches_2d(img, (16, 16))"
   ]
  },
  {
   "cell_type": "code",
   "execution_count": 15,
   "id": "cb8f4a1d",
   "metadata": {},
   "outputs": [
    {
     "data": {
      "text/plain": [
       "(257500, 16, 16, 3)"
      ]
     },
     "execution_count": 15,
     "metadata": {},
     "output_type": "execute_result"
    }
   ],
   "source": [
    "patches.shape"
   ]
  },
  {
   "cell_type": "code",
   "execution_count": 17,
   "id": "1269c451",
   "metadata": {},
   "outputs": [
    {
     "data": {
      "text/plain": [
       "(16, 16, 3)"
      ]
     },
     "execution_count": 17,
     "metadata": {},
     "output_type": "execute_result"
    }
   ],
   "source": [
    "patches[0].shape"
   ]
  },
  {
   "cell_type": "code",
   "execution_count": 18,
   "id": "193e1419",
   "metadata": {},
   "outputs": [],
   "source": [
    "patch = patches[0]"
   ]
  },
  {
   "cell_type": "code",
   "execution_count": null,
   "id": "2433e1c3",
   "metadata": {},
   "outputs": [],
   "source": []
  }
 ],
 "metadata": {
  "kernelspec": {
   "display_name": "Python 3 (ipykernel)",
   "language": "python",
   "name": "python3"
  },
  "language_info": {
   "codemirror_mode": {
    "name": "ipython",
    "version": 3
   },
   "file_extension": ".py",
   "mimetype": "text/x-python",
   "name": "python",
   "nbconvert_exporter": "python",
   "pygments_lexer": "ipython3",
   "version": "3.10.9"
  }
 },
 "nbformat": 4,
 "nbformat_minor": 5
}

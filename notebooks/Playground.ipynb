{
 "cells": [
  {
   "cell_type": "code",
   "execution_count": 12,
   "id": "65082436",
   "metadata": {
    "tags": []
   },
   "outputs": [],
   "source": [
    "import torch\n",
    "import torch.nn as nn\n",
    "import pandas as pd\n",
    "import numpy as np\n",
    "import torchvision.transforms as T\n",
    "import torch.nn.functional as F\n",
    "from einops import rearrange\n",
    "from PIL import Image\n",
    "import numpy as np\n",
    "import matplotlib.pyplot as plt"
   ]
  },
  {
   "cell_type": "markdown",
   "id": "3e301dc9",
   "metadata": {},
   "source": [
    "### Annotations file exploration"
   ]
  },
  {
   "cell_type": "code",
   "execution_count": 2,
   "id": "a51dda77-6258-4cb4-8695-d8f1b2fb8c3a",
   "metadata": {
    "tags": []
   },
   "outputs": [],
   "source": [
    "CSV_NAME = 'EPIC_100_train.csv'"
   ]
  },
  {
   "cell_type": "code",
   "execution_count": 3,
   "id": "2cad68d4-4b22-4cf1-914d-cd10b1128366",
   "metadata": {
    "tags": []
   },
   "outputs": [
    {
     "data": {
      "text/html": [
       "<div>\n",
       "<style scoped>\n",
       "    .dataframe tbody tr th:only-of-type {\n",
       "        vertical-align: middle;\n",
       "    }\n",
       "\n",
       "    .dataframe tbody tr th {\n",
       "        vertical-align: top;\n",
       "    }\n",
       "\n",
       "    .dataframe thead th {\n",
       "        text-align: right;\n",
       "    }\n",
       "</style>\n",
       "<table border=\"1\" class=\"dataframe\">\n",
       "  <thead>\n",
       "    <tr style=\"text-align: right;\">\n",
       "      <th></th>\n",
       "      <th>narration_id</th>\n",
       "      <th>participant_id</th>\n",
       "      <th>video_id</th>\n",
       "      <th>narration_timestamp</th>\n",
       "      <th>start_timestamp</th>\n",
       "      <th>stop_timestamp</th>\n",
       "      <th>start_frame</th>\n",
       "      <th>stop_frame</th>\n",
       "      <th>narration</th>\n",
       "      <th>verb</th>\n",
       "      <th>verb_class</th>\n",
       "      <th>noun</th>\n",
       "      <th>noun_class</th>\n",
       "      <th>all_nouns</th>\n",
       "      <th>all_noun_classes</th>\n",
       "    </tr>\n",
       "  </thead>\n",
       "  <tbody>\n",
       "    <tr>\n",
       "      <th>0</th>\n",
       "      <td>P01_01_0</td>\n",
       "      <td>P01</td>\n",
       "      <td>P01_01</td>\n",
       "      <td>00:00:01.089</td>\n",
       "      <td>00:00:00.14</td>\n",
       "      <td>00:00:03.37</td>\n",
       "      <td>8</td>\n",
       "      <td>202</td>\n",
       "      <td>open door</td>\n",
       "      <td>open</td>\n",
       "      <td>3</td>\n",
       "      <td>door</td>\n",
       "      <td>3</td>\n",
       "      <td>['door']</td>\n",
       "      <td>[3]</td>\n",
       "    </tr>\n",
       "  </tbody>\n",
       "</table>\n",
       "</div>"
      ],
      "text/plain": [
       "  narration_id participant_id video_id narration_timestamp start_timestamp   \n",
       "0     P01_01_0            P01   P01_01        00:00:01.089     00:00:00.14  \\\n",
       "\n",
       "  stop_timestamp  start_frame  stop_frame  narration  verb  verb_class  noun   \n",
       "0    00:00:03.37            8         202  open door  open           3  door  \\\n",
       "\n",
       "   noun_class all_nouns all_noun_classes  \n",
       "0           3  ['door']              [3]  "
      ]
     },
     "execution_count": 3,
     "metadata": {},
     "output_type": "execute_result"
    }
   ],
   "source": [
    "df = pd.read_csv(CSV_NAME)\n",
    "df.head(1)"
   ]
  },
  {
   "cell_type": "code",
   "execution_count": 4,
   "id": "0f27caca-8876-4583-b5e9-be2fc56ab56e",
   "metadata": {
    "tags": []
   },
   "outputs": [
    {
     "data": {
      "text/plain": [
       "array([ 3,  6,  0,  5,  1,  4, 10,  7, 59, 77, 13, 23,  9, 38, 17, 28, 12,\n",
       "        2, 72, 16, 35, 60,  8, 37, 18, 14, 11, 20, 39, 31, 15, 41, 22, 45,\n",
       "       24, 42, 19, 34, 51, 27, 53, 52, 48, 47, 87, 64, 71, 49, 32, 21, 33,\n",
       "       56, 44, 73, 25, 63, 30, 36, 82, 67, 26, 50, 89, 46, 61, 70, 76, 68,\n",
       "       74, 40, 55, 86, 43, 91, 57, 66, 83, 94, 81, 29, 65, 58, 78, 62, 95,\n",
       "       54, 85, 88, 69, 75, 79, 84, 80, 92, 96, 90, 93], dtype=int64)"
      ]
     },
     "execution_count": 4,
     "metadata": {},
     "output_type": "execute_result"
    }
   ],
   "source": [
    "df['verb_class'].unique()"
   ]
  },
  {
   "cell_type": "code",
   "execution_count": 5,
   "id": "18c5104a-e094-4730-a88b-d179d363293b",
   "metadata": {
    "tags": []
   },
   "outputs": [
    {
     "data": {
      "text/html": [
       "<div>\n",
       "<style scoped>\n",
       "    .dataframe tbody tr th:only-of-type {\n",
       "        vertical-align: middle;\n",
       "    }\n",
       "\n",
       "    .dataframe tbody tr th {\n",
       "        vertical-align: top;\n",
       "    }\n",
       "\n",
       "    .dataframe thead th {\n",
       "        text-align: right;\n",
       "    }\n",
       "</style>\n",
       "<table border=\"1\" class=\"dataframe\">\n",
       "  <thead>\n",
       "    <tr style=\"text-align: right;\">\n",
       "      <th></th>\n",
       "      <th>participant_id</th>\n",
       "      <th>video_id</th>\n",
       "      <th>start_frame</th>\n",
       "      <th>stop_frame</th>\n",
       "      <th>verb_class</th>\n",
       "    </tr>\n",
       "  </thead>\n",
       "  <tbody>\n",
       "    <tr>\n",
       "      <th>0</th>\n",
       "      <td>P01</td>\n",
       "      <td>P01_01</td>\n",
       "      <td>8</td>\n",
       "      <td>202</td>\n",
       "      <td>3</td>\n",
       "    </tr>\n",
       "    <tr>\n",
       "      <th>1</th>\n",
       "      <td>P01</td>\n",
       "      <td>P01_01</td>\n",
       "      <td>262</td>\n",
       "      <td>370</td>\n",
       "      <td>6</td>\n",
       "    </tr>\n",
       "    <tr>\n",
       "      <th>2</th>\n",
       "      <td>P01</td>\n",
       "      <td>P01_01</td>\n",
       "      <td>1498</td>\n",
       "      <td>1572</td>\n",
       "      <td>3</td>\n",
       "    </tr>\n",
       "    <tr>\n",
       "      <th>3</th>\n",
       "      <td>P01</td>\n",
       "      <td>P01_01</td>\n",
       "      <td>28785</td>\n",
       "      <td>28852</td>\n",
       "      <td>0</td>\n",
       "    </tr>\n",
       "    <tr>\n",
       "      <th>4</th>\n",
       "      <td>P01</td>\n",
       "      <td>P01_01</td>\n",
       "      <td>28888</td>\n",
       "      <td>28932</td>\n",
       "      <td>3</td>\n",
       "    </tr>\n",
       "  </tbody>\n",
       "</table>\n",
       "</div>"
      ],
      "text/plain": [
       "  participant_id video_id  start_frame  stop_frame  verb_class\n",
       "0            P01   P01_01            8         202           3\n",
       "1            P01   P01_01          262         370           6\n",
       "2            P01   P01_01         1498        1572           3\n",
       "3            P01   P01_01        28785       28852           0\n",
       "4            P01   P01_01        28888       28932           3"
      ]
     },
     "execution_count": 5,
     "metadata": {},
     "output_type": "execute_result"
    }
   ],
   "source": [
    "columns = ['participant_id', 'video_id', 'start_frame', 'stop_frame', 'verb_class']\n",
    "clip_df = df[columns]\n",
    "clip_df.head()"
   ]
  },
  {
   "cell_type": "code",
   "execution_count": 7,
   "id": "84b87151-f273-47e1-84f7-e80e64e320e5",
   "metadata": {
    "tags": []
   },
   "outputs": [
    {
     "name": "stderr",
     "output_type": "stream",
     "text": [
      "C:\\Users\\34609\\AppData\\Local\\Temp\\ipykernel_15320\\265523361.py:1: SettingWithCopyWarning: \n",
      "A value is trying to be set on a copy of a slice from a DataFrame.\n",
      "Try using .loc[row_indexer,col_indexer] = value instead\n",
      "\n",
      "See the caveats in the documentation: https://pandas.pydata.org/pandas-docs/stable/user_guide/indexing.html#returning-a-view-versus-a-copy\n",
      "  clip_df['num_frames'] = clip_df.apply(lambda row: row.stop_frame - row.start_frame, axis = 1)\n"
     ]
    }
   ],
   "source": [
    "clip_df['num_frames'] = clip_df.apply(lambda row: row.stop_frame - row.start_frame, axis = 1)"
   ]
  },
  {
   "cell_type": "code",
   "execution_count": 8,
   "id": "4768e56e-bc81-4403-aea4-a7f128822d47",
   "metadata": {
    "tags": []
   },
   "outputs": [
    {
     "data": {
      "text/html": [
       "<div>\n",
       "<style scoped>\n",
       "    .dataframe tbody tr th:only-of-type {\n",
       "        vertical-align: middle;\n",
       "    }\n",
       "\n",
       "    .dataframe tbody tr th {\n",
       "        vertical-align: top;\n",
       "    }\n",
       "\n",
       "    .dataframe thead th {\n",
       "        text-align: right;\n",
       "    }\n",
       "</style>\n",
       "<table border=\"1\" class=\"dataframe\">\n",
       "  <thead>\n",
       "    <tr style=\"text-align: right;\">\n",
       "      <th></th>\n",
       "      <th>participant_id</th>\n",
       "      <th>video_id</th>\n",
       "      <th>start_frame</th>\n",
       "      <th>stop_frame</th>\n",
       "      <th>verb_class</th>\n",
       "      <th>num_frames</th>\n",
       "    </tr>\n",
       "  </thead>\n",
       "  <tbody>\n",
       "    <tr>\n",
       "      <th>0</th>\n",
       "      <td>P01</td>\n",
       "      <td>P01_01</td>\n",
       "      <td>8</td>\n",
       "      <td>202</td>\n",
       "      <td>3</td>\n",
       "      <td>194</td>\n",
       "    </tr>\n",
       "    <tr>\n",
       "      <th>1</th>\n",
       "      <td>P01</td>\n",
       "      <td>P01_01</td>\n",
       "      <td>262</td>\n",
       "      <td>370</td>\n",
       "      <td>6</td>\n",
       "      <td>108</td>\n",
       "    </tr>\n",
       "    <tr>\n",
       "      <th>2</th>\n",
       "      <td>P01</td>\n",
       "      <td>P01_01</td>\n",
       "      <td>1498</td>\n",
       "      <td>1572</td>\n",
       "      <td>3</td>\n",
       "      <td>74</td>\n",
       "    </tr>\n",
       "    <tr>\n",
       "      <th>3</th>\n",
       "      <td>P01</td>\n",
       "      <td>P01_01</td>\n",
       "      <td>28785</td>\n",
       "      <td>28852</td>\n",
       "      <td>0</td>\n",
       "      <td>67</td>\n",
       "    </tr>\n",
       "    <tr>\n",
       "      <th>4</th>\n",
       "      <td>P01</td>\n",
       "      <td>P01_01</td>\n",
       "      <td>28888</td>\n",
       "      <td>28932</td>\n",
       "      <td>3</td>\n",
       "      <td>44</td>\n",
       "    </tr>\n",
       "  </tbody>\n",
       "</table>\n",
       "</div>"
      ],
      "text/plain": [
       "  participant_id video_id  start_frame  stop_frame  verb_class  num_frames\n",
       "0            P01   P01_01            8         202           3         194\n",
       "1            P01   P01_01          262         370           6         108\n",
       "2            P01   P01_01         1498        1572           3          74\n",
       "3            P01   P01_01        28785       28852           0          67\n",
       "4            P01   P01_01        28888       28932           3          44"
      ]
     },
     "execution_count": 8,
     "metadata": {},
     "output_type": "execute_result"
    }
   ],
   "source": [
    "clip_df.head()"
   ]
  },
  {
   "cell_type": "code",
   "execution_count": 18,
   "id": "ab1e16b6-3e6d-4c05-b928-e72e0810daf4",
   "metadata": {
    "tags": []
   },
   "outputs": [],
   "source": [
    "a = clip_df['num_frames']"
   ]
  },
  {
   "cell_type": "code",
   "execution_count": 22,
   "id": "1c28aa1c-1844-4362-9d76-05058d14f0b0",
   "metadata": {
    "tags": []
   },
   "outputs": [
    {
     "data": {
      "text/plain": [
       "<Axes: ylabel='Frequency'>"
      ]
     },
     "execution_count": 22,
     "metadata": {},
     "output_type": "execute_result"
    },
    {
     "data": {
      "image/png": "[encoded data removed]",
      "text/plain": [
       "<Figure size 640x480 with 1 Axes>"
      ]
     },
     "metadata": {},
     "output_type": "display_data"
    }
   ],
   "source": [
    "a.plot(kind='hist', bins=50)"
   ]
  },
  {
   "cell_type": "code",
   "execution_count": 23,
   "id": "d1298c11-0fc3-4ca9-ae30-1d4a8bade11e",
   "metadata": {
    "tags": []
   },
   "outputs": [
    {
     "data": {
      "text/plain": [
       "array([194, 108,  74, ..., 461, 181, 390], dtype=int64)"
      ]
     },
     "execution_count": 23,
     "metadata": {},
     "output_type": "execute_result"
    }
   ],
   "source": [
    "a_arr = np.array(a)\n",
    "a_arr"
   ]
  },
  {
   "cell_type": "code",
   "execution_count": 24,
   "id": "e0f2b75a-1fee-4462-96bc-24ef616e6102",
   "metadata": {
    "tags": []
   },
   "outputs": [
    {
     "data": {
      "text/plain": [
       "(array([15285., 22597.,  9644.,  5283.,  3147.,  2187.,  1607.,  1311.]),\n",
       " array([  0.,  50., 100., 150., 200., 250., 300., 350., 400.]),\n",
       " <BarContainer object of 8 artists>)"
      ]
     },
     "execution_count": 24,
     "metadata": {},
     "output_type": "execute_result"
    },
    {
     "data": {
      "image/png": "[encoded data removed]",
      "text/plain": [
       "<Figure size 1000x700 with 1 Axes>"
      ]
     },
     "metadata": {},
     "output_type": "display_data"
    }
   ],
   "source": [
    "fig, ax = plt.subplots(figsize =(10, 7))\n",
    "ax.hist(a_arr, bins = [0, 50, 100, 150, 200, 250, 300, 350, 400])"
   ]
  },
  {
   "cell_type": "code",
   "execution_count": 26,
   "id": "d1ea87b8-22e7-44e4-a13d-b319bf679f3a",
   "metadata": {
    "tags": []
   },
   "outputs": [
    {
     "name": "stdout",
     "output_type": "stream",
     "text": [
      "Total of clips with more than 200 frames: 14329\n",
      "% of frames with more than 200 frames: 21.317523840695063\n"
     ]
    }
   ],
   "source": [
    "b = [x for x in a_arr if x > 200]\n",
    "print(f'Total of clips with more than 200 frames: {len(b)}')\n",
    "print(f'% of frames with more than 200 frames: {(len(b)/len(a)) * 100}')"
   ]
  },
  {
   "cell_type": "code",
   "execution_count": 13,
   "id": "f4af55fd-671f-4e17-a45a-2e20d7159961",
   "metadata": {
    "tags": []
   },
   "outputs": [],
   "source": [
    "df_drop = clip_df.drop(clip_df[clip_df['video_id']== 'P23_04'].index)"
   ]
  },
  {
   "cell_type": "code",
   "execution_count": 14,
   "id": "4022c77d-74d6-4408-9465-4fb99a35441f",
   "metadata": {
    "tags": []
   },
   "outputs": [
    {
     "data": {
      "text/plain": [
       "array(['P01_01', 'P01_02', 'P01_03', 'P01_04', 'P01_05', 'P01_06',\n",
       "       'P01_07', 'P01_08', 'P01_09', 'P01_102', 'P01_103', 'P01_104',\n",
       "       'P01_105', 'P01_106', 'P01_107', 'P01_108', 'P01_109', 'P01_10',\n",
       "       'P01_16', 'P01_17', 'P01_18', 'P01_19', 'P02_01', 'P02_02',\n",
       "       'P02_03', 'P02_04', 'P02_05', 'P02_06', 'P02_07', 'P02_08',\n",
       "       'P02_09', 'P02_101', 'P02_102', 'P02_103', 'P02_104', 'P02_105',\n",
       "       'P02_107', 'P02_108', 'P02_109', 'P02_10', 'P02_110', 'P02_111',\n",
       "       'P02_112', 'P02_113', 'P02_114', 'P02_115', 'P02_116', 'P02_118',\n",
       "       'P02_119', 'P02_11', 'P02_120', 'P02_121', 'P02_122', 'P02_123',\n",
       "       'P02_124', 'P02_126', 'P02_127', 'P02_128', 'P02_129', 'P02_130',\n",
       "       'P02_131', 'P02_132', 'P02_133', 'P02_134', 'P02_135', 'P03_02',\n",
       "       'P03_03', 'P03_04', 'P03_05', 'P03_06', 'P03_07', 'P03_08',\n",
       "       'P03_09', 'P03_101', 'P03_102', 'P03_106', 'P03_107', 'P03_108',\n",
       "       'P03_109', 'P03_10', 'P03_110', 'P03_111', 'P03_112', 'P03_113',\n",
       "       'P03_114', 'P03_115', 'P03_116', 'P03_117', 'P03_118', 'P03_119',\n",
       "       'P03_11', 'P03_120', 'P03_121', 'P03_122', 'P03_123', 'P03_12',\n",
       "       'P03_13', 'P03_14', 'P03_15', 'P03_16', 'P03_17', 'P03_18',\n",
       "       'P03_19', 'P03_20', 'P03_27', 'P03_28', 'P04_01', 'P04_02',\n",
       "       'P04_03', 'P04_04', 'P04_05', 'P04_06', 'P04_07', 'P04_08',\n",
       "       'P04_09', 'P04_101', 'P04_102', 'P04_103', 'P04_104', 'P04_106',\n",
       "       'P04_107', 'P04_108', 'P04_109', 'P04_10', 'P04_110', 'P04_111',\n",
       "       'P04_112', 'P04_113', 'P04_114', 'P04_115', 'P04_116', 'P04_117',\n",
       "       'P04_118', 'P04_119', 'P04_11', 'P04_120', 'P04_121', 'P04_12',\n",
       "       'P04_13', 'P04_14', 'P04_15', 'P04_16', 'P04_17', 'P04_18',\n",
       "       'P04_19', 'P04_20', 'P04_21', 'P04_22', 'P04_23', 'P05_01',\n",
       "       'P05_02', 'P05_03', 'P05_04', 'P05_05', 'P05_06', 'P05_08',\n",
       "       'P06_01', 'P06_02', 'P06_03', 'P06_05', 'P06_07', 'P06_08',\n",
       "       'P06_09', 'P06_101', 'P06_102', 'P06_103', 'P06_104', 'P06_105',\n",
       "       'P06_106', 'P06_107', 'P06_108', 'P06_109', 'P06_110', 'P06_113',\n",
       "       'P07_01', 'P07_02', 'P07_03', 'P07_04', 'P07_05', 'P07_06',\n",
       "       'P07_07', 'P07_08', 'P07_09', 'P07_101', 'P07_102', 'P07_103',\n",
       "       'P07_106', 'P07_107', 'P07_10', 'P07_110', 'P07_111', 'P07_112',\n",
       "       'P07_113', 'P07_114', 'P07_115', 'P07_116', 'P07_117', 'P07_11',\n",
       "       'P08_01', 'P08_02', 'P08_03', 'P08_04', 'P08_05', 'P08_06',\n",
       "       'P08_07', 'P08_08', 'P08_11', 'P08_12', 'P08_13', 'P08_18',\n",
       "       'P08_19', 'P08_20', 'P08_21', 'P08_22', 'P08_23', 'P08_24',\n",
       "       'P08_25', 'P08_26', 'P08_27', 'P08_28', 'P09_01', 'P09_02',\n",
       "       'P09_03', 'P09_04', 'P09_05', 'P09_06', 'P09_103', 'P09_104',\n",
       "       'P09_105', 'P09_106', 'P10_01', 'P10_02', 'P10_04', 'P11_01',\n",
       "       'P11_02', 'P11_03', 'P11_04', 'P11_05', 'P11_06', 'P11_07',\n",
       "       'P11_08', 'P11_09', 'P11_101', 'P11_102', 'P11_103', 'P11_104',\n",
       "       'P11_105', 'P11_107', 'P11_109', 'P11_10', 'P11_11', 'P11_12',\n",
       "       'P11_13', 'P11_14', 'P11_15', 'P11_16', 'P12_01', 'P12_02',\n",
       "       'P12_04', 'P12_05', 'P12_06', 'P12_07', 'P12_101', 'P12_103',\n",
       "       'P12_104', 'P12_105', 'P13_04', 'P13_05', 'P13_06', 'P13_07',\n",
       "       'P13_08', 'P13_09', 'P13_10', 'P14_01', 'P14_02', 'P14_03',\n",
       "       'P14_04', 'P14_05', 'P14_07', 'P14_09', 'P15_01', 'P15_02',\n",
       "       'P15_03', 'P15_07', 'P15_08', 'P15_09', 'P15_10', 'P15_11',\n",
       "       'P15_12', 'P15_13', 'P16_01', 'P16_02', 'P16_03', 'P17_01',\n",
       "       'P17_03', 'P17_04', 'P19_01', 'P19_02', 'P19_03', 'P19_04',\n",
       "       'P20_01', 'P20_02', 'P20_03', 'P20_04', 'P21_01', 'P21_03',\n",
       "       'P21_04', 'P22_05', 'P22_06', 'P22_07', 'P22_08', 'P22_09',\n",
       "       'P22_101', 'P22_102', 'P22_103', 'P22_104', 'P22_105', 'P22_106',\n",
       "       'P22_107', 'P22_108', 'P22_109', 'P22_10', 'P22_110', 'P22_111',\n",
       "       'P22_112', 'P22_113', 'P22_115', 'P22_116', 'P22_117', 'P22_11',\n",
       "       'P22_12', 'P22_13', 'P22_14', 'P22_15', 'P22_16', 'P22_17',\n",
       "       'P23_01', 'P23_02', 'P23_03', 'P23_101', 'P23_102', 'P24_01',\n",
       "       'P24_02', 'P24_03', 'P24_04', 'P24_05', 'P24_06', 'P24_07',\n",
       "       'P24_08', 'P25_01', 'P25_02', 'P25_03', 'P25_04', 'P25_05',\n",
       "       'P25_09', 'P25_101', 'P25_102', 'P25_103', 'P25_104', 'P25_106',\n",
       "       'P25_107', 'P25_10', 'P25_11', 'P25_12', 'P26_01', 'P26_02',\n",
       "       'P26_03', 'P26_04', 'P26_05', 'P26_06', 'P26_07', 'P26_08',\n",
       "       'P26_09', 'P26_101', 'P26_102', 'P26_103', 'P26_104', 'P26_105',\n",
       "       'P26_106', 'P26_107', 'P26_108', 'P26_109', 'P26_10', 'P26_110',\n",
       "       'P26_111', 'P26_112', 'P26_113', 'P26_114', 'P26_115', 'P26_116',\n",
       "       'P26_117', 'P26_118', 'P26_119', 'P26_11', 'P26_124', 'P26_12',\n",
       "       'P26_13', 'P26_14', 'P26_15', 'P26_16', 'P26_17', 'P26_18',\n",
       "       'P26_19', 'P26_20', 'P26_21', 'P26_22', 'P26_23', 'P26_24',\n",
       "       'P26_25', 'P26_26', 'P26_27', 'P26_28', 'P26_29', 'P27_01',\n",
       "       'P27_02', 'P27_03', 'P27_04', 'P27_06', 'P27_07', 'P27_101',\n",
       "       'P27_103', 'P27_104', 'P27_105', 'P28_01', 'P28_02', 'P28_03',\n",
       "       'P28_04', 'P28_05', 'P28_06', 'P28_07', 'P28_08', 'P28_09',\n",
       "       'P28_101', 'P28_102', 'P28_103', 'P28_104', 'P28_105', 'P28_106',\n",
       "       'P28_107', 'P28_108', 'P28_109', 'P28_10', 'P28_110', 'P28_111',\n",
       "       'P28_112', 'P28_113', 'P28_11', 'P28_12', 'P28_13', 'P28_14',\n",
       "       'P29_01', 'P29_02', 'P29_03', 'P29_04', 'P30_01', 'P30_02',\n",
       "       'P30_03', 'P30_04', 'P30_05', 'P30_06', 'P30_101', 'P30_103',\n",
       "       'P30_104', 'P30_107', 'P30_108', 'P30_109', 'P30_10', 'P30_110',\n",
       "       'P30_111', 'P30_112', 'P30_113', 'P30_114', 'P30_11', 'P31_01',\n",
       "       'P31_02', 'P31_03', 'P31_04', 'P31_05', 'P31_06', 'P31_07',\n",
       "       'P31_08', 'P31_09', 'P31_13', 'P31_14', 'P35_101', 'P35_103',\n",
       "       'P35_104', 'P35_105', 'P35_107', 'P35_108', 'P35_109', 'P37_101',\n",
       "       'P37_102', 'P37_103'], dtype=object)"
      ]
     },
     "execution_count": 14,
     "metadata": {},
     "output_type": "execute_result"
    }
   ],
   "source": [
    "df_drop['video_id'].unique()"
   ]
  },
  {
   "cell_type": "code",
   "execution_count": 6,
   "id": "5bc03ec5-2e8d-495e-8005-d68025da0fd2",
   "metadata": {
    "tags": []
   },
   "outputs": [
    {
     "data": {
      "text/plain": [
       "participant_id       P01\n",
       "video_id          P01_01\n",
       "start_frame            8\n",
       "stop_frame           202\n",
       "verb_class             3\n",
       "Name: 0, dtype: object"
      ]
     },
     "execution_count": 6,
     "metadata": {},
     "output_type": "execute_result"
    }
   ],
   "source": [
    "clip_info = clip_df.iloc[0]\n",
    "clip_info"
   ]
  },
  {
   "cell_type": "code",
   "execution_count": 42,
   "id": "e42ad6de-2b76-4e79-b9ce-a1022e16ec52",
   "metadata": {
    "tags": []
   },
   "outputs": [
    {
     "data": {
      "text/plain": [
       "array(['P01', 'P02', 'P03', 'P04', 'P05', 'P06', 'P07', 'P08', 'P09',\n",
       "       'P10', 'P11', 'P12', 'P13', 'P14', 'P15', 'P16', 'P17', 'P19',\n",
       "       'P20', 'P21', 'P22', 'P23', 'P24', 'P25', 'P26', 'P27', 'P28',\n",
       "       'P29', 'P30', 'P31', 'P35', 'P37'], dtype=object)"
      ]
     },
     "execution_count": 42,
     "metadata": {},
     "output_type": "execute_result"
    }
   ],
   "source": [
    "clip_df['participant_id'].unique()"
   ]
  },
  {
   "cell_type": "code",
   "execution_count": 40,
   "id": "9dd1b1e9-d6cc-4dd7-a9a6-35f4b10750ec",
   "metadata": {
    "tags": []
   },
   "outputs": [],
   "source": [
    "error = clip_df[clip_df['video_id'] == 'P23_04']"
   ]
  },
  {
   "cell_type": "code",
   "execution_count": 41,
   "id": "313706e6-88d8-4b9d-9878-b0b5d016d4cb",
   "metadata": {
    "tags": []
   },
   "outputs": [
    {
     "name": "stdout",
     "output_type": "stream",
     "text": [
      "      participant_id video_id  start_frame  stop_frame  verb_class\n",
      "46123            P23   P23_04            1         580           0\n",
      "46124            P23   P23_04          586        1816          12\n",
      "46125            P23   P23_04        15381       15867          12\n",
      "46126            P23   P23_04        82392       82725           2\n",
      "46127            P23   P23_04        82764       83062          12\n",
      "...              ...      ...          ...         ...         ...\n",
      "46306            P23   P23_04        79679       79736           0\n",
      "46307            P23   P23_04        79736       79788           5\n",
      "46308            P23   P23_04        79914       79983           0\n",
      "46309            P23   P23_04        80019       80485           2\n",
      "46310            P23   P23_04        80922       81630           2\n",
      "\n",
      "[188 rows x 5 columns]\n"
     ]
    }
   ],
   "source": [
    "print(error)"
   ]
  },
  {
   "cell_type": "code",
   "execution_count": 16,
   "id": "90ae3c4a-4a2d-43ac-bbc6-82e9de79d2a4",
   "metadata": {
    "tags": []
   },
   "outputs": [
    {
     "data": {
      "text/plain": [
       "(67029, 5)"
      ]
     },
     "execution_count": 16,
     "metadata": {},
     "output_type": "execute_result"
    }
   ],
   "source": [
    "df_drop.shape"
   ]
  },
  {
   "cell_type": "markdown",
   "id": "4cfd6198-58fa-435f-a55d-8370b399bc0b",
   "metadata": {
    "tags": []
   },
   "source": [
    "### Dataset class testing"
   ]
  },
  {
   "cell_type": "code",
   "execution_count": 7,
   "id": "8122475c-c6c2-4d10-9e31-5d6a307a3532",
   "metadata": {
    "tags": []
   },
   "outputs": [],
   "source": [
    "middel_frame = clip_info['start_frame'] + (clip_info['stop_frame'] - clip_info['start_frame']) // 2\n",
    "clip_frames = (middel_frame - 30 // 2, middel_frame + 30 // 2)\n",
    "clip_paths = ['home/' + 'frame_' + str(x).rjust(10, '0') + '.jpg' for x in range(clip_frames[0], clip_frames[1])]"
   ]
  },
  {
   "cell_type": "code",
   "execution_count": 8,
   "id": "3009eec2-7885-494c-b4f6-47d15cfc3377",
   "metadata": {
    "tags": []
   },
   "outputs": [
    {
     "name": "stdout",
     "output_type": "stream",
     "text": [
      "home/frame_0000000090.jpg\n"
     ]
    }
   ],
   "source": [
    "for path in clip_paths:\n",
    "    print(path)\n",
    "    break"
   ]
  },
  {
   "cell_type": "code",
   "execution_count": 103,
   "id": "fe5dc901-cf52-4717-b836-116f8088685f",
   "metadata": {
    "tags": []
   },
   "outputs": [
    {
     "name": "stdout",
     "output_type": "stream",
     "text": [
      "torch.Size([1920, 1080, 3, 1])\n"
     ]
    }
   ],
   "source": [
    "x = torch.rand((1920, 1080, 3)).unsqueeze(-1)\n",
    "y = torch.rand((1920, 1080, 3)).unsqueeze(-1)\n",
    "z = torch.rand((1920, 1080, 3)).unsqueeze(-1)\n",
    "\n",
    "print(x.shape)"
   ]
  },
  {
   "cell_type": "code",
   "execution_count": 104,
   "id": "94f7c55e-fd5e-4337-9f00-d9a016094a71",
   "metadata": {
    "tags": []
   },
   "outputs": [
    {
     "name": "stdout",
     "output_type": "stream",
     "text": [
      "torch.Size([1920, 1080, 3, 3])\n"
     ]
    }
   ],
   "source": [
    "lst = [x, y, z]\n",
    "v = torch.cat(lst, -1)\n",
    "print(v.shape)"
   ]
  },
  {
   "cell_type": "code",
   "execution_count": 107,
   "id": "707c10d2-aa52-4076-91c2-2841ef0e74a9",
   "metadata": {
    "tags": []
   },
   "outputs": [
    {
     "name": "stdout",
     "output_type": "stream",
     "text": [
      "torch.Size([640, 224, 224])\n"
     ]
    }
   ],
   "source": [
    "x = torch.rand((640, 640, 3))\n",
    "x\n",
    "resize = T.Resize(size=(224,224))\n",
    "x_resized = resize(x)\n",
    "print(x_resized.shape)"
   ]
  },
  {
   "cell_type": "code",
   "execution_count": 75,
   "id": "4094d508-031b-43e4-81cf-f7233a07d7cb",
   "metadata": {
    "tags": []
   },
   "outputs": [
    {
     "name": "stdout",
     "output_type": "stream",
     "text": [
      "2\n",
      "pad: (4, 3)\n",
      "torch.Size([3, 1920, 1080, 10])\n"
     ]
    }
   ],
   "source": [
    "missing_frames = 7\n",
    "\n",
    "# check if missing frames is odd in order to ensure that after padding, \n",
    "# num_frames equals NUM_FRAMES\n",
    "if missing_frames % 2 == 0:\n",
    "    print('1')\n",
    "    pad = (missing_frames // 2, missing_frames // 2)\n",
    "else:\n",
    "    print('2')\n",
    "    pad = (missing_frames // 2 + 1, missing_frames // 2)\n",
    "print(f'pad: {pad}')\n",
    "video = F.pad(v, pad, 'constant', 0)\n",
    "print(video.shape)"
   ]
  },
  {
   "cell_type": "code",
   "execution_count": 89,
   "id": "838c50f1-50b8-411b-9a18-6906c987ef3d",
   "metadata": {
    "tags": []
   },
   "outputs": [
    {
     "name": "stdout",
     "output_type": "stream",
     "text": [
      "v1 shape: torch.Size([3, 2073600, 10])\n",
      "stride: 4\n",
      "torch.Size([3, 1920, 1080, 3])\n"
     ]
    }
   ],
   "source": [
    "# pool of size=3, stride=2\n",
    "v1 = rearrange(video, 'c w h t -> c (w h) t')\n",
    "print(f'v1 shape: {v1.shape}')\n",
    "total = 10\n",
    "num = 3\n",
    "s = (total - 1)//(num - 1)\n",
    "print(f'stride: {s}')\n",
    "m = torch.nn.MaxPool1d(kernel_size = 2, stride=s)\n",
    "output = m(v1)\n",
    "output = rearrange(output, 'c (w h) t -> c w h t', h = 1080)\n",
    "print(output.shape)"
   ]
  },
  {
   "cell_type": "code",
   "execution_count": 86,
   "id": "410a93e2-33b6-4167-b157-2f987737fe3e",
   "metadata": {
    "tags": []
   },
   "outputs": [
    {
     "data": {
      "text/plain": [
       "2073600"
      ]
     },
     "execution_count": 86,
     "metadata": {},
     "output_type": "execute_result"
    }
   ],
   "source": [
    "a = 1920 * 1080\n",
    "a"
   ]
  },
  {
   "cell_type": "markdown",
   "id": "cb83ab88-8a17-4cd7-affd-b159431fa974",
   "metadata": {},
   "source": [
    "### image load test"
   ]
  },
  {
   "cell_type": "code",
   "execution_count": 14,
   "id": "a83ece72-6c0c-495b-9775-c4e820536187",
   "metadata": {
    "tags": []
   },
   "outputs": [],
   "source": [
    "img_path = 'sample_image.jpg'\n",
    "resize = T.Resize(size=(160, 160))"
   ]
  },
  {
   "cell_type": "code",
   "execution_count": 11,
   "id": "8048379d-8ded-4fee-a1d6-1ecbc29046cd",
   "metadata": {
    "tags": []
   },
   "outputs": [],
   "source": [
    "x = Image.open(img_path)"
   ]
  },
  {
   "cell_type": "code",
   "execution_count": 17,
   "id": "393b49f9-b406-42ee-b986-87376da2551a",
   "metadata": {
    "tags": []
   },
   "outputs": [
    {
     "data": {
      "text/plain": [
       "'RGB'"
      ]
     },
     "execution_count": 17,
     "metadata": {},
     "output_type": "execute_result"
    }
   ],
   "source": [
    "x.mode"
   ]
  },
  {
   "cell_type": "code",
   "execution_count": 12,
   "id": "090328d7-c7bc-4213-a8f3-3f93634776e3",
   "metadata": {
    "tags": []
   },
   "outputs": [
    {
     "name": "stdout",
     "output_type": "stream",
     "text": [
      "torch.Size([200, 150, 3])\n"
     ]
    }
   ],
   "source": [
    "y = torch.tensor(np.asarray(x)).to('cpu')\n",
    "print(y.shape)"
   ]
  },
  {
   "cell_type": "code",
   "execution_count": 13,
   "id": "9b097c43-356c-42d2-b3f1-a648974c0fc1",
   "metadata": {},
   "outputs": [
    {
     "name": "stdout",
     "output_type": "stream",
     "text": [
      "torch.Size([3, 200, 150])\n"
     ]
    }
   ],
   "source": [
    "y = rearrange(y, 'h w c -> c h w')\n",
    "print(y.shape)"
   ]
  },
  {
   "cell_type": "code",
   "execution_count": 15,
   "id": "e8e7985a-e53f-4128-8d6e-45bd0dffbd0a",
   "metadata": {
    "tags": []
   },
   "outputs": [
    {
     "name": "stdout",
     "output_type": "stream",
     "text": [
      "torch.Size([3, 160, 160, 1])\n"
     ]
    }
   ],
   "source": [
    "y = resize(y).unsqueeze(-1)\n",
    "print(y.shape)"
   ]
  },
  {
   "cell_type": "code",
   "execution_count": 30,
   "id": "639ffa0d-7ae4-48b6-87d2-c2e89dbad9b7",
   "metadata": {
    "tags": []
   },
   "outputs": [
    {
     "name": "stdout",
     "output_type": "stream",
     "text": [
      "torch.Size([3, 25600, 10])\n"
     ]
    }
   ],
   "source": [
    "lst = [y, y, y, y, y, y, y, y, y, y]\n",
    "v = torch.cat(lst, -1)\n",
    "print(z.shape)"
   ]
  },
  {
   "cell_type": "code",
   "execution_count": 21,
   "id": "d4ce7071-7c24-4872-966d-4f6ec56e32ab",
   "metadata": {
    "tags": []
   },
   "outputs": [],
   "source": [
    "num = 5\n",
    "total = 10"
   ]
  },
  {
   "cell_type": "code",
   "execution_count": 22,
   "id": "4d0623d5-3759-472b-8426-5bb5faae450b",
   "metadata": {
    "tags": []
   },
   "outputs": [
    {
     "name": "stdout",
     "output_type": "stream",
     "text": [
      "stride: 2\n"
     ]
    }
   ],
   "source": [
    "s = (total - 1)//(num - 1)\n",
    "print(f'stride: {s}')\n",
    "pool = torch.nn.MaxPool1d(kernel_size = 2, stride=s)"
   ]
  },
  {
   "cell_type": "code",
   "execution_count": 34,
   "id": "49ed1dfd-ceab-4617-a807-7a2d2f813259",
   "metadata": {
    "tags": []
   },
   "outputs": [
    {
     "name": "stdout",
     "output_type": "stream",
     "text": [
      "torch.ByteTensor\n",
      "torch.Size([3, 160, 160, 10])\n"
     ]
    }
   ],
   "source": [
    "v1 = rearrange(v, 'c w h t -> c (w h) t')\n",
    "print(v1.type())\n",
    "v1 = pool(v1.float())\n",
    "v1 = rearrange(v1, 'c (w h) t2 -> c w h t2', h=160)\n",
    "print(v.shape)"
   ]
  },
  {
   "cell_type": "code",
   "execution_count": 2,
   "id": "ec8f1106-f83a-4642-a007-105f76ff7ab7",
   "metadata": {
    "tags": []
   },
   "outputs": [
    {
     "name": "stdout",
     "output_type": "stream",
     "text": [
      "3\n",
      "4\n",
      "5\n",
      "6\n",
      "7\n",
      "8\n",
      "9\n"
     ]
    },
    {
     "data": {
      "text/plain": [
       "7"
      ]
     },
     "execution_count": 2,
     "metadata": {},
     "output_type": "execute_result"
    }
   ],
   "source": [
    "count = 0\n",
    "for x in range(3, 10):\n",
    "    print(x)\n",
    "    count += 1\n",
    "count"
   ]
  },
  {
   "cell_type": "code",
   "execution_count": 27,
   "id": "83a6c9d3-2b75-47c2-ae8e-3f770c9c4f4c",
   "metadata": {},
   "outputs": [],
   "source": [
    "a = torch.rand((3, 112, 112, 256))"
   ]
  },
  {
   "cell_type": "code",
   "execution_count": 32,
   "id": "99a3ca4a-ea4a-4a01-a179-fda57d6a98cc",
   "metadata": {
    "tags": []
   },
   "outputs": [
    {
     "name": "stdout",
     "output_type": "stream",
     "text": [
      "tensor([31])\n",
      "torch.Size([3, 112, 112, 200])\n"
     ]
    }
   ],
   "source": [
    "range_f = 257 - 200\n",
    "rand_f = torch.randint(low=1, high=range_f, size=(1,))\n",
    "print(rand_f)\n",
    "clip = rearrange(a, 'c w h t1 -> t1 c w h')\n",
    "clip = clip[rand_f:rand_f+200]\n",
    "clip = rearrange(clip, 't2 c w h -> c w h t2')  \n",
    "print(clip.size())"
   ]
  },
  {
   "cell_type": "code",
   "execution_count": 35,
   "id": "778c45f1-9a6d-4cdb-9773-babcab9bb68c",
   "metadata": {
    "tags": []
   },
   "outputs": [
    {
     "name": "stderr",
     "output_type": "stream",
     "text": [
      "C:\\Users\\34609\\anaconda3\\envs\\transformer_venv\\lib\\site-packages\\torch\\cuda\\amp\\grad_scaler.py:118: UserWarning: torch.cuda.amp.GradScaler is enabled, but CUDA is not available.  Disabling.\n",
      "  warnings.warn(\"torch.cuda.amp.GradScaler is enabled, but CUDA is not available.  Disabling.\")\n"
     ]
    }
   ],
   "source": [
    "scaler = torch.cuda.amp.GradScaler()"
   ]
  },
  {
   "cell_type": "code",
   "execution_count": null,
   "id": "abc68004-a609-4741-8c54-538bffd5449d",
   "metadata": {},
   "outputs": [],
   "source": []
  }
 ],
 "metadata": {
  "kernelspec": {
   "display_name": "Python 3 (ipykernel)",
   "language": "python",
   "name": "python3"
  },
  "language_info": {
   "codemirror_mode": {
    "name": "ipython",
    "version": 3
   },
   "file_extension": ".py",
   "mimetype": "text/x-python",
   "name": "python",
   "nbconvert_exporter": "python",
   "pygments_lexer": "ipython3",
   "version": "3.10.9"
  }
 },
 "nbformat": 4,
 "nbformat_minor": 5
}

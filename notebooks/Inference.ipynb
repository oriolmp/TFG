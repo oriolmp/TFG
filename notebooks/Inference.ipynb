{
 "cells": [
  {
   "cell_type": "code",
   "execution_count": 3,
   "id": "65082436",
   "metadata": {
    "tags": []
   },
   "outputs": [],
   "source": [
    "import pandas as pd\n",
    "import numpy as np\n",
    "import matplotlib.pyplot as plt\n",
    "import csv\n",
    "from sklearn.metrics import confusion_matrix, balanced_accuracy_score"
   ]
  },
  {
   "cell_type": "code",
   "execution_count": 23,
   "id": "8122475c-c6c2-4d10-9e31-5d6a307a3532",
   "metadata": {
    "tags": []
   },
   "outputs": [],
   "source": [
    "middel_frame = clip_info['start_frame'] + (clip_info['stop_frame'] - clip_info['start_frame']) // 2\n",
    "clip_frames = (middel_frame - 30 // 2, middel_frame + 30 // 2)\n",
    "clip_paths = ['home/' + 'frame_' + str(x).rjust(10, '0') + '.jpg' for x in range(clip_frames[0], clip_frames[1])]"
   ]
  },
  {
   "cell_type": "code",
   "execution_count": 24,
   "id": "3009eec2-7885-494c-b4f6-47d15cfc3377",
   "metadata": {
    "tags": []
   },
   "outputs": [
    {
     "name": "stdout",
     "output_type": "stream",
     "text": [
      "home/frame_0000000090.jpg\n"
     ]
    }
   ],
   "source": [
    "for path in clip_paths:\n",
    "    print(path)\n",
    "    break"
   ]
  },
  {
   "cell_type": "code",
   "execution_count": 25,
   "id": "fe5dc901-cf52-4717-b836-116f8088685f",
   "metadata": {
    "tags": []
   },
   "outputs": [
    {
     "name": "stdout",
     "output_type": "stream",
     "text": [
      "torch.Size([1920, 1080, 3, 1])\n"
     ]
    }
   ],
   "source": [
    "x = torch.rand((1920, 1080, 3)).unsqueeze(-1)\n",
    "y = torch.rand((1920, 1080, 3)).unsqueeze(-1)\n",
    "z = torch.rand((1920, 1080, 3)).unsqueeze(-1)\n",
    "\n",
    "print(x.shape)"
   ]
  },
  {
   "cell_type": "code",
   "execution_count": 26,
   "id": "94f7c55e-fd5e-4337-9f00-d9a016094a71",
   "metadata": {
    "tags": []
   },
   "outputs": [
    {
     "name": "stdout",
     "output_type": "stream",
     "text": [
      "torch.Size([1920, 1080, 3, 3])\n"
     ]
    }
   ],
   "source": [
    "lst = [x, y, z]\n",
    "v = torch.cat(lst, -1)\n",
    "print(v.shape)"
   ]
  },
  {
   "cell_type": "code",
   "execution_count": 27,
   "id": "707c10d2-aa52-4076-91c2-2841ef0e74a9",
   "metadata": {
    "tags": []
   },
   "outputs": [
    {
     "name": "stdout",
     "output_type": "stream",
     "text": [
      "torch.Size([640, 224, 224])\n"
     ]
    }
   ],
   "source": [
    "x = torch.rand((640, 640, 3))\n",
    "x\n",
    "resize = T.Resize(size=(224,224))\n",
    "x_resized = resize(x)\n",
    "print(x_resized.shape)"
   ]
  },
  {
   "cell_type": "code",
   "execution_count": 28,
   "id": "4094d508-031b-43e4-81cf-f7233a07d7cb",
   "metadata": {
    "tags": []
   },
   "outputs": [
    {
     "name": "stdout",
     "output_type": "stream",
     "text": [
      "2\n",
      "pad: (4, 3)\n",
      "torch.Size([1920, 1080, 3, 10])\n"
     ]
    }
   ],
   "source": [
    "missing_frames = 7\n",
    "\n",
    "# check if missing frames is odd in order to ensure that after padding, \n",
    "# num_frames equals NUM_FRAMES\n",
    "if missing_frames % 2 == 0:\n",
    "    print('1')\n",
    "    pad = (missing_frames // 2, missing_frames // 2)\n",
    "else:\n",
    "    print('2')\n",
    "    pad = (missing_frames // 2 + 1, missing_frames // 2)\n",
    "print(f'pad: {pad}')\n",
    "video = F.pad(v, pad, 'constant', 0)\n",
    "print(video.shape)"
   ]
  },
  {
   "cell_type": "code",
   "execution_count": 29,
   "id": "838c50f1-50b8-411b-9a18-6906c987ef3d",
   "metadata": {
    "tags": []
   },
   "outputs": [
    {
     "name": "stdout",
     "output_type": "stream",
     "text": [
      "v1 shape: torch.Size([1920, 3240, 10])\n",
      "stride: 4\n",
      "torch.Size([1920, 3, 1080, 3])\n"
     ]
    }
   ],
   "source": [
    "# pool of size=3, stride=2\n",
    "v1 = rearrange(video, 'c w h t -> c (w h) t')\n",
    "print(f'v1 shape: {v1.shape}')\n",
    "total = 10\n",
    "num = 3\n",
    "s = (total - 1)//(num - 1)\n",
    "print(f'stride: {s}')\n",
    "m = torch.nn.MaxPool1d(kernel_size = 2, stride=s)\n",
    "output = m(v1)\n",
    "output = rearrange(output, 'c (w h) t -> c w h t', h = 1080)\n",
    "print(output.shape)"
   ]
  },
  {
   "cell_type": "code",
   "execution_count": 30,
   "id": "410a93e2-33b6-4167-b157-2f987737fe3e",
   "metadata": {
    "tags": []
   },
   "outputs": [
    {
     "data": {
      "text/plain": [
       "2073600"
      ]
     },
     "execution_count": 30,
     "metadata": {},
     "output_type": "execute_result"
    }
   ],
   "source": [
    "a = 1920 * 1080\n",
    "a"
   ]
  },
  {
   "cell_type": "markdown",
   "id": "2f8ab0ef-51d1-4500-a95e-d3301a98e015",
   "metadata": {
    "tags": []
   },
   "source": [
    "### Test results"
   ]
  },
  {
   "cell_type": "code",
   "execution_count": 4,
   "id": "e445451a-3007-4258-8340-a96f68fd3349",
   "metadata": {
    "tags": []
   },
   "outputs": [],
   "source": [
    "RESULTS_CSV = 'labels_nystromformer_1.csv'"
   ]
  },
  {
   "cell_type": "code",
   "execution_count": 5,
   "id": "1355b864-2225-4f60-91e1-01c2a5542903",
   "metadata": {
    "tags": []
   },
   "outputs": [],
   "source": [
    "with open(RESULTS_CSV) as csv_file:\n",
    "    csv_reader = csv.reader(csv_file, delimiter=',')\n",
    "    for i, row in enumerate(csv_reader):\n",
    "        list_labels = []\n",
    "        for cell in row:\n",
    "            list_labels.append(int(cell))\n",
    "        if i == 0:\n",
    "            predicted = list_labels\n",
    "        else:\n",
    "            labels = list_labels"
   ]
  },
  {
   "cell_type": "code",
   "execution_count": 6,
   "id": "840d8108-cdac-413a-a54f-ded8756a2b28",
   "metadata": {
    "tags": []
   },
   "outputs": [],
   "source": [
    "predicted_ds = pd.Series(predicted)\n",
    "labels_ds = pd.Series(labels)"
   ]
  },
  {
   "cell_type": "code",
   "execution_count": 7,
   "id": "bce2f766-8e41-430e-9e02-2da6fc1dfd22",
   "metadata": {
    "tags": []
   },
   "outputs": [
    {
     "data": {
      "text/plain": [
       "0    96\n",
       "1    81\n",
       "2    62\n",
       "3    41\n",
       "Name: count, dtype: int64"
      ]
     },
     "execution_count": 7,
     "metadata": {},
     "output_type": "execute_result"
    }
   ],
   "source": [
    "labels_ds.value_counts()"
   ]
  },
  {
   "cell_type": "code",
   "execution_count": 8,
   "id": "300e21c9-dafc-4513-af34-2c5087747c63",
   "metadata": {
    "tags": []
   },
   "outputs": [
    {
     "data": {
      "text/plain": [
       "array([0, 2, 1, 3], dtype=int64)"
      ]
     },
     "execution_count": 8,
     "metadata": {},
     "output_type": "execute_result"
    }
   ],
   "source": [
    "predicted_ds.unique()"
   ]
  },
  {
   "cell_type": "code",
   "execution_count": 9,
   "id": "e75c7342-42c3-4212-bcca-0d148027b55b",
   "metadata": {
    "tags": []
   },
   "outputs": [
    {
     "data": {
      "text/plain": [
       "0    143\n",
       "2     84\n",
       "3     31\n",
       "1     22\n",
       "Name: count, dtype: int64"
      ]
     },
     "execution_count": 9,
     "metadata": {},
     "output_type": "execute_result"
    }
   ],
   "source": [
    "predicted_ds.value_counts()"
   ]
  },
  {
   "cell_type": "code",
   "execution_count": 10,
   "id": "958802a4-c929-4480-a3e2-fea98aa553ac",
   "metadata": {
    "tags": []
   },
   "outputs": [
    {
     "data": {
      "text/plain": [
       "<Axes: title={'center': 'predicted labels'}, xlabel='Label', ylabel='Frequency'>"
      ]
     },
     "execution_count": 10,
     "metadata": {},
     "output_type": "execute_result"
    },
    {
     "data": {
      "image/png": "[encoded data removed]",
      "text/plain": [
       "<Figure size 640x480 with 1 Axes>"
      ]
     },
     "metadata": {},
     "output_type": "display_data"
    }
   ],
   "source": [
    "predicted_ds.plot(kind='hist', bins=4, title='predicted labels', xlabel='Label', align='left') # xticks=[x for x in range(21)]"
   ]
  },
  {
   "cell_type": "code",
   "execution_count": 11,
   "id": "1b45d19b-d244-4238-a1e9-139729caf9f8",
   "metadata": {
    "tags": []
   },
   "outputs": [
    {
     "data": {
      "text/plain": [
       "0    96\n",
       "1    81\n",
       "2    62\n",
       "3    41\n",
       "Name: count, dtype: int64"
      ]
     },
     "execution_count": 11,
     "metadata": {},
     "output_type": "execute_result"
    }
   ],
   "source": [
    "labels_ds.value_counts()"
   ]
  },
  {
   "cell_type": "code",
   "execution_count": 12,
   "id": "a0171b50-f27d-440b-a08e-7200edd290c0",
   "metadata": {
    "tags": []
   },
   "outputs": [
    {
     "data": {
      "text/plain": [
       "<Axes: title={'center': 'true labels'}, xlabel='Label', ylabel='Frequency'>"
      ]
     },
     "execution_count": 12,
     "metadata": {},
     "output_type": "execute_result"
    },
    {
     "data": {
      "image/png": "[encoded data removed]",
      "text/plain": [
       "<Figure size 640x480 with 1 Axes>"
      ]
     },
     "metadata": {},
     "output_type": "display_data"
    }
   ],
   "source": [
    "labels_ds.plot(kind='hist', bins=4, title='true labels', xticks=[x for x in range(4)], xlabel='Label', align='left')"
   ]
  },
  {
   "cell_type": "code",
   "execution_count": 13,
   "id": "7631eacf-0339-41f9-8c28-18e14252cb4f",
   "metadata": {
    "tags": []
   },
   "outputs": [],
   "source": [
    "confusion_mat = confusion_matrix(labels, predicted, labels=[x for x in range(4)], sample_weight=None, normalize=None)"
   ]
  },
  {
   "cell_type": "code",
   "execution_count": 14,
   "id": "0aa81f16-3909-4eea-8e57-54030038b6b5",
   "metadata": {
    "tags": []
   },
   "outputs": [
    {
     "data": {
      "text/plain": [
       "array([[54,  5, 21, 16],\n",
       "       [54,  9, 11,  7],\n",
       "       [14,  3, 44,  1],\n",
       "       [21,  5,  8,  7]], dtype=int64)"
      ]
     },
     "execution_count": 14,
     "metadata": {},
     "output_type": "execute_result"
    }
   ],
   "source": [
    "confusion_mat"
   ]
  },
  {
   "cell_type": "code",
   "execution_count": 15,
   "id": "a4e3a8e2-7b90-4c9f-9589-6495c445fffa",
   "metadata": {
    "tags": []
   },
   "outputs": [
    {
     "data": {
      "text/plain": [
       "<matplotlib.image.AxesImage at 0x21c740b6cb0>"
      ]
     },
     "execution_count": 15,
     "metadata": {},
     "output_type": "execute_result"
    },
    {
     "data": {
      "image/png": "[encoded data removed]",
      "text/plain": [
       "<Figure size 480x480 with 1 Axes>"
      ]
     },
     "metadata": {},
     "output_type": "display_data"
    }
   ],
   "source": [
    "plt.matshow(confusion_mat[0:10, 0:10])"
   ]
  }
 ],
 "metadata": {
  "kernelspec": {
   "display_name": "Python 3 (ipykernel)",
   "language": "python",
   "name": "python3"
  },
  "language_info": {
   "codemirror_mode": {
    "name": "ipython",
    "version": 3
   },
   "file_extension": ".py",
   "mimetype": "text/x-python",
   "name": "python",
   "nbconvert_exporter": "python",
   "pygments_lexer": "ipython3",
   "version": "3.10.9"
  }
 },
 "nbformat": 4,
 "nbformat_minor": 5
}

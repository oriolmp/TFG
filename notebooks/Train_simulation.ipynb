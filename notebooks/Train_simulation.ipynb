{
 "cells": [
  {
   "cell_type": "code",
   "execution_count": 1,
   "id": "3de04534-9b7f-430a-911e-e454db2a23ed",
   "metadata": {
    "tags": []
   },
   "outputs": [],
   "source": [
    "import time\n",
    "import os\n",
    "import sys\n",
    "import random\n",
    "import copy\n",
    "import torch\n",
    "import torch\n",
    "import torch.nn as nn\n",
    "import torch.optim as optim\n",
    "import hydra\n",
    "from omegaconf import DictConfig, OmegaConf\n",
    "sys.path.append(r'C:\\Users\\34609\\VisualStudio\\TFG')  \n",
    "from tasks.EpicKitchens.dataset.dataset import Dataset\n",
    "from models.model_v1 import Model"
   ]
  },
  {
   "cell_type": "code",
   "execution_count": 4,
   "id": "04ddefb5-3869-412b-aeb4-cdf0cc352f53",
   "metadata": {
    "tags": []
   },
   "outputs": [],
   "source": [
    "# @hydra.main(config_path=r'C:\\Users\\34609\\VisualStudio\\TFG\\configs', config_name='model_v1')\n",
    "# def cfg_setup(cfg: DictConfig):\n",
    "#     return cfg"
   ]
  },
  {
   "cell_type": "code",
   "execution_count": 34,
   "id": "9700943d-c340-44f8-aa02-104bade6efcf",
   "metadata": {
    "tags": []
   },
   "outputs": [],
   "source": [
    "def train_model(model, dataloaders, criterion, optimizer, device, num_epochs=25, print_batch=50):\n",
    "    since = time.time()\n",
    "\n",
    "    val_acc_history = []\n",
    "\n",
    "    best_model_wts = copy.deepcopy(model.state_dict())\n",
    "    best_acc = 0.0\n",
    "\n",
    "    for epoch in range(num_epochs):\n",
    "        print(f'Epoch {epoch}/{num_epochs-1}')\n",
    "        print('-' * 10)\n",
    "\n",
    "        # Each epoch has a training and validation phase\n",
    "        for phase in ['train', 'val']:\n",
    "            if phase == 'train':\n",
    "                model.train()  # Set model to training mode\n",
    "            else:\n",
    "                model.eval()   # Set model to evaluate mode\n",
    "\n",
    "            running_loss = 0.0\n",
    "            running_corrects = 0\n",
    "            total_videos = 0\n",
    "\n",
    "            # Iterate over data.\n",
    "            for i, (inputs, labels) in enumerate(dataloaders[phase]):\n",
    "                inputs = inputs.to(device)\n",
    "                labels = labels.to(device)\n",
    "\n",
    "                # zero the parameter gradients\n",
    "                optimizer.zero_grad()\n",
    "\n",
    "                # forward\n",
    "                # track history if only in train\n",
    "                with torch.set_grad_enabled(phase == 'train'):\n",
    "                    # Get model outputs and calculate loss\n",
    "                    outputs = model(inputs)\n",
    "                    loss = criterion(outputs, labels)\n",
    "\n",
    "                    _, preds = torch.max(outputs, 1)\n",
    "\n",
    "                    # backward + optimize only if in training phase\n",
    "                    if phase == 'train':\n",
    "                        loss.backward()\n",
    "                        optimizer.step()\n",
    "\n",
    "                # statistics\n",
    "                running_loss += loss.item() * inputs.size(0)\n",
    "                running_corrects += torch.sum(preds == labels.data)\n",
    "                total_videos += len(outputs)\n",
    "                \n",
    "                if i % print_batch == 0 and phase == 'train':\n",
    "                    l = running_loss/total_videos\n",
    "                    acc = running_corrects.cpu().numpy()/total_videos\n",
    "                    print(' - Batch Number {} -> Loss: {:.3f} Accuracy: {:.3f}'.format(i, l, acc))\n",
    "\n",
    "            epoch_loss = running_loss / len(dataloaders[phase].dataset)\n",
    "            epoch_acc = running_corrects.double() / len(dataloaders[phase].dataset)\n",
    "\n",
    "            print('{} Loss: {:.4f} Acc: {:.4f}'.format(phase, epoch_loss, epoch_acc))\n",
    "\n",
    "            # deep copy the model\n",
    "            if phase == 'val' and epoch_acc > best_acc:\n",
    "                best_acc = epoch_acc\n",
    "                best_model_wts = copy.deepcopy(model.state_dict())\n",
    "            if phase == 'val':\n",
    "                val_acc_history.append(epoch_acc)\n",
    "\n",
    "        print()\n",
    "\n",
    "    time_elapsed = time.time() - since\n",
    "    print('Training complete in {:.0f}m {:.0f}s'.format(time_elapsed // 60, time_elapsed % 60))\n",
    "    print('Best val Acc: {:4f}'.format(best_acc))\n",
    "\n",
    "    # load best model weights\n",
    "    model.load_state_dict(best_model_wts)\n",
    "    return model, val_acc_history"
   ]
  },
  {
   "cell_type": "code",
   "execution_count": 4,
   "id": "61f38b6d-095d-441f-b9a0-2e8753f3446a",
   "metadata": {
    "tags": []
   },
   "outputs": [],
   "source": [
    "DEVICE = torch.device('cpu')"
   ]
  },
  {
   "cell_type": "code",
   "execution_count": 5,
   "id": "28f8f93e-4c7a-4df2-a33f-8398e9b213b0",
   "metadata": {
    "tags": []
   },
   "outputs": [],
   "source": [
    "cfg = OmegaConf.create({\n",
    "    'ATTENTION' : 'vanilla_attention',\n",
    "    'NUM_CLASSES': 97,\n",
    "    'FRAME_SIZE': 240,\n",
    "    'PATCH_SIZE': 16,\n",
    "    'IN_CHANNELS': 3,\n",
    "    'DEPTH': 2,\n",
    "    'HEADS': 4\n",
    "})"
   ]
  },
  {
   "cell_type": "code",
   "execution_count": 6,
   "id": "51e59928-4a51-444c-b326-dcd23e24d806",
   "metadata": {
    "tags": []
   },
   "outputs": [],
   "source": [
    "model = Model(cfg)"
   ]
  },
  {
   "cell_type": "code",
   "execution_count": 29,
   "id": "92abb26b-7ca1-443d-a893-e43a7ed6c808",
   "metadata": {
    "tags": []
   },
   "outputs": [
    {
     "name": "stdout",
     "output_type": "stream",
     "text": [
      "44\n"
     ]
    }
   ],
   "source": [
    "params_to_update = []\n",
    "params = 0\n",
    "for param in model.parameters():\n",
    "    if param.requires_grad:\n",
    "        params_to_update.append(param)\n",
    "        params += 1\n",
    "print(params)"
   ]
  },
  {
   "cell_type": "code",
   "execution_count": 13,
   "id": "b33b791b-aed6-45e9-86af-516f39437a7c",
   "metadata": {
    "tags": []
   },
   "outputs": [
    {
     "name": "stdout",
     "output_type": "stream",
     "text": [
      "<class 'generator'>\n",
      "cls_token\n",
      "pos_embed\n",
      "patch_embed.proj.weight\n",
      "patch_embed.proj.bias\n",
      "blocks.0.norm1.weight\n",
      "blocks.0.norm1.bias\n",
      "blocks.0.attn.attention.q_proj.weight\n",
      "blocks.0.attn.attention.q_proj.bias\n",
      "blocks.0.attn.attention.k_proj.weight\n",
      "blocks.0.attn.attention.k_proj.bias\n",
      "blocks.0.attn.attention.v_proj.weight\n",
      "blocks.0.attn.attention.v_proj.bias\n",
      "blocks.0.attn.qkv.weight\n",
      "blocks.0.attn.qkv.bias\n",
      "blocks.0.attn.proj.weight\n",
      "blocks.0.attn.proj.bias\n",
      "blocks.0.norm2.weight\n",
      "blocks.0.norm2.bias\n",
      "blocks.0.mlp.fc1.weight\n",
      "blocks.0.mlp.fc1.bias\n",
      "blocks.0.mlp.fc2.weight\n",
      "blocks.0.mlp.fc2.bias\n",
      "blocks.1.norm1.weight\n",
      "blocks.1.norm1.bias\n",
      "blocks.1.attn.attention.q_proj.weight\n",
      "blocks.1.attn.attention.q_proj.bias\n",
      "blocks.1.attn.attention.k_proj.weight\n",
      "blocks.1.attn.attention.k_proj.bias\n",
      "blocks.1.attn.attention.v_proj.weight\n",
      "blocks.1.attn.attention.v_proj.bias\n",
      "blocks.1.attn.qkv.weight\n",
      "blocks.1.attn.qkv.bias\n",
      "blocks.1.attn.proj.weight\n",
      "blocks.1.attn.proj.bias\n",
      "blocks.1.norm2.weight\n",
      "blocks.1.norm2.bias\n",
      "blocks.1.mlp.fc1.weight\n",
      "blocks.1.mlp.fc1.bias\n",
      "blocks.1.mlp.fc2.weight\n",
      "blocks.1.mlp.fc2.bias\n",
      "norm.weight\n",
      "norm.bias\n",
      "head.weight\n",
      "head.bias\n"
     ]
    }
   ],
   "source": [
    "for a in model.named_parameters():\n",
    "    print(a[0])"
   ]
  },
  {
   "cell_type": "code",
   "execution_count": 21,
   "id": "fb062900-aec2-4d06-9005-b8aefc60ab36",
   "metadata": {
    "tags": []
   },
   "outputs": [],
   "source": [
    "data_tensor = torch.rand((10, 3, 30, 240, 240)) # b, c, t, w, h\n",
    "data_tensor_labels = torch.randint(97, (10,))"
   ]
  },
  {
   "cell_type": "code",
   "execution_count": 22,
   "id": "2426e574-4feb-4b73-ae65-f794487b69fd",
   "metadata": {
    "tags": []
   },
   "outputs": [],
   "source": [
    "train_dataset = torch.utils.data.TensorDataset(data_tensor, data_tensor_labels)"
   ]
  },
  {
   "cell_type": "code",
   "execution_count": 23,
   "id": "d1d2d268-37c0-4e84-85a3-3663b6f83f13",
   "metadata": {
    "tags": []
   },
   "outputs": [],
   "source": [
    "train_sampler = torch.utils.data.sampler.RandomSampler(train_dataset)\n",
    "train_loader = torch.utils.data.DataLoader(train_dataset, sampler=train_sampler, batch_size=1,\n",
    "                                                num_workers=1)\n"
   ]
  },
  {
   "cell_type": "code",
   "execution_count": 30,
   "id": "a3b1ad8e-059b-47d4-83b5-ce989ca8a670",
   "metadata": {
    "tags": []
   },
   "outputs": [],
   "source": [
    "optimizer = optim.Adam(params_to_update)\n",
    "criterion = nn.CrossEntropyLoss()"
   ]
  },
  {
   "cell_type": "code",
   "execution_count": 31,
   "id": "8695c24b-4dd5-4233-bb1a-a31439434c0c",
   "metadata": {
    "tags": []
   },
   "outputs": [],
   "source": [
    "dataloaders = {\n",
    "    'train': train_loader, \n",
    "    'val': train_loader\n",
    "}"
   ]
  },
  {
   "cell_type": "code",
   "execution_count": 35,
   "id": "f9435d38-8c7b-4e39-a91e-e1944c3bbfe4",
   "metadata": {
    "tags": []
   },
   "outputs": [
    {
     "name": "stdout",
     "output_type": "stream",
     "text": [
      "Epoch 0/0\n",
      "----------\n",
      " - Batch Number 0 -> Loss: 9.248 Accuracy: 0.000\n",
      " - Batch Number 1 -> Loss: 9.712 Accuracy: 0.000\n",
      " - Batch Number 2 -> Loss: 9.621 Accuracy: 0.000\n",
      " - Batch Number 3 -> Loss: 8.780 Accuracy: 0.000\n",
      " - Batch Number 4 -> Loss: 8.523 Accuracy: 0.000\n",
      " - Batch Number 5 -> Loss: 9.338 Accuracy: 0.000\n",
      " - Batch Number 6 -> Loss: 8.486 Accuracy: 0.000\n",
      " - Batch Number 7 -> Loss: 9.636 Accuracy: 0.000\n",
      " - Batch Number 8 -> Loss: 9.744 Accuracy: 0.000\n",
      " - Batch Number 9 -> Loss: 9.692 Accuracy: 0.000\n",
      "train Loss: 9.6917 Acc: 0.0000\n",
      "val Loss: 8.6512 Acc: 0.1000\n",
      "\n",
      "Training complete in 1m 46s\n",
      "Best val Acc: 0.100000\n"
     ]
    }
   ],
   "source": [
    "trained_model, _ = train_model(model, dataloaders, criterion, optimizer, DEVICE, num_epochs=1, print_batch=1)"
   ]
  },
  {
   "cell_type": "code",
   "execution_count": null,
   "id": "98dce6a0-43b6-4bbc-aab9-da01346b8d91",
   "metadata": {},
   "outputs": [],
   "source": []
  }
 ],
 "metadata": {
  "kernelspec": {
   "display_name": "Python 3 (ipykernel)",
   "language": "python",
   "name": "python3"
  },
  "language_info": {
   "codemirror_mode": {
    "name": "ipython",
    "version": 3
   },
   "file_extension": ".py",
   "mimetype": "text/x-python",
   "name": "python",
   "nbconvert_exporter": "python",
   "pygments_lexer": "ipython3",
   "version": "3.10.9"
  }
 },
 "nbformat": 4,
 "nbformat_minor": 5
}

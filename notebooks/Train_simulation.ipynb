{
 "cells": [
  {
   "cell_type": "code",
   "execution_count": 1,
   "id": "3de04534-9b7f-430a-911e-e454db2a23ed",
   "metadata": {
    "tags": []
   },
   "outputs": [],
   "source": [
    "import time\n",
    "import os\n",
    "import sys\n",
    "import random\n",
    "import copy\n",
    "import torch\n",
    "import torch\n",
    "import torch.nn as nn\n",
    "import torch.optim as optim\n",
    "import hydra\n",
    "from omegaconf import DictConfig, OmegaConf\n",
    "sys.path.append(r'C:\\Users\\34609\\VisualStudio\\TFG')  \n",
    "from tasks.EpicKitchens.dataset.dataset import Dataset\n",
    "from models.model_v1 import Model"
   ]
  },
  {
   "cell_type": "code",
   "execution_count": 2,
   "id": "04ddefb5-3869-412b-aeb4-cdf0cc352f53",
   "metadata": {
    "tags": []
   },
   "outputs": [],
   "source": [
    "# @hydra.main(config_path=r'C:\\Users\\34609\\VisualStudio\\TFG\\configs', config_name='model_v1')\n",
    "# def cfg_setup(cfg: DictConfig):\n",
    "#     return cfg"
   ]
  },
  {
   "cell_type": "code",
   "execution_count": 16,
   "id": "9700943d-c340-44f8-aa02-104bade6efcf",
   "metadata": {
    "tags": []
   },
   "outputs": [],
   "source": [
    "def train_model(model, dataloaders, criterion, optimizer, device, num_epochs=25, print_batch=50):\n",
    "    since = time.time()\n",
    "    \n",
    "    softmax = torch.nn.Softmax(dim=0)\n",
    "    best_model_wts = copy.deepcopy(model.state_dict())\n",
    "    best_acc = 0.0\n",
    "\n",
    "    for epoch in range(num_epochs):\n",
    "        print(f'Epoch {epoch}/{num_epochs-1}')\n",
    "        print('-' * 10)\n",
    "\n",
    "        # Each epoch has a training and validation phase\n",
    "        for phase in ['train', 'val']:\n",
    "            if phase == 'train':\n",
    "                model.train()  # Set model to training mode\n",
    "            else:\n",
    "                model.eval()   # Set model to evaluate mode\n",
    "\n",
    "            running_loss = 0.0\n",
    "            running_corrects = 0\n",
    "            total_videos = 0\n",
    "\n",
    "            # Iterate over data.\n",
    "            for i, (inputs, labels) in enumerate(dataloaders[phase]):\n",
    "                inputs = inputs.to(device)\n",
    "                labels = labels.to(device)\n",
    "\n",
    "                # zero the parameter gradients\n",
    "                optimizer.zero_grad()\n",
    "\n",
    "                # forward\n",
    "                # track history if only in train\n",
    "                with torch.set_grad_enabled(phase == 'train'):\n",
    "                    # Get model outputs and calculate loss\n",
    "                    outputs = model(inputs)\n",
    "                    loss = criterion(outputs, labels)\n",
    "                    _, preds = torch.max(softmax(outputs), 1)\n",
    "\n",
    "                    # backward + optimize only if in training phase\n",
    "                    if phase == 'train':\n",
    "                        loss.backward()\n",
    "                        optimizer.step()\n",
    "\n",
    "                # statistics\n",
    "                running_loss += loss.item() * inputs.size(0)\n",
    "                running_corrects += torch.sum(preds == labels.data)\n",
    "                total_videos += len(outputs)\n",
    "                \n",
    "                if i % print_batch == 0 and phase == 'train':\n",
    "                    l = running_loss/total_videos\n",
    "                    acc = running_corrects.cpu().numpy()/total_videos\n",
    "                    print(' - Batch Number {} -> Loss: {:.3f} Accuracy: {:.3f}'.format(i, l, acc))\n",
    "\n",
    "            epoch_loss = running_loss / len(dataloaders[phase].dataset)\n",
    "            epoch_acc = running_corrects.double() / len(dataloaders[phase].dataset)\n",
    "\n",
    "            print('{} Loss: {:.4f} Acc: {:.4f}'.format(phase, epoch_loss, epoch_acc))\n",
    "\n",
    "            # deep copy the model\n",
    "            if phase == 'val' and epoch_acc > best_acc:\n",
    "                best_acc = epoch_acc\n",
    "                best_model_wts = copy.deepcopy(model.state_dict())\n",
    "\n",
    "        print()\n",
    "\n",
    "    time_elapsed = time.time() - since\n",
    "    print('Training complete in {:.0f}m {:.0f}s'.format(time_elapsed // 60, time_elapsed % 60))\n",
    "    print('Best val Acc: {:4f}'.format(best_acc))\n",
    "\n",
    "    # load best model weights\n",
    "    model.load_state_dict(best_model_wts)\n",
    "    return model"
   ]
  },
  {
   "cell_type": "code",
   "execution_count": 4,
   "id": "61f38b6d-095d-441f-b9a0-2e8753f3446a",
   "metadata": {
    "tags": []
   },
   "outputs": [],
   "source": [
    "DEVICE = torch.device('cpu')"
   ]
  },
  {
   "cell_type": "code",
   "execution_count": 5,
   "id": "28f8f93e-4c7a-4df2-a33f-8398e9b213b0",
   "metadata": {
    "tags": []
   },
   "outputs": [],
   "source": [
    "cfg = OmegaConf.create({\n",
    "    'ATTENTION' : 'vanilla_attention',\n",
    "    'NUM_CLASSES': 97,\n",
    "    'FRAME_SIZE': 224,\n",
    "    'PATCH_SIZE': 16,\n",
    "    'IN_CHANNELS': 3,\n",
    "    'NUM_FRAMES': 5,\n",
    "    'BATCH_SIZE': 2,\n",
    "    'DEPTH': 2,\n",
    "    'HEADS': 4\n",
    "})"
   ]
  },
  {
   "cell_type": "code",
   "execution_count": 6,
   "id": "51e59928-4a51-444c-b326-dcd23e24d806",
   "metadata": {
    "tags": []
   },
   "outputs": [],
   "source": [
    "model = Model(cfg)"
   ]
  },
  {
   "cell_type": "code",
   "execution_count": 7,
   "id": "92abb26b-7ca1-443d-a893-e43a7ed6c808",
   "metadata": {
    "tags": []
   },
   "outputs": [
    {
     "name": "stdout",
     "output_type": "stream",
     "text": [
      "44\n"
     ]
    }
   ],
   "source": [
    "params_to_update = []\n",
    "params = 0\n",
    "for param in model.parameters():\n",
    "    if param.requires_grad:\n",
    "        params_to_update.append(param)\n",
    "        params += 1\n",
    "print(params)"
   ]
  },
  {
   "cell_type": "code",
   "execution_count": 8,
   "id": "b33b791b-aed6-45e9-86af-516f39437a7c",
   "metadata": {
    "tags": []
   },
   "outputs": [],
   "source": [
    "# for a in model.named_parameters():\n",
    "#     print(a[0])"
   ]
  },
  {
   "cell_type": "code",
   "execution_count": 9,
   "id": "fb062900-aec2-4d06-9005-b8aefc60ab36",
   "metadata": {
    "tags": []
   },
   "outputs": [],
   "source": [
    "data_tensor = torch.rand((2, 3, 5, 224, 224)) # b, c, t, w, h\n",
    "data_tensor_labels = torch.randint(97, (2,))"
   ]
  },
  {
   "cell_type": "code",
   "execution_count": 10,
   "id": "2426e574-4feb-4b73-ae65-f794487b69fd",
   "metadata": {
    "tags": []
   },
   "outputs": [],
   "source": [
    "train_dataset = torch.utils.data.TensorDataset(data_tensor, data_tensor_labels)"
   ]
  },
  {
   "cell_type": "code",
   "execution_count": 11,
   "id": "d1d2d268-37c0-4e84-85a3-3663b6f83f13",
   "metadata": {
    "tags": []
   },
   "outputs": [],
   "source": [
    "train_sampler = torch.utils.data.sampler.RandomSampler(train_dataset)\n",
    "train_loader = torch.utils.data.DataLoader(train_dataset, sampler=train_sampler, batch_size=2,\n",
    "                                                num_workers=1)\n"
   ]
  },
  {
   "cell_type": "code",
   "execution_count": 12,
   "id": "a3b1ad8e-059b-47d4-83b5-ce989ca8a670",
   "metadata": {
    "tags": []
   },
   "outputs": [],
   "source": [
    "optimizer = optim.Adam(params_to_update)\n",
    "criterion = nn.CrossEntropyLoss()"
   ]
  },
  {
   "cell_type": "code",
   "execution_count": 13,
   "id": "8695c24b-4dd5-4233-bb1a-a31439434c0c",
   "metadata": {
    "tags": []
   },
   "outputs": [],
   "source": [
    "dataloaders = {\n",
    "    'train': train_loader, \n",
    "    'val': train_loader\n",
    "}"
   ]
  },
  {
   "cell_type": "code",
   "execution_count": 17,
   "id": "f9435d38-8c7b-4e39-a91e-e1944c3bbfe4",
   "metadata": {
    "tags": []
   },
   "outputs": [
    {
     "name": "stdout",
     "output_type": "stream",
     "text": [
      "Epoch 0/0\n",
      "----------\n",
      "softmax output: tensor([[0.5513, 0.4831, 0.5332, 0.4948, 0.5367, 0.5355, 0.4745, 0.4822, 0.4677,\n",
      "         0.4739, 0.5189, 0.4966, 0.5761, 0.5206, 0.5575, 0.5547, 0.5292, 0.5678,\n",
      "         0.5095, 0.5301, 0.5057, 0.5134, 0.4865, 0.5450, 0.4766, 0.5240, 0.4816,\n",
      "         0.4631, 0.5397, 0.4268, 0.6214, 0.4176, 0.5589, 0.4799, 0.5218, 0.4821,\n",
      "         0.5143, 0.5708, 0.4867, 0.4796, 0.5806, 0.5516, 0.4600, 0.5426, 0.4503,\n",
      "         0.4592, 0.4645, 0.4980, 0.5635, 0.5261, 0.5096, 0.5240, 0.4882, 0.4909,\n",
      "         0.4342, 0.5973, 0.4810, 0.4758, 0.5281, 0.4999, 0.4866, 0.4528, 0.5053,\n",
      "         0.4495, 0.4893, 0.5158, 0.5107, 0.5170, 0.4976, 0.4833, 0.5333, 0.5411,\n",
      "         0.4451, 0.4787, 0.5608, 0.4873, 0.4449, 0.5070, 0.8827, 0.4631, 0.4621,\n",
      "         0.5179, 0.4534, 0.4876, 0.4340, 0.5714, 0.4256, 0.4471, 0.4777, 0.5082,\n",
      "         0.5343, 0.4836, 0.4767, 0.5453, 0.4936, 0.5225, 0.1487],\n",
      "        [0.4487, 0.5169, 0.4668, 0.5052, 0.4633, 0.4645, 0.5255, 0.5178, 0.5323,\n",
      "         0.5261, 0.4811, 0.5034, 0.4239, 0.4794, 0.4425, 0.4453, 0.4708, 0.4322,\n",
      "         0.4905, 0.4699, 0.4943, 0.4866, 0.5135, 0.4550, 0.5234, 0.4760, 0.5184,\n",
      "         0.5369, 0.4603, 0.5732, 0.3786, 0.5824, 0.4411, 0.5201, 0.4782, 0.5179,\n",
      "         0.4857, 0.4292, 0.5133, 0.5204, 0.4194, 0.4484, 0.5400, 0.4574, 0.5497,\n",
      "         0.5408, 0.5355, 0.5020, 0.4365, 0.4739, 0.4904, 0.4760, 0.5118, 0.5091,\n",
      "         0.5658, 0.4027, 0.5190, 0.5242, 0.4719, 0.5001, 0.5134, 0.5472, 0.4947,\n",
      "         0.5505, 0.5107, 0.4842, 0.4893, 0.4830, 0.5024, 0.5167, 0.4667, 0.4589,\n",
      "         0.5549, 0.5213, 0.4392, 0.5127, 0.5551, 0.4930, 0.1173, 0.5369, 0.5379,\n",
      "         0.4821, 0.5466, 0.5124, 0.5660, 0.4286, 0.5744, 0.5529, 0.5223, 0.4918,\n",
      "         0.4657, 0.5164, 0.5233, 0.4547, 0.5064, 0.4775, 0.8513]],\n",
      "       grad_fn=<SoftmaxBackward0>)\n",
      " - Batch Number 0 -> Loss: 18.607 Accuracy: 1.000\n",
      "train Loss: 18.6070 Acc: 1.0000\n",
      "softmax output: tensor([[0.5559, 0.4892, 0.5148, 0.4845, 0.5392, 0.5396, 0.4538, 0.4799, 0.4591,\n",
      "         0.4619, 0.5161, 0.4977, 0.5918, 0.5136, 0.5670, 0.5589, 0.5455, 0.5726,\n",
      "         0.5153, 0.5506, 0.4880, 0.5203, 0.4757, 0.5488, 0.4648, 0.5361, 0.4888,\n",
      "         0.4572, 0.5459, 0.4217, 0.6255, 0.4004, 0.5537, 0.4649, 0.5290, 0.4743,\n",
      "         0.5288, 0.5909, 0.4790, 0.4791, 0.5788, 0.5671, 0.4500, 0.5387, 0.4410,\n",
      "         0.4477, 0.4684, 0.4990, 0.5551, 0.5262, 0.5184, 0.5237, 0.4855, 0.4900,\n",
      "         0.4274, 0.5943, 0.4773, 0.4648, 0.5479, 0.5041, 0.4845, 0.4483, 0.5012,\n",
      "         0.4305, 0.4903, 0.5143, 0.5053, 0.5030, 0.4910, 0.4875, 0.5353, 0.5574,\n",
      "         0.4296, 0.4829, 0.5805, 0.4792, 0.4376, 0.5183, 0.9235, 0.4703, 0.4570,\n",
      "         0.5161, 0.4319, 0.4920, 0.4218, 0.5888, 0.4079, 0.4393, 0.4727, 0.5063,\n",
      "         0.5459, 0.4709, 0.4830, 0.5632, 0.4999, 0.5287, 0.1043],\n",
      "        [0.4441, 0.5108, 0.4852, 0.5155, 0.4608, 0.4604, 0.5462, 0.5201, 0.5409,\n",
      "         0.5381, 0.4839, 0.5023, 0.4082, 0.4864, 0.4330, 0.4411, 0.4545, 0.4274,\n",
      "         0.4847, 0.4494, 0.5120, 0.4797, 0.5243, 0.4512, 0.5352, 0.4639, 0.5112,\n",
      "         0.5428, 0.4541, 0.5783, 0.3745, 0.5996, 0.4463, 0.5351, 0.4710, 0.5257,\n",
      "         0.4712, 0.4091, 0.5210, 0.5209, 0.4212, 0.4329, 0.5500, 0.4613, 0.5590,\n",
      "         0.5523, 0.5316, 0.5010, 0.4449, 0.4738, 0.4816, 0.4763, 0.5145, 0.5100,\n",
      "         0.5726, 0.4057, 0.5227, 0.5352, 0.4521, 0.4959, 0.5155, 0.5517, 0.4988,\n",
      "         0.5695, 0.5097, 0.4857, 0.4947, 0.4970, 0.5090, 0.5125, 0.4647, 0.4426,\n",
      "         0.5704, 0.5171, 0.4194, 0.5208, 0.5624, 0.4817, 0.0765, 0.5297, 0.5430,\n",
      "         0.4839, 0.5681, 0.5080, 0.5782, 0.4112, 0.5921, 0.5607, 0.5273, 0.4937,\n",
      "         0.4541, 0.5291, 0.5170, 0.4368, 0.5001, 0.4713, 0.8957]])\n",
      "val Loss: 3.1875 Acc: 1.0000\n",
      "\n",
      "Training complete in 0m 8s\n",
      "Best val Acc: 1.000000\n"
     ]
    }
   ],
   "source": [
    "trained_model = train_model(model, dataloaders, criterion, optimizer, DEVICE, num_epochs=1, print_batch=1)"
   ]
  },
  {
   "cell_type": "code",
   "execution_count": null,
   "id": "98dce6a0-43b6-4bbc-aab9-da01346b8d91",
   "metadata": {},
   "outputs": [],
   "source": []
  },
  {
   "cell_type": "code",
   "execution_count": null,
   "id": "64b112ef-4a45-471f-83bd-a0ab5c5ac968",
   "metadata": {},
   "outputs": [],
   "source": []
  },
  {
   "cell_type": "code",
   "execution_count": null,
   "id": "1afdfa6f-88fb-4496-873c-90d4aede14da",
   "metadata": {},
   "outputs": [],
   "source": []
  }
 ],
 "metadata": {
  "kernelspec": {
   "display_name": "Python 3 (ipykernel)",
   "language": "python",
   "name": "python3"
  },
  "language_info": {
   "codemirror_mode": {
    "name": "ipython",
    "version": 3
   },
   "file_extension": ".py",
   "mimetype": "text/x-python",
   "name": "python",
   "nbconvert_exporter": "python",
   "pygments_lexer": "ipython3",
   "version": "3.10.9"
  }
 },
 "nbformat": 4,
 "nbformat_minor": 5
}

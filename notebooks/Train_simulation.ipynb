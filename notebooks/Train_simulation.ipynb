{
 "cells": [
  {
   "cell_type": "code",
   "execution_count": 1,
   "id": "3de04534-9b7f-430a-911e-e454db2a23ed",
   "metadata": {
    "tags": []
   },
   "outputs": [],
   "source": [
    "import time\n",
    "import os\n",
    "import sys\n",
    "import random\n",
    "import copy\n",
    "import torch\n",
    "import torch\n",
    "import torch.nn as nn\n",
    "import torch.optim as optim\n",
    "import hydra\n",
    "from omegaconf import DictConfig, OmegaConf\n",
    "sys.path.append(r'C:\\Users\\34609\\VisualStudio\\TFG')  \n",
    "# from tasks.EpicKitchens.dataset.dataset import Dataset\n",
    "from dataset.dataset import Dataset\n",
    "from models.model_v1 import Model"
   ]
  },
  {
   "cell_type": "code",
   "execution_count": 2,
   "id": "04ddefb5-3869-412b-aeb4-cdf0cc352f53",
   "metadata": {
    "tags": []
   },
   "outputs": [],
   "source": [
    "# @hydra.main(config_path=r'C:\\Users\\34609\\VisualStudio\\TFG\\configs', config_name='model_v1')\n",
    "# def cfg_setup(cfg: DictConfig):\n",
    "#     return cfg"
   ]
  },
  {
   "cell_type": "code",
   "execution_count": 24,
   "id": "9700943d-c340-44f8-aa02-104bade6efcf",
   "metadata": {
    "tags": []
   },
   "outputs": [],
   "source": [
    "def train_model(model, dataloaders, criterion, optimizer, device, num_epochs=25, print_batch=50):\n",
    "    since = time.time()\n",
    "    \n",
    "    softmax = torch.nn.Softmax(dim=0)\n",
    "    best_model_wts = copy.deepcopy(model.state_dict())\n",
    "    best_acc = 0.0\n",
    "\n",
    "    for epoch in range(num_epochs):\n",
    "        print(f'Epoch {epoch}/{num_epochs-1}')\n",
    "        print('-' * 10)\n",
    "\n",
    "        # Each epoch has a training and validation phase\n",
    "        for phase in ['train', 'val']:\n",
    "            if phase == 'train':\n",
    "                model.train()  # Set model to training mode\n",
    "            else:\n",
    "                model.eval()   # Set model to evaluate mode\n",
    "\n",
    "            running_loss = 0.0\n",
    "            running_corrects = 0\n",
    "            total_videos = 0\n",
    "\n",
    "            # Iterate over data.\n",
    "            for i, (inputs, labels) in enumerate(dataloaders[phase]):\n",
    "                inputs = inputs.to(device)\n",
    "                labels = labels.to(device)\n",
    "\n",
    "                # zero the parameter gradients\n",
    "                optimizer.zero_grad()\n",
    "\n",
    "                # forward\n",
    "                # track history if only in train\n",
    "                with torch.set_grad_enabled(phase == 'train'):\n",
    "                    # Get model outputs and calculate loss\n",
    "                    outputs = model(inputs)\n",
    "                    loss = criterion(outputs, labels)\n",
    "                    _, preds = torch.max(softmax(outputs), 1)\n",
    "\n",
    "                    # backward + optimize only if in training phase\n",
    "                    if phase == 'train':\n",
    "                        loss.backward()\n",
    "                        optimizer.step()\n",
    "\n",
    "                # statistics\n",
    "                running_loss += loss.item() * inputs.size(0)\n",
    "                running_corrects += torch.sum(preds == labels.data)\n",
    "                total_videos += len(outputs)\n",
    "                \n",
    "                if i % print_batch == 0 and phase == 'train':\n",
    "                    l = running_loss/total_videos\n",
    "                    acc = running_corrects.cpu().numpy()/total_videos\n",
    "                    print(' - Batch Number {} -> Loss: {:.3f} Accuracy: {:.3f}'.format(i, l, acc))\n",
    "                    \n",
    "                    print(f'outputs: {softmax(outputs)}')\n",
    "                    print(f'labels: {labels}')\n",
    "\n",
    "            epoch_loss = running_loss / len(dataloaders[phase].dataset)\n",
    "            epoch_acc = running_corrects.double() / len(dataloaders[phase].dataset)\n",
    "\n",
    "            print('{} Loss: {:.4f} Acc: {:.4f}'.format(phase, epoch_loss, epoch_acc))\n",
    "\n",
    "            # deep copy the model\n",
    "            if phase == 'val' and epoch_acc > best_acc:\n",
    "                best_acc = epoch_acc\n",
    "                best_model_wts = copy.deepcopy(model.state_dict())\n",
    "\n",
    "        print()\n",
    "\n",
    "    time_elapsed = time.time() - since\n",
    "    print('Training complete in {:.0f}m {:.0f}s'.format(time_elapsed // 60, time_elapsed % 60))\n",
    "    print('Best val Acc: {:4f}'.format(best_acc))\n",
    "\n",
    "    # load best model weights\n",
    "    model.load_state_dict(best_model_wts)\n",
    "    return model"
   ]
  },
  {
   "cell_type": "code",
   "execution_count": 20,
   "id": "61f38b6d-095d-441f-b9a0-2e8753f3446a",
   "metadata": {
    "tags": []
   },
   "outputs": [],
   "source": [
    "DEVICE = torch.device('cpu')"
   ]
  },
  {
   "cell_type": "code",
   "execution_count": 7,
   "id": "28f8f93e-4c7a-4df2-a33f-8398e9b213b0",
   "metadata": {
    "tags": []
   },
   "outputs": [],
   "source": [
    "cfg = OmegaConf.create({\n",
    "    'model': {\n",
    "        'ATTENTION': 'vanilla_attention',\n",
    "        'NUM_CLASSES': 97,\n",
    "        'PATCH_SIZE': 16,\n",
    "        'DEPTH': 2,\n",
    "        'HEADS': 4\n",
    "    },\n",
    "    'dataset': {\n",
    "        'FRAME_SIZE': 224,\n",
    "        'IN_CHANNELS': 3,\n",
    "        'NUM_FRAMES': 5\n",
    "    },\n",
    "    'training': {\n",
    "        'BATCH_SIZE': 2\n",
    "    }\n",
    "    \n",
    "})"
   ]
  },
  {
   "cell_type": "code",
   "execution_count": 8,
   "id": "51e59928-4a51-444c-b326-dcd23e24d806",
   "metadata": {
    "tags": []
   },
   "outputs": [],
   "source": [
    "model = Model(cfg)"
   ]
  },
  {
   "cell_type": "code",
   "execution_count": 9,
   "id": "92abb26b-7ca1-443d-a893-e43a7ed6c808",
   "metadata": {
    "tags": []
   },
   "outputs": [
    {
     "name": "stdout",
     "output_type": "stream",
     "text": [
      "43\n"
     ]
    }
   ],
   "source": [
    "params_to_update = []\n",
    "params = 0\n",
    "for param in model.parameters():\n",
    "    if param.requires_grad:\n",
    "        params_to_update.append(param)\n",
    "        params += 1\n",
    "print(params)"
   ]
  },
  {
   "cell_type": "code",
   "execution_count": 10,
   "id": "b33b791b-aed6-45e9-86af-516f39437a7c",
   "metadata": {
    "tags": []
   },
   "outputs": [],
   "source": [
    "# for a in model.named_parameters():\n",
    "#     print(a[0])"
   ]
  },
  {
   "cell_type": "code",
   "execution_count": 11,
   "id": "fb062900-aec2-4d06-9005-b8aefc60ab36",
   "metadata": {
    "tags": []
   },
   "outputs": [],
   "source": [
    "data_tensor = torch.rand((2, 3, 5, 224, 224)) # b, c, t, w, h\n",
    "data_tensor_labels = torch.randint(97, (2,))"
   ]
  },
  {
   "cell_type": "code",
   "execution_count": 12,
   "id": "2426e574-4feb-4b73-ae65-f794487b69fd",
   "metadata": {
    "tags": []
   },
   "outputs": [],
   "source": [
    "train_dataset = torch.utils.data.TensorDataset(data_tensor, data_tensor_labels)"
   ]
  },
  {
   "cell_type": "code",
   "execution_count": 13,
   "id": "d1d2d268-37c0-4e84-85a3-3663b6f83f13",
   "metadata": {
    "tags": []
   },
   "outputs": [],
   "source": [
    "train_sampler = torch.utils.data.sampler.RandomSampler(train_dataset)\n",
    "train_loader = torch.utils.data.DataLoader(train_dataset, sampler=train_sampler, batch_size=2,\n",
    "                                                num_workers=1)\n"
   ]
  },
  {
   "cell_type": "code",
   "execution_count": 14,
   "id": "a3b1ad8e-059b-47d4-83b5-ce989ca8a670",
   "metadata": {
    "tags": []
   },
   "outputs": [],
   "source": [
    "optimizer = optim.Adam(params_to_update)\n",
    "criterion = nn.CrossEntropyLoss()"
   ]
  },
  {
   "cell_type": "code",
   "execution_count": 15,
   "id": "8695c24b-4dd5-4233-bb1a-a31439434c0c",
   "metadata": {
    "tags": []
   },
   "outputs": [],
   "source": [
    "dataloaders = {\n",
    "    'train': train_loader, \n",
    "    'val': train_loader\n",
    "}"
   ]
  },
  {
   "cell_type": "code",
   "execution_count": 25,
   "id": "f9435d38-8c7b-4e39-a91e-e1944c3bbfe4",
   "metadata": {
    "tags": []
   },
   "outputs": [
    {
     "name": "stdout",
     "output_type": "stream",
     "text": [
      "Epoch 0/0\n",
      "----------\n",
      " - Batch Number 0 -> Loss: 43.998 Accuracy: 1.000\n",
      "outputs: tensor([[0.5296, 0.7090, 0.6427, 0.3647, 0.4870, 0.7573, 0.4479, 0.4296, 0.4389,\n",
      "         0.4710, 0.3585, 0.7390, 0.4002, 0.5934, 0.5322, 0.5462, 0.6322, 0.3997,\n",
      "         0.6090, 0.5700, 0.6154, 0.4825, 0.4290, 0.4957, 0.6765, 0.5614, 0.3607,\n",
      "         0.6110, 0.4891, 0.6411, 0.5251, 0.6508, 0.4663, 0.6603, 0.0045, 0.3508,\n",
      "         0.5474, 0.4620, 0.6616, 0.4146, 0.9568, 0.5788, 0.4958, 0.4838, 0.4910,\n",
      "         0.5098, 0.5090, 0.4901, 0.3314, 0.3461, 0.7003, 0.4398, 0.5305, 0.3885,\n",
      "         0.6426, 0.5825, 0.6065, 0.6298, 0.5849, 0.5245, 0.4766, 0.3639, 0.5429,\n",
      "         0.4413, 0.5435, 0.4659, 0.4773, 0.5984, 0.4734, 0.5491, 0.4731, 0.6286,\n",
      "         0.5726, 0.6966, 0.3935, 0.3834, 0.4651, 0.5973, 0.6502, 0.6750, 0.4954,\n",
      "         0.5689, 0.4962, 0.3939, 0.6080, 0.3047, 0.5025, 0.5090, 0.5553, 0.4936,\n",
      "         0.5747, 0.6177, 0.5503, 0.4980, 0.5225, 0.5276, 0.6237],\n",
      "        [0.4704, 0.2910, 0.3573, 0.6353, 0.5130, 0.2427, 0.5521, 0.5704, 0.5611,\n",
      "         0.5290, 0.6415, 0.2610, 0.5998, 0.4066, 0.4678, 0.4538, 0.3678, 0.6003,\n",
      "         0.3910, 0.4300, 0.3846, 0.5175, 0.5710, 0.5043, 0.3235, 0.4386, 0.6393,\n",
      "         0.3890, 0.5109, 0.3589, 0.4749, 0.3492, 0.5337, 0.3397, 0.9955, 0.6492,\n",
      "         0.4526, 0.5380, 0.3384, 0.5854, 0.0432, 0.4212, 0.5042, 0.5162, 0.5090,\n",
      "         0.4902, 0.4910, 0.5099, 0.6686, 0.6539, 0.2997, 0.5602, 0.4695, 0.6115,\n",
      "         0.3574, 0.4175, 0.3935, 0.3702, 0.4151, 0.4755, 0.5234, 0.6361, 0.4571,\n",
      "         0.5587, 0.4565, 0.5341, 0.5227, 0.4016, 0.5266, 0.4509, 0.5269, 0.3714,\n",
      "         0.4274, 0.3034, 0.6065, 0.6166, 0.5349, 0.4027, 0.3498, 0.3250, 0.5046,\n",
      "         0.4311, 0.5038, 0.6061, 0.3920, 0.6953, 0.4975, 0.4910, 0.4447, 0.5064,\n",
      "         0.4253, 0.3823, 0.4497, 0.5020, 0.4775, 0.4724, 0.3763]],\n",
      "       grad_fn=<SoftmaxBackward0>)\n",
      "labels: tensor([40, 34])\n",
      "train Loss: 43.9979 Acc: 1.0000\n",
      "val Loss: 15.2197 Acc: 1.0000\n",
      "\n",
      "Training complete in 0m 21s\n",
      "Best val Acc: 1.000000\n"
     ]
    }
   ],
   "source": [
    "trained_model = train_model(model, dataloaders, criterion, optimizer, DEVICE, num_epochs=1, print_batch=1)"
   ]
  },
  {
   "cell_type": "code",
   "execution_count": null,
   "id": "98dce6a0-43b6-4bbc-aab9-da01346b8d91",
   "metadata": {},
   "outputs": [],
   "source": []
  },
  {
   "cell_type": "code",
   "execution_count": null,
   "id": "64b112ef-4a45-471f-83bd-a0ab5c5ac968",
   "metadata": {},
   "outputs": [],
   "source": []
  },
  {
   "cell_type": "code",
   "execution_count": null,
   "id": "1afdfa6f-88fb-4496-873c-90d4aede14da",
   "metadata": {},
   "outputs": [],
   "source": []
  }
 ],
 "metadata": {
  "kernelspec": {
   "display_name": "Python 3 (ipykernel)",
   "language": "python",
   "name": "python3"
  },
  "language_info": {
   "codemirror_mode": {
    "name": "ipython",
    "version": 3
   },
   "file_extension": ".py",
   "mimetype": "text/x-python",
   "name": "python",
   "nbconvert_exporter": "python",
   "pygments_lexer": "ipython3",
   "version": "3.10.9"
  }
 },
 "nbformat": 4,
 "nbformat_minor": 5
}

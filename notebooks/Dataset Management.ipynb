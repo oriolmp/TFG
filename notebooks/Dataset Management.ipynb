{
 "cells": [
  {
   "cell_type": "code",
   "execution_count": 1,
   "id": "65082436",
   "metadata": {
    "tags": []
   },
   "outputs": [],
   "source": [
    "import torch\n",
    "import torchvision.transforms as T\n",
    "import torch.nn as nn\n",
    "import pandas as pd\n",
    "import numpy as np\n",
    "import csv\n",
    "from sklearn.model_selection import train_test_split\n",
    "from sklearn.utils.class_weight import compute_class_weight\n",
    "from einops import rearrange\n",
    "import matplotlib.pyplot as plt"
   ]
  },
  {
   "cell_type": "markdown",
   "id": "69c873b3-50d9-4747-aa58-89bde757f880",
   "metadata": {},
   "source": [
    "Here we want to create a validation set from the train set. We want a 85% train and 15%, keeping the labels proportionality"
   ]
  },
  {
   "cell_type": "code",
   "execution_count": 2,
   "id": "a51dda77-6258-4cb4-8695-d8f1b2fb8c3a",
   "metadata": {
    "tags": []
   },
   "outputs": [],
   "source": [
    "TRAIN_CSV = 'EPIC_100_train.csv'\n",
    "VAL_CSV = 'EPIC_100_validation.csv'"
   ]
  },
  {
   "cell_type": "markdown",
   "id": "8ad419d5-97b1-4552-b535-3c53d8782433",
   "metadata": {
    "tags": []
   },
   "source": [
    "### Original df"
   ]
  },
  {
   "cell_type": "code",
   "execution_count": 15,
   "id": "2cad68d4-4b22-4cf1-914d-cd10b1128366",
   "metadata": {
    "tags": []
   },
   "outputs": [
    {
     "data": {
      "text/html": [
       "<div>\n",
       "<style scoped>\n",
       "    .dataframe tbody tr th:only-of-type {\n",
       "        vertical-align: middle;\n",
       "    }\n",
       "\n",
       "    .dataframe tbody tr th {\n",
       "        vertical-align: top;\n",
       "    }\n",
       "\n",
       "    .dataframe thead th {\n",
       "        text-align: right;\n",
       "    }\n",
       "</style>\n",
       "<table border=\"1\" class=\"dataframe\">\n",
       "  <thead>\n",
       "    <tr style=\"text-align: right;\">\n",
       "      <th></th>\n",
       "      <th>narration_id</th>\n",
       "      <th>participant_id</th>\n",
       "      <th>video_id</th>\n",
       "      <th>narration_timestamp</th>\n",
       "      <th>start_timestamp</th>\n",
       "      <th>stop_timestamp</th>\n",
       "      <th>start_frame</th>\n",
       "      <th>stop_frame</th>\n",
       "      <th>narration</th>\n",
       "      <th>verb</th>\n",
       "      <th>verb_class</th>\n",
       "      <th>noun</th>\n",
       "      <th>noun_class</th>\n",
       "      <th>all_nouns</th>\n",
       "      <th>all_noun_classes</th>\n",
       "    </tr>\n",
       "  </thead>\n",
       "  <tbody>\n",
       "    <tr>\n",
       "      <th>0</th>\n",
       "      <td>P01_01_0</td>\n",
       "      <td>P01</td>\n",
       "      <td>P01_01</td>\n",
       "      <td>00:00:01.089</td>\n",
       "      <td>00:00:00.14</td>\n",
       "      <td>00:00:03.37</td>\n",
       "      <td>8</td>\n",
       "      <td>202</td>\n",
       "      <td>open door</td>\n",
       "      <td>open</td>\n",
       "      <td>3</td>\n",
       "      <td>door</td>\n",
       "      <td>3</td>\n",
       "      <td>['door']</td>\n",
       "      <td>[3]</td>\n",
       "    </tr>\n",
       "    <tr>\n",
       "      <th>1</th>\n",
       "      <td>P01_01_1</td>\n",
       "      <td>P01</td>\n",
       "      <td>P01_01</td>\n",
       "      <td>00:00:02.629</td>\n",
       "      <td>00:00:04.37</td>\n",
       "      <td>00:00:06.17</td>\n",
       "      <td>262</td>\n",
       "      <td>370</td>\n",
       "      <td>turn on light</td>\n",
       "      <td>turn-on</td>\n",
       "      <td>6</td>\n",
       "      <td>light</td>\n",
       "      <td>114</td>\n",
       "      <td>['light']</td>\n",
       "      <td>[114]</td>\n",
       "    </tr>\n",
       "    <tr>\n",
       "      <th>2</th>\n",
       "      <td>P01_01_10</td>\n",
       "      <td>P01</td>\n",
       "      <td>P01_01</td>\n",
       "      <td>00:00:23.340</td>\n",
       "      <td>00:00:24.97</td>\n",
       "      <td>00:00:26.20</td>\n",
       "      <td>1498</td>\n",
       "      <td>1572</td>\n",
       "      <td>open drawer</td>\n",
       "      <td>open</td>\n",
       "      <td>3</td>\n",
       "      <td>drawer</td>\n",
       "      <td>8</td>\n",
       "      <td>['drawer']</td>\n",
       "      <td>[8]</td>\n",
       "    </tr>\n",
       "    <tr>\n",
       "      <th>3</th>\n",
       "      <td>P01_01_100</td>\n",
       "      <td>P01</td>\n",
       "      <td>P01_01</td>\n",
       "      <td>00:07:57.919</td>\n",
       "      <td>00:07:59.75</td>\n",
       "      <td>00:08:00.88</td>\n",
       "      <td>28785</td>\n",
       "      <td>28852</td>\n",
       "      <td>take cup</td>\n",
       "      <td>take</td>\n",
       "      <td>0</td>\n",
       "      <td>cup</td>\n",
       "      <td>13</td>\n",
       "      <td>['cup']</td>\n",
       "      <td>[13]</td>\n",
       "    </tr>\n",
       "    <tr>\n",
       "      <th>4</th>\n",
       "      <td>P01_01_101</td>\n",
       "      <td>P01</td>\n",
       "      <td>P01_01</td>\n",
       "      <td>00:08:00.020</td>\n",
       "      <td>00:08:01.47</td>\n",
       "      <td>00:08:02.21</td>\n",
       "      <td>28888</td>\n",
       "      <td>28932</td>\n",
       "      <td>open cupboard</td>\n",
       "      <td>open</td>\n",
       "      <td>3</td>\n",
       "      <td>cupboard</td>\n",
       "      <td>3</td>\n",
       "      <td>['cupboard']</td>\n",
       "      <td>[3]</td>\n",
       "    </tr>\n",
       "  </tbody>\n",
       "</table>\n",
       "</div>"
      ],
      "text/plain": [
       "  narration_id participant_id video_id narration_timestamp start_timestamp   \n",
       "0     P01_01_0            P01   P01_01        00:00:01.089     00:00:00.14  \\\n",
       "1     P01_01_1            P01   P01_01        00:00:02.629     00:00:04.37   \n",
       "2    P01_01_10            P01   P01_01        00:00:23.340     00:00:24.97   \n",
       "3   P01_01_100            P01   P01_01        00:07:57.919     00:07:59.75   \n",
       "4   P01_01_101            P01   P01_01        00:08:00.020     00:08:01.47   \n",
       "\n",
       "  stop_timestamp  start_frame  stop_frame      narration     verb  verb_class   \n",
       "0    00:00:03.37            8         202      open door     open           3  \\\n",
       "1    00:00:06.17          262         370  turn on light  turn-on           6   \n",
       "2    00:00:26.20         1498        1572    open drawer     open           3   \n",
       "3    00:08:00.88        28785       28852       take cup     take           0   \n",
       "4    00:08:02.21        28888       28932  open cupboard     open           3   \n",
       "\n",
       "       noun  noun_class     all_nouns all_noun_classes  \n",
       "0      door           3      ['door']              [3]  \n",
       "1     light         114     ['light']            [114]  \n",
       "2    drawer           8    ['drawer']              [8]  \n",
       "3       cup          13       ['cup']             [13]  \n",
       "4  cupboard           3  ['cupboard']              [3]  "
      ]
     },
     "execution_count": 15,
     "metadata": {},
     "output_type": "execute_result"
    }
   ],
   "source": [
    "df = pd.read_csv(TRAIN_CSV)\n",
    "df.head(5)"
   ]
  },
  {
   "cell_type": "code",
   "execution_count": 16,
   "id": "3dc56146-54be-4ec3-aa34-913d86bd1ceb",
   "metadata": {
    "tags": []
   },
   "outputs": [
    {
     "data": {
      "text/plain": [
       "(67217, 15)"
      ]
     },
     "execution_count": 16,
     "metadata": {},
     "output_type": "execute_result"
    }
   ],
   "source": [
    "df.shape"
   ]
  },
  {
   "cell_type": "code",
   "execution_count": 17,
   "id": "f6444338-ab37-4f30-9376-0dcea1929738",
   "metadata": {
    "tags": []
   },
   "outputs": [
    {
     "data": {
      "text/plain": [
       "0         3\n",
       "1         6\n",
       "2         3\n",
       "3         0\n",
       "4         3\n",
       "         ..\n",
       "67212     8\n",
       "67213     0\n",
       "67214     9\n",
       "67215    30\n",
       "67216    30\n",
       "Name: verb_class, Length: 67217, dtype: int64"
      ]
     },
     "execution_count": 17,
     "metadata": {},
     "output_type": "execute_result"
    }
   ],
   "source": [
    "df['verb_class'].apply(lambda x: int(x))"
   ]
  },
  {
   "cell_type": "code",
   "execution_count": 18,
   "id": "77f4c819-d23e-4bac-b3a6-229816b355a3",
   "metadata": {
    "tags": []
   },
   "outputs": [],
   "source": [
    "df = df.drop(df[df['video_id'] == 'P23_04'].index)"
   ]
  },
  {
   "cell_type": "markdown",
   "id": "2ce7f1ff-099b-4d90-a0d8-f17c2fee64cf",
   "metadata": {},
   "source": [
    "## Create splits and new train/val dfs"
   ]
  },
  {
   "cell_type": "code",
   "execution_count": 7,
   "id": "e585c22f-a0b6-48e0-b325-323da7d87e03",
   "metadata": {
    "tags": []
   },
   "outputs": [],
   "source": [
    "verbs = df['verb_class'].unique()"
   ]
  },
  {
   "cell_type": "code",
   "execution_count": 8,
   "id": "9626f649-9ae5-4242-87d0-01c70defc5f4",
   "metadata": {
    "tags": []
   },
   "outputs": [
    {
     "name": "stdout",
     "output_type": "stream",
     "text": [
      "verb 93 skipped. Only 1 values\n"
     ]
    }
   ],
   "source": [
    "df_verb_train_list = []\n",
    "df_verb_val_list = []\n",
    "for verb in verbs:\n",
    "    if len(df[df['verb_class'] == verb]) >= 2:\n",
    "        df_verb = df[df['verb_class'] == verb]\n",
    "        df_verb_train, df_verb_val = train_test_split(df_verb, test_size=0.15, train_size=0.85, random_state=1, shuffle=True)\n",
    "        df_verb_train_list.append(df_verb_train)\n",
    "        df_verb_val_list.append(df_verb_val)\n",
    "    else:\n",
    "        print(f'verb {verb} skipped. Only {len(df[df[\"verb_class\"] == verb])} values')"
   ]
  },
  {
   "cell_type": "code",
   "execution_count": 9,
   "id": "ce179f14-639a-4f34-bfdf-70debd4f63dd",
   "metadata": {
    "tags": []
   },
   "outputs": [],
   "source": [
    "df_train = pd.concat(df_verb_train_list)\n",
    "df_val = pd.concat(df_verb_val_list)"
   ]
  },
  {
   "cell_type": "code",
   "execution_count": 10,
   "id": "acd49d52-c073-4926-a51e-109470544ad4",
   "metadata": {
    "tags": []
   },
   "outputs": [
    {
     "data": {
      "text/plain": [
       "verb_class\n",
       "0     12580\n",
       "1     10381\n",
       "2      5865\n",
       "3      4134\n",
       "4      2954\n",
       "      ...  \n",
       "92        3\n",
       "94        2\n",
       "95        1\n",
       "96        1\n",
       "90        1\n",
       "Name: count, Length: 96, dtype: int64"
      ]
     },
     "execution_count": 10,
     "metadata": {},
     "output_type": "execute_result"
    }
   ],
   "source": [
    "df_train['verb_class'].value_counts()"
   ]
  },
  {
   "cell_type": "code",
   "execution_count": 32,
   "id": "07ef2ccf-cf67-4faf-9a47-716e6b5bc307",
   "metadata": {
    "tags": []
   },
   "outputs": [],
   "source": [
    "verbs_ds = df_train['verb_class'].value_counts()"
   ]
  },
  {
   "cell_type": "code",
   "execution_count": 33,
   "id": "120d8d94-5ee5-47b1-b80f-fbe76423e9ea",
   "metadata": {
    "tags": []
   },
   "outputs": [],
   "source": [
    "verbs_freq = np.asarray(verbs_ds)\n",
    "labels = verbs_ds.index"
   ]
  },
  {
   "cell_type": "code",
   "execution_count": 64,
   "id": "6ce4bbcc-5edb-4679-9621-e41da0cd0464",
   "metadata": {
    "tags": []
   },
   "outputs": [
    {
     "data": {
      "image/png": "[encoded data removed]",
      "text/plain": [
       "<Figure size 640x480 with 1 Axes>"
      ]
     },
     "metadata": {},
     "output_type": "display_data"
    }
   ],
   "source": [
    "plt.bar(labels, height=verbs_freq)\n",
    "plt.title('Labels frequency')\n",
    "plt.xlabel('Verb class')\n",
    "plt.ylabel('Frequency')\n",
    "plt.yscale('log')\n",
    "plt.savefig('labels_hist')"
   ]
  },
  {
   "cell_type": "markdown",
   "id": "c23ff1d8-95dc-442c-a19d-1f6f70dc3ca4",
   "metadata": {},
   "source": [
    "We have to make the classes to be in order of [0, 1, 2, .., 96]. Now in the last labels we have [0, ..., 92, 94, 95, 96] which raises an error."
   ]
  },
  {
   "cell_type": "code",
   "execution_count": null,
   "id": "b2760a7b-79b2-475e-8b96-1f1e29e35336",
   "metadata": {
    "tags": []
   },
   "outputs": [],
   "source": [
    "for num in [94, 95, 96]:\n",
    "    for index in df_train['verb_class'][df_train['verb_class'] == num].index:\n",
    "        df_train.loc[index, 'verb_class'] = num-1"
   ]
  },
  {
   "cell_type": "code",
   "execution_count": null,
   "id": "d22992d3-2ff7-4dbb-ad14-41280d71446c",
   "metadata": {
    "tags": []
   },
   "outputs": [],
   "source": [
    "for num in [94, 95, 96]:\n",
    "    for index in df_val['verb_class'][df_val['verb_class'] == num].index:\n",
    "        df_val.loc[index, 'verb_class'] = num-1"
   ]
  },
  {
   "cell_type": "code",
   "execution_count": null,
   "id": "4ff3decb-9a31-4c05-8a8b-c7105ba0ff50",
   "metadata": {
    "tags": []
   },
   "outputs": [],
   "source": [
    "df_train['verb_class'].unique()"
   ]
  },
  {
   "cell_type": "code",
   "execution_count": null,
   "id": "9b19be4c-08e1-488f-b352-82356926c2fe",
   "metadata": {
    "tags": []
   },
   "outputs": [],
   "source": [
    "df_val['verb_class'].unique()"
   ]
  },
  {
   "cell_type": "code",
   "execution_count": null,
   "id": "f68339e1-e008-484b-ba4d-948739430a0a",
   "metadata": {
    "tags": []
   },
   "outputs": [],
   "source": [
    "# shuffle the rows\n",
    "df_train = df_train.sample(frac = 1)\n",
    "df_val = df_val.sample(frac = 1)"
   ]
  },
  {
   "cell_type": "code",
   "execution_count": null,
   "id": "06de6c6a-5387-4fe4-8370-f1fbaadfe770",
   "metadata": {
    "tags": []
   },
   "outputs": [],
   "source": [
    "print(f'df train shape: {df_train.shape}')\n",
    "print(f'df val shape: {df_val.shape}')"
   ]
  },
  {
   "cell_type": "code",
   "execution_count": null,
   "id": "e5d113d7-e630-41e6-b3cf-66f0bb966884",
   "metadata": {
    "tags": []
   },
   "outputs": [],
   "source": [
    "df_train['verb_class'].value_counts()"
   ]
  },
  {
   "cell_type": "code",
   "execution_count": null,
   "id": "452b16a8-4d82-46c8-879c-e8bd9b4910af",
   "metadata": {
    "tags": []
   },
   "outputs": [],
   "source": [
    "df_val['verb_class'].value_counts()"
   ]
  },
  {
   "cell_type": "code",
   "execution_count": null,
   "id": "fe090e0f-aba0-4ab6-a1a4-bccf713990d1",
   "metadata": {
    "tags": []
   },
   "outputs": [],
   "source": [
    "df_val.head()"
   ]
  },
  {
   "cell_type": "code",
   "execution_count": null,
   "id": "6a31d504-8c66-4458-a08c-1ebb3d752160",
   "metadata": {
    "tags": []
   },
   "outputs": [],
   "source": [
    "df_train.to_csv('train.csv')\n",
    "df_val.to_csv('val.csv')"
   ]
  },
  {
   "cell_type": "markdown",
   "id": "04c7a3f5-83f5-4f13-b512-268e6df9f729",
   "metadata": {},
   "source": [
    "## weight for classes exporation"
   ]
  },
  {
   "cell_type": "code",
   "execution_count": null,
   "id": "3a52eda6-214a-4525-bf43-c799d3438daf",
   "metadata": {
    "tags": []
   },
   "outputs": [],
   "source": [
    "unique_labels = np.array(df_train['verb_class'].unique())\n",
    "unique_labels.sort()\n",
    "all_labels = np.array(df_train['verb_class'])"
   ]
  },
  {
   "cell_type": "code",
   "execution_count": null,
   "id": "543cdaea-c256-492c-af74-e3db4df133c3",
   "metadata": {
    "tags": []
   },
   "outputs": [],
   "source": [
    "print(unique_labels)"
   ]
  },
  {
   "cell_type": "code",
   "execution_count": null,
   "id": "5cbb52ef-5807-4ab4-bbbd-f520313699b3",
   "metadata": {
    "tags": []
   },
   "outputs": [],
   "source": [
    "all_labels"
   ]
  },
  {
   "cell_type": "code",
   "execution_count": null,
   "id": "d054e7fb-fcfd-48d1-9812-4cb69b3e9e29",
   "metadata": {
    "tags": []
   },
   "outputs": [],
   "source": [
    "class_weights = compute_class_weight(class_weight='balanced', classes=unique_labels, y=all_labels)"
   ]
  },
  {
   "cell_type": "code",
   "execution_count": null,
   "id": "f1d7a46e-b96f-4c14-845a-518874e9d5e0",
   "metadata": {
    "tags": []
   },
   "outputs": [],
   "source": [
    "class_weights"
   ]
  },
  {
   "cell_type": "code",
   "execution_count": null,
   "id": "1745639f-564e-4beb-91f6-c0a98f053307",
   "metadata": {
    "tags": []
   },
   "outputs": [],
   "source": [
    "class_weights_tensor = torch.tensor(class_weights, dtype=torch.float32)"
   ]
  },
  {
   "cell_type": "code",
   "execution_count": null,
   "id": "4a4ffbb4-a5b0-42b5-a232-4704c432e90d",
   "metadata": {
    "tags": []
   },
   "outputs": [],
   "source": [
    "class_weights_tensor.dtype"
   ]
  },
  {
   "cell_type": "code",
   "execution_count": null,
   "id": "1fb0937a-05d3-4169-af07-1f9c5b270460",
   "metadata": {
    "tags": []
   },
   "outputs": [],
   "source": [
    "criterion = nn.CrossEntropyLoss(weight=class_weights)"
   ]
  },
  {
   "cell_type": "markdown",
   "id": "4a93f009-89e3-4b8c-b3b3-b146229f4a22",
   "metadata": {},
   "source": [
    "## Load image with opencv"
   ]
  },
  {
   "cell_type": "code",
   "execution_count": 1,
   "id": "d4ddc372-ba5d-4124-9b41-971835874836",
   "metadata": {
    "tags": []
   },
   "outputs": [],
   "source": [
    "import cv2"
   ]
  },
  {
   "cell_type": "code",
   "execution_count": 53,
   "id": "bec0f2e1-3f3f-412c-bb29-582d0b2c94d4",
   "metadata": {
    "tags": []
   },
   "outputs": [],
   "source": [
    "arr = cv2.imread('frame_0000042685.jpg', cv2.IMREAD_UNCHANGED)"
   ]
  },
  {
   "cell_type": "code",
   "execution_count": 54,
   "id": "67d94fed-0212-47bb-ba51-a844ff7b158a",
   "metadata": {
    "tags": []
   },
   "outputs": [
    {
     "data": {
      "text/plain": [
       "(256, 256, 3)"
      ]
     },
     "execution_count": 54,
     "metadata": {},
     "output_type": "execute_result"
    }
   ],
   "source": [
    "arr.shape"
   ]
  },
  {
   "cell_type": "code",
   "execution_count": 55,
   "id": "a381fb46-2ca0-4c61-8e53-924473cb86ef",
   "metadata": {
    "tags": []
   },
   "outputs": [],
   "source": [
    "to_tensor = T.ToTensor()\n",
    "resize = T.Resize(size=(112, 112), antialias=True)"
   ]
  },
  {
   "cell_type": "code",
   "execution_count": 85,
   "id": "24be992f-d6e2-4ddb-8cec-6a8c83d92592",
   "metadata": {
    "tags": []
   },
   "outputs": [],
   "source": [
    "img = to_tensor(arr)"
   ]
  },
  {
   "cell_type": "code",
   "execution_count": 86,
   "id": "ea6bdeba-bc38-4ce3-b5b4-bde5083b44bd",
   "metadata": {
    "tags": []
   },
   "outputs": [],
   "source": [
    "frames = [resize(img).unsqueeze(-1) for i in range(100)]"
   ]
  },
  {
   "cell_type": "code",
   "execution_count": 87,
   "id": "b9395217-2e24-492b-96b2-4003d7c1f012",
   "metadata": {
    "tags": []
   },
   "outputs": [],
   "source": [
    "clip = torch.cat(frames, dim=-1)"
   ]
  },
  {
   "cell_type": "code",
   "execution_count": 88,
   "id": "589c0c60-f9d9-4688-861b-2fcb2d06662c",
   "metadata": {
    "tags": []
   },
   "outputs": [
    {
     "data": {
      "text/plain": [
       "torch.Size([3, 112, 112, 100])"
      ]
     },
     "execution_count": 88,
     "metadata": {},
     "output_type": "execute_result"
    }
   ],
   "source": [
    "clip.size()"
   ]
  },
  {
   "cell_type": "code",
   "execution_count": 89,
   "id": "45811930-bb3e-4839-88b6-80c3aca0c635",
   "metadata": {
    "tags": []
   },
   "outputs": [
    {
     "data": {
      "text/plain": [
       "(50, 50)"
      ]
     },
     "execution_count": 89,
     "metadata": {},
     "output_type": "execute_result"
    }
   ],
   "source": [
    "pad = (50, 50)\n",
    "pad"
   ]
  },
  {
   "cell_type": "code",
   "execution_count": 90,
   "id": "7e71e554-8968-4260-b4fe-c26e2d09dae4",
   "metadata": {
    "tags": []
   },
   "outputs": [],
   "source": [
    "clip_padded = nn.functional.pad(clip, pad, 'constant', 0)"
   ]
  },
  {
   "cell_type": "code",
   "execution_count": 91,
   "id": "a58a8e7d-61d0-4c72-9b01-8b2377704549",
   "metadata": {
    "tags": []
   },
   "outputs": [
    {
     "data": {
      "text/plain": [
       "torch.Size([3, 112, 112, 200])"
      ]
     },
     "execution_count": 91,
     "metadata": {},
     "output_type": "execute_result"
    }
   ],
   "source": [
    "clip_padded.size()"
   ]
  },
  {
   "cell_type": "code",
   "execution_count": 92,
   "id": "99e317cc-4168-4eda-8781-3882e44e5843",
   "metadata": {
    "tags": []
   },
   "outputs": [
    {
     "data": {
      "text/plain": [
       "torch.Size([200, 3, 112, 112])"
      ]
     },
     "execution_count": 92,
     "metadata": {},
     "output_type": "execute_result"
    }
   ],
   "source": [
    "clip_2 = rearrange(clip_padded, 'c w h t1 -> t1 c w h')\n",
    "clip_2.size()"
   ]
  },
  {
   "cell_type": "code",
   "execution_count": 94,
   "id": "1030edb0-a269-48e5-b8b5-b40242e91e13",
   "metadata": {
    "tags": []
   },
   "outputs": [
    {
     "data": {
      "text/plain": [
       "torch.Size([100, 3, 112, 112])"
      ]
     },
     "execution_count": 94,
     "metadata": {},
     "output_type": "execute_result"
    }
   ],
   "source": [
    "clip_3 = clip_2[0:200:2] # take 1 for every 2 frames\n",
    "clip_3.size()"
   ]
  },
  {
   "cell_type": "code",
   "execution_count": 84,
   "id": "a3f0b3bc-80ac-43dd-93a0-e2082ebd957b",
   "metadata": {
    "tags": []
   },
   "outputs": [
    {
     "data": {
      "text/plain": [
       "torch.Size([112, 112, 200, 3])"
      ]
     },
     "execution_count": 84,
     "metadata": {},
     "output_type": "execute_result"
    }
   ],
   "source": [
    "clip_4 = rearrange(clip_3, 't2 c w h -> c w h t2') \n",
    "clip_4.size()"
   ]
  },
  {
   "cell_type": "markdown",
   "id": "b68dc5aa-7ecf-4830-97a6-522bdff1f800",
   "metadata": {},
   "source": [
    "## Generate subset to make trial"
   ]
  },
  {
   "cell_type": "code",
   "execution_count": 3,
   "id": "2b47d885-43ec-490a-8b03-deccae338ad0",
   "metadata": {
    "tags": []
   },
   "outputs": [],
   "source": [
    "df = pd.read_csv(TRAIN_CSV)\n",
    "df_test = pd.read_csv(VAL_CSV)"
   ]
  },
  {
   "cell_type": "code",
   "execution_count": 20,
   "id": "863684c5-da6c-49a0-a9f7-b034c5e34940",
   "metadata": {
    "tags": []
   },
   "outputs": [],
   "source": [
    "df_lst = []\n",
    "for label in range(4):\n",
    "    df_label = df[df['verb_class'] == label]\n",
    "    df_lst.append(df_label)\n",
    "df_subset = pd.concat(df_lst)"
   ]
  },
  {
   "cell_type": "code",
   "execution_count": 23,
   "id": "e563cfe1-25cd-45ed-9ecd-b20c8852dccb",
   "metadata": {
    "tags": []
   },
   "outputs": [],
   "source": [
    "df_subset = df_subset.sample(frac=0.05)"
   ]
  },
  {
   "cell_type": "code",
   "execution_count": 24,
   "id": "75804e0f-9b8d-4479-bab8-08dc514bb245",
   "metadata": {
    "tags": []
   },
   "outputs": [
    {
     "data": {
      "text/plain": [
       "(1939, 15)"
      ]
     },
     "execution_count": 24,
     "metadata": {},
     "output_type": "execute_result"
    }
   ],
   "source": [
    "df_subset.shape"
   ]
  },
  {
   "cell_type": "code",
   "execution_count": 25,
   "id": "9bc8f774-48bd-4ec6-a272-51a140bf3fbf",
   "metadata": {
    "tags": []
   },
   "outputs": [
    {
     "data": {
      "text/plain": [
       "verb_class\n",
       "0    758\n",
       "1    593\n",
       "2    339\n",
       "3    249\n",
       "Name: count, dtype: int64"
      ]
     },
     "execution_count": 25,
     "metadata": {},
     "output_type": "execute_result"
    }
   ],
   "source": [
    "df_subset['verb_class'].value_counts()"
   ]
  },
  {
   "cell_type": "code",
   "execution_count": 26,
   "id": "e3dffcda-2625-43ae-b341-00913d30c261",
   "metadata": {
    "tags": []
   },
   "outputs": [],
   "source": [
    "df_subset_train, df_subset_val = train_test_split(df_subset, test_size=0.15, train_size=0.85, random_state=1, shuffle=True)"
   ]
  },
  {
   "cell_type": "code",
   "execution_count": 32,
   "id": "52aa183b-d54f-4a4f-8172-9a22c858004a",
   "metadata": {
    "tags": []
   },
   "outputs": [],
   "source": [
    "df_subset_train.to_csv('subset_train.csv')\n",
    "df_subset_val.to_csv('subset_val.csv')"
   ]
  },
  {
   "cell_type": "code",
   "execution_count": 34,
   "id": "6801901b-78ae-4d66-ac51-043c2f808914",
   "metadata": {
    "tags": []
   },
   "outputs": [
    {
     "data": {
      "text/plain": [
       "array([1, 3, 0, 2], dtype=int64)"
      ]
     },
     "execution_count": 34,
     "metadata": {},
     "output_type": "execute_result"
    }
   ],
   "source": [
    "df_subset_train['verb_class'].unique()"
   ]
  },
  {
   "cell_type": "code",
   "execution_count": 4,
   "id": "274fefc3-261b-475e-abcc-2256780b7b77",
   "metadata": {},
   "outputs": [],
   "source": [
    "df_lst = []\n",
    "for label in range(4):\n",
    "    df_label = df_test[df_test['verb_class'] == label]\n",
    "    df_lst.append(df_label)\n",
    "df_test_subset = pd.concat(df_lst)"
   ]
  },
  {
   "cell_type": "code",
   "execution_count": null,
   "id": "50ee2c2d-b77e-486f-bd0a-75b691489457",
   "metadata": {},
   "outputs": [],
   "source": []
  }
 ],
 "metadata": {
  "kernelspec": {
   "display_name": "Python 3 (ipykernel)",
   "language": "python",
   "name": "python3"
  },
  "language_info": {
   "codemirror_mode": {
    "name": "ipython",
    "version": 3
   },
   "file_extension": ".py",
   "mimetype": "text/x-python",
   "name": "python",
   "nbconvert_exporter": "python",
   "pygments_lexer": "ipython3",
   "version": "3.10.9"
  }
 },
 "nbformat": 4,
 "nbformat_minor": 5
}

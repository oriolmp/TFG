{
 "cells": [
  {
   "cell_type": "code",
   "execution_count": 1,
   "id": "65082436",
   "metadata": {
    "tags": []
   },
   "outputs": [],
   "source": [
    "import torch\n",
    "import torch.nn as nn\n",
    "import pandas as pd\n",
    "import numpy as np\n",
    "import csv\n",
    "from sklearn.model_selection import train_test_split\n",
    "from sklearn.utils.class_weight import compute_class_weight"
   ]
  },
  {
   "cell_type": "markdown",
   "id": "69c873b3-50d9-4747-aa58-89bde757f880",
   "metadata": {},
   "source": [
    "Here we want to create a validation set from the train set. We want a 85% train and 15%, keeping the labels proportionality"
   ]
  },
  {
   "cell_type": "code",
   "execution_count": 2,
   "id": "a51dda77-6258-4cb4-8695-d8f1b2fb8c3a",
   "metadata": {
    "tags": []
   },
   "outputs": [],
   "source": [
    "TRAIN_CSV = 'EPIC_100_train.csv'\n",
    "VAL_CSV = 'EPIC_100_validation.csv'"
   ]
  },
  {
   "cell_type": "markdown",
   "id": "8ad419d5-97b1-4552-b535-3c53d8782433",
   "metadata": {
    "tags": []
   },
   "source": [
    "### Original df"
   ]
  },
  {
   "cell_type": "code",
   "execution_count": 3,
   "id": "2cad68d4-4b22-4cf1-914d-cd10b1128366",
   "metadata": {
    "tags": []
   },
   "outputs": [
    {
     "data": {
      "text/html": [
       "<div>\n",
       "<style scoped>\n",
       "    .dataframe tbody tr th:only-of-type {\n",
       "        vertical-align: middle;\n",
       "    }\n",
       "\n",
       "    .dataframe tbody tr th {\n",
       "        vertical-align: top;\n",
       "    }\n",
       "\n",
       "    .dataframe thead th {\n",
       "        text-align: right;\n",
       "    }\n",
       "</style>\n",
       "<table border=\"1\" class=\"dataframe\">\n",
       "  <thead>\n",
       "    <tr style=\"text-align: right;\">\n",
       "      <th></th>\n",
       "      <th>narration_id</th>\n",
       "      <th>participant_id</th>\n",
       "      <th>video_id</th>\n",
       "      <th>narration_timestamp</th>\n",
       "      <th>start_timestamp</th>\n",
       "      <th>stop_timestamp</th>\n",
       "      <th>start_frame</th>\n",
       "      <th>stop_frame</th>\n",
       "      <th>narration</th>\n",
       "      <th>verb</th>\n",
       "      <th>verb_class</th>\n",
       "      <th>noun</th>\n",
       "      <th>noun_class</th>\n",
       "      <th>all_nouns</th>\n",
       "      <th>all_noun_classes</th>\n",
       "    </tr>\n",
       "  </thead>\n",
       "  <tbody>\n",
       "    <tr>\n",
       "      <th>0</th>\n",
       "      <td>P01_01_0</td>\n",
       "      <td>P01</td>\n",
       "      <td>P01_01</td>\n",
       "      <td>00:00:01.089</td>\n",
       "      <td>00:00:00.14</td>\n",
       "      <td>00:00:03.37</td>\n",
       "      <td>8</td>\n",
       "      <td>202</td>\n",
       "      <td>open door</td>\n",
       "      <td>open</td>\n",
       "      <td>3</td>\n",
       "      <td>door</td>\n",
       "      <td>3</td>\n",
       "      <td>['door']</td>\n",
       "      <td>[3]</td>\n",
       "    </tr>\n",
       "    <tr>\n",
       "      <th>1</th>\n",
       "      <td>P01_01_1</td>\n",
       "      <td>P01</td>\n",
       "      <td>P01_01</td>\n",
       "      <td>00:00:02.629</td>\n",
       "      <td>00:00:04.37</td>\n",
       "      <td>00:00:06.17</td>\n",
       "      <td>262</td>\n",
       "      <td>370</td>\n",
       "      <td>turn on light</td>\n",
       "      <td>turn-on</td>\n",
       "      <td>6</td>\n",
       "      <td>light</td>\n",
       "      <td>114</td>\n",
       "      <td>['light']</td>\n",
       "      <td>[114]</td>\n",
       "    </tr>\n",
       "    <tr>\n",
       "      <th>2</th>\n",
       "      <td>P01_01_10</td>\n",
       "      <td>P01</td>\n",
       "      <td>P01_01</td>\n",
       "      <td>00:00:23.340</td>\n",
       "      <td>00:00:24.97</td>\n",
       "      <td>00:00:26.20</td>\n",
       "      <td>1498</td>\n",
       "      <td>1572</td>\n",
       "      <td>open drawer</td>\n",
       "      <td>open</td>\n",
       "      <td>3</td>\n",
       "      <td>drawer</td>\n",
       "      <td>8</td>\n",
       "      <td>['drawer']</td>\n",
       "      <td>[8]</td>\n",
       "    </tr>\n",
       "    <tr>\n",
       "      <th>3</th>\n",
       "      <td>P01_01_100</td>\n",
       "      <td>P01</td>\n",
       "      <td>P01_01</td>\n",
       "      <td>00:07:57.919</td>\n",
       "      <td>00:07:59.75</td>\n",
       "      <td>00:08:00.88</td>\n",
       "      <td>28785</td>\n",
       "      <td>28852</td>\n",
       "      <td>take cup</td>\n",
       "      <td>take</td>\n",
       "      <td>0</td>\n",
       "      <td>cup</td>\n",
       "      <td>13</td>\n",
       "      <td>['cup']</td>\n",
       "      <td>[13]</td>\n",
       "    </tr>\n",
       "    <tr>\n",
       "      <th>4</th>\n",
       "      <td>P01_01_101</td>\n",
       "      <td>P01</td>\n",
       "      <td>P01_01</td>\n",
       "      <td>00:08:00.020</td>\n",
       "      <td>00:08:01.47</td>\n",
       "      <td>00:08:02.21</td>\n",
       "      <td>28888</td>\n",
       "      <td>28932</td>\n",
       "      <td>open cupboard</td>\n",
       "      <td>open</td>\n",
       "      <td>3</td>\n",
       "      <td>cupboard</td>\n",
       "      <td>3</td>\n",
       "      <td>['cupboard']</td>\n",
       "      <td>[3]</td>\n",
       "    </tr>\n",
       "  </tbody>\n",
       "</table>\n",
       "</div>"
      ],
      "text/plain": [
       "  narration_id participant_id video_id narration_timestamp start_timestamp   \n",
       "0     P01_01_0            P01   P01_01        00:00:01.089     00:00:00.14  \\\n",
       "1     P01_01_1            P01   P01_01        00:00:02.629     00:00:04.37   \n",
       "2    P01_01_10            P01   P01_01        00:00:23.340     00:00:24.97   \n",
       "3   P01_01_100            P01   P01_01        00:07:57.919     00:07:59.75   \n",
       "4   P01_01_101            P01   P01_01        00:08:00.020     00:08:01.47   \n",
       "\n",
       "  stop_timestamp  start_frame  stop_frame      narration     verb  verb_class   \n",
       "0    00:00:03.37            8         202      open door     open           3  \\\n",
       "1    00:00:06.17          262         370  turn on light  turn-on           6   \n",
       "2    00:00:26.20         1498        1572    open drawer     open           3   \n",
       "3    00:08:00.88        28785       28852       take cup     take           0   \n",
       "4    00:08:02.21        28888       28932  open cupboard     open           3   \n",
       "\n",
       "       noun  noun_class     all_nouns all_noun_classes  \n",
       "0      door           3      ['door']              [3]  \n",
       "1     light         114     ['light']            [114]  \n",
       "2    drawer           8    ['drawer']              [8]  \n",
       "3       cup          13       ['cup']             [13]  \n",
       "4  cupboard           3  ['cupboard']              [3]  "
      ]
     },
     "execution_count": 3,
     "metadata": {},
     "output_type": "execute_result"
    }
   ],
   "source": [
    "df = pd.read_csv(TRAIN_CSV)\n",
    "df.head(5)"
   ]
  },
  {
   "cell_type": "code",
   "execution_count": 4,
   "id": "3dc56146-54be-4ec3-aa34-913d86bd1ceb",
   "metadata": {
    "tags": []
   },
   "outputs": [
    {
     "data": {
      "text/plain": [
       "(67217, 15)"
      ]
     },
     "execution_count": 4,
     "metadata": {},
     "output_type": "execute_result"
    }
   ],
   "source": [
    "df.shape"
   ]
  },
  {
   "cell_type": "code",
   "execution_count": 5,
   "id": "f6444338-ab37-4f30-9376-0dcea1929738",
   "metadata": {
    "tags": []
   },
   "outputs": [
    {
     "data": {
      "text/plain": [
       "0         3\n",
       "1         6\n",
       "2         3\n",
       "3         0\n",
       "4         3\n",
       "         ..\n",
       "67212     8\n",
       "67213     0\n",
       "67214     9\n",
       "67215    30\n",
       "67216    30\n",
       "Name: verb_class, Length: 67217, dtype: int64"
      ]
     },
     "execution_count": 5,
     "metadata": {},
     "output_type": "execute_result"
    }
   ],
   "source": [
    "df['verb_class'].apply(lambda x: int(x))"
   ]
  },
  {
   "cell_type": "code",
   "execution_count": 6,
   "id": "77f4c819-d23e-4bac-b3a6-229816b355a3",
   "metadata": {
    "tags": []
   },
   "outputs": [],
   "source": [
    "df = df.drop(df[df['video_id'] == 'P23_04'].index)"
   ]
  },
  {
   "cell_type": "markdown",
   "id": "2ce7f1ff-099b-4d90-a0d8-f17c2fee64cf",
   "metadata": {},
   "source": [
    "## Create splits and new train/val dfs"
   ]
  },
  {
   "cell_type": "code",
   "execution_count": 7,
   "id": "e585c22f-a0b6-48e0-b325-323da7d87e03",
   "metadata": {
    "tags": []
   },
   "outputs": [],
   "source": [
    "verbs = df['verb_class'].unique()"
   ]
  },
  {
   "cell_type": "code",
   "execution_count": 8,
   "id": "9626f649-9ae5-4242-87d0-01c70defc5f4",
   "metadata": {
    "tags": []
   },
   "outputs": [
    {
     "name": "stdout",
     "output_type": "stream",
     "text": [
      "verb 93 skipped. Only 1 values\n"
     ]
    }
   ],
   "source": [
    "df_verb_train_list = []\n",
    "df_verb_val_list = []\n",
    "for verb in verbs:\n",
    "    if len(df[df['verb_class'] == verb]) >= 2:\n",
    "        df_verb = df[df['verb_class'] == verb]\n",
    "        df_verb_train, df_verb_val = train_test_split(df_verb, test_size=0.15, train_size=0.85, random_state=1, shuffle=True)\n",
    "        df_verb_train_list.append(df_verb_train)\n",
    "        df_verb_val_list.append(df_verb_val)\n",
    "    else:\n",
    "        print(f'verb {verb} skipped. Only {len(df[df[\"verb_class\"] == verb])} values')"
   ]
  },
  {
   "cell_type": "code",
   "execution_count": 9,
   "id": "ce179f14-639a-4f34-bfdf-70debd4f63dd",
   "metadata": {
    "tags": []
   },
   "outputs": [],
   "source": [
    "df_train = pd.concat(df_verb_train_list)\n",
    "df_val = pd.concat(df_verb_val_list)"
   ]
  },
  {
   "cell_type": "code",
   "execution_count": 10,
   "id": "acd49d52-c073-4926-a51e-109470544ad4",
   "metadata": {
    "tags": []
   },
   "outputs": [
    {
     "data": {
      "text/plain": [
       "verb_class\n",
       "0     12580\n",
       "1     10381\n",
       "2      5865\n",
       "3      4134\n",
       "4      2954\n",
       "      ...  \n",
       "92        3\n",
       "94        2\n",
       "95        1\n",
       "96        1\n",
       "90        1\n",
       "Name: count, Length: 96, dtype: int64"
      ]
     },
     "execution_count": 10,
     "metadata": {},
     "output_type": "execute_result"
    }
   ],
   "source": [
    "df_train['verb_class'].value_counts()"
   ]
  },
  {
   "cell_type": "markdown",
   "id": "c23ff1d8-95dc-442c-a19d-1f6f70dc3ca4",
   "metadata": {},
   "source": [
    "We have to make the classes to be in order of [0, 1, 2, .., 96]. Now in the last labels we have [0, ..., 92, 94, 95, 96] which raises an error."
   ]
  },
  {
   "cell_type": "code",
   "execution_count": 11,
   "id": "b2760a7b-79b2-475e-8b96-1f1e29e35336",
   "metadata": {
    "tags": []
   },
   "outputs": [],
   "source": [
    "for num in [94, 95, 96]:\n",
    "    for index in df_train['verb_class'][df_train['verb_class'] == num].index:\n",
    "        df_train.loc[index, 'verb_class'] = num-1"
   ]
  },
  {
   "cell_type": "code",
   "execution_count": 12,
   "id": "d22992d3-2ff7-4dbb-ad14-41280d71446c",
   "metadata": {
    "tags": []
   },
   "outputs": [],
   "source": [
    "for num in [94, 95, 96]:\n",
    "    for index in df_val['verb_class'][df_val['verb_class'] == num].index:\n",
    "        df_val.loc[index, 'verb_class'] = num-1"
   ]
  },
  {
   "cell_type": "code",
   "execution_count": 13,
   "id": "4ff3decb-9a31-4c05-8a8b-c7105ba0ff50",
   "metadata": {
    "tags": []
   },
   "outputs": [
    {
     "data": {
      "text/plain": [
       "array([ 3,  6,  0,  5,  1,  4, 10,  7, 59, 77, 13, 23,  9, 38, 17, 28, 12,\n",
       "        2, 72, 16, 35, 60,  8, 37, 18, 14, 11, 20, 39, 31, 15, 41, 22, 45,\n",
       "       24, 42, 19, 34, 51, 27, 53, 52, 48, 47, 87, 64, 71, 49, 32, 21, 33,\n",
       "       56, 44, 73, 25, 63, 30, 36, 82, 67, 26, 50, 89, 46, 61, 70, 76, 68,\n",
       "       74, 40, 55, 86, 43, 91, 57, 66, 83, 93, 81, 29, 65, 58, 78, 62, 94,\n",
       "       54, 85, 88, 69, 75, 79, 84, 80, 92, 95, 90], dtype=int64)"
      ]
     },
     "execution_count": 13,
     "metadata": {},
     "output_type": "execute_result"
    }
   ],
   "source": [
    "df_train['verb_class'].unique()"
   ]
  },
  {
   "cell_type": "code",
   "execution_count": 14,
   "id": "9b19be4c-08e1-488f-b352-82356926c2fe",
   "metadata": {
    "tags": []
   },
   "outputs": [
    {
     "data": {
      "text/plain": [
       "array([ 3,  6,  0,  5,  1,  4, 10,  7, 59, 77, 13, 23,  9, 38, 17, 28, 12,\n",
       "        2, 72, 16, 35, 60,  8, 37, 18, 14, 11, 20, 39, 31, 15, 41, 22, 45,\n",
       "       24, 42, 19, 34, 51, 27, 53, 52, 48, 47, 87, 64, 71, 49, 32, 21, 33,\n",
       "       56, 44, 73, 25, 63, 30, 36, 82, 67, 26, 50, 89, 46, 61, 70, 76, 68,\n",
       "       74, 40, 55, 86, 43, 91, 57, 66, 83, 93, 81, 29, 65, 58, 78, 62, 94,\n",
       "       54, 85, 88, 69, 75, 79, 84, 80, 92, 95, 90], dtype=int64)"
      ]
     },
     "execution_count": 14,
     "metadata": {},
     "output_type": "execute_result"
    }
   ],
   "source": [
    "df_val['verb_class'].unique()"
   ]
  },
  {
   "cell_type": "code",
   "execution_count": 15,
   "id": "f68339e1-e008-484b-ba4d-948739430a0a",
   "metadata": {
    "tags": []
   },
   "outputs": [],
   "source": [
    "# shuffle the rows\n",
    "df_train = df_train.sample(frac = 1)\n",
    "df_val = df_val.sample(frac = 1)"
   ]
  },
  {
   "cell_type": "code",
   "execution_count": 16,
   "id": "06de6c6a-5387-4fe4-8370-f1fbaadfe770",
   "metadata": {
    "tags": []
   },
   "outputs": [
    {
     "name": "stdout",
     "output_type": "stream",
     "text": [
      "df train shape: (56930, 15)\n",
      "df val shape: (10098, 15)\n"
     ]
    }
   ],
   "source": [
    "print(f'df train shape: {df_train.shape}')\n",
    "print(f'df val shape: {df_val.shape}')"
   ]
  },
  {
   "cell_type": "code",
   "execution_count": 17,
   "id": "e5d113d7-e630-41e6-b3cf-66f0bb966884",
   "metadata": {
    "tags": []
   },
   "outputs": [
    {
     "data": {
      "text/plain": [
       "verb_class\n",
       "0     12580\n",
       "1     10381\n",
       "2      5865\n",
       "3      4134\n",
       "4      2954\n",
       "      ...  \n",
       "92        3\n",
       "93        2\n",
       "94        1\n",
       "90        1\n",
       "95        1\n",
       "Name: count, Length: 96, dtype: int64"
      ]
     },
     "execution_count": 17,
     "metadata": {},
     "output_type": "execute_result"
    }
   ],
   "source": [
    "df_train['verb_class'].value_counts()"
   ]
  },
  {
   "cell_type": "code",
   "execution_count": 18,
   "id": "452b16a8-4d82-46c8-879c-e8bd9b4910af",
   "metadata": {
    "tags": []
   },
   "outputs": [
    {
     "data": {
      "text/plain": [
       "verb_class\n",
       "0     2221\n",
       "1     1833\n",
       "2     1035\n",
       "3      730\n",
       "4      522\n",
       "      ... \n",
       "90       1\n",
       "93       1\n",
       "94       1\n",
       "91       1\n",
       "95       1\n",
       "Name: count, Length: 96, dtype: int64"
      ]
     },
     "execution_count": 18,
     "metadata": {},
     "output_type": "execute_result"
    }
   ],
   "source": [
    "df_val['verb_class'].value_counts()"
   ]
  },
  {
   "cell_type": "code",
   "execution_count": 19,
   "id": "fe090e0f-aba0-4ab6-a1a4-bccf713990d1",
   "metadata": {
    "tags": []
   },
   "outputs": [
    {
     "data": {
      "text/html": [
       "<div>\n",
       "<style scoped>\n",
       "    .dataframe tbody tr th:only-of-type {\n",
       "        vertical-align: middle;\n",
       "    }\n",
       "\n",
       "    .dataframe tbody tr th {\n",
       "        vertical-align: top;\n",
       "    }\n",
       "\n",
       "    .dataframe thead th {\n",
       "        text-align: right;\n",
       "    }\n",
       "</style>\n",
       "<table border=\"1\" class=\"dataframe\">\n",
       "  <thead>\n",
       "    <tr style=\"text-align: right;\">\n",
       "      <th></th>\n",
       "      <th>narration_id</th>\n",
       "      <th>participant_id</th>\n",
       "      <th>video_id</th>\n",
       "      <th>narration_timestamp</th>\n",
       "      <th>start_timestamp</th>\n",
       "      <th>stop_timestamp</th>\n",
       "      <th>start_frame</th>\n",
       "      <th>stop_frame</th>\n",
       "      <th>narration</th>\n",
       "      <th>verb</th>\n",
       "      <th>verb_class</th>\n",
       "      <th>noun</th>\n",
       "      <th>noun_class</th>\n",
       "      <th>all_nouns</th>\n",
       "      <th>all_noun_classes</th>\n",
       "    </tr>\n",
       "  </thead>\n",
       "  <tbody>\n",
       "    <tr>\n",
       "      <th>48316</th>\n",
       "      <td>P24_07_33</td>\n",
       "      <td>P24</td>\n",
       "      <td>P24_07</td>\n",
       "      <td>00:01:47.180</td>\n",
       "      <td>00:01:47.43</td>\n",
       "      <td>00:01:48.14</td>\n",
       "      <td>6445</td>\n",
       "      <td>6488</td>\n",
       "      <td>put tomato</td>\n",
       "      <td>put</td>\n",
       "      <td>1</td>\n",
       "      <td>tomato</td>\n",
       "      <td>43</td>\n",
       "      <td>['tomato']</td>\n",
       "      <td>[43]</td>\n",
       "    </tr>\n",
       "    <tr>\n",
       "      <th>36989</th>\n",
       "      <td>P22_06_52</td>\n",
       "      <td>P22</td>\n",
       "      <td>P22_06</td>\n",
       "      <td>00:02:10.289</td>\n",
       "      <td>00:02:07.88</td>\n",
       "      <td>00:02:08.87</td>\n",
       "      <td>7672</td>\n",
       "      <td>7732</td>\n",
       "      <td>open coffee maker</td>\n",
       "      <td>open</td>\n",
       "      <td>3</td>\n",
       "      <td>maker:coffee</td>\n",
       "      <td>50</td>\n",
       "      <td>['maker:coffee']</td>\n",
       "      <td>[50]</td>\n",
       "    </tr>\n",
       "    <tr>\n",
       "      <th>63593</th>\n",
       "      <td>P31_08_30</td>\n",
       "      <td>P31</td>\n",
       "      <td>P31_08</td>\n",
       "      <td>00:04:43.059</td>\n",
       "      <td>00:04:41.97</td>\n",
       "      <td>00:04:47.40</td>\n",
       "      <td>16918</td>\n",
       "      <td>17244</td>\n",
       "      <td>take tuna can</td>\n",
       "      <td>take</td>\n",
       "      <td>0</td>\n",
       "      <td>tuna</td>\n",
       "      <td>160</td>\n",
       "      <td>['tuna']</td>\n",
       "      <td>[160]</td>\n",
       "    </tr>\n",
       "    <tr>\n",
       "      <th>29056</th>\n",
       "      <td>P08_23_133</td>\n",
       "      <td>P08</td>\n",
       "      <td>P08_23</td>\n",
       "      <td>00:13:13.500</td>\n",
       "      <td>00:13:07.70</td>\n",
       "      <td>00:13:16.55</td>\n",
       "      <td>47262</td>\n",
       "      <td>47793</td>\n",
       "      <td>cleaning kitchen surface</td>\n",
       "      <td>clean</td>\n",
       "      <td>2</td>\n",
       "      <td>surface:kitchen</td>\n",
       "      <td>42</td>\n",
       "      <td>['surface:kitchen']</td>\n",
       "      <td>[42]</td>\n",
       "    </tr>\n",
       "    <tr>\n",
       "      <th>20945</th>\n",
       "      <td>P04_113_499</td>\n",
       "      <td>P04</td>\n",
       "      <td>P04_113</td>\n",
       "      <td>00:19:01.853</td>\n",
       "      <td>00:19:00.31</td>\n",
       "      <td>00:19:02.16</td>\n",
       "      <td>57015</td>\n",
       "      <td>57108</td>\n",
       "      <td>close oven</td>\n",
       "      <td>close</td>\n",
       "      <td>4</td>\n",
       "      <td>oven</td>\n",
       "      <td>46</td>\n",
       "      <td>['oven']</td>\n",
       "      <td>[46]</td>\n",
       "    </tr>\n",
       "  </tbody>\n",
       "</table>\n",
       "</div>"
      ],
      "text/plain": [
       "      narration_id participant_id video_id narration_timestamp   \n",
       "48316    P24_07_33            P24   P24_07        00:01:47.180  \\\n",
       "36989    P22_06_52            P22   P22_06        00:02:10.289   \n",
       "63593    P31_08_30            P31   P31_08        00:04:43.059   \n",
       "29056   P08_23_133            P08   P08_23        00:13:13.500   \n",
       "20945  P04_113_499            P04  P04_113        00:19:01.853   \n",
       "\n",
       "      start_timestamp stop_timestamp  start_frame  stop_frame   \n",
       "48316     00:01:47.43    00:01:48.14         6445        6488  \\\n",
       "36989     00:02:07.88    00:02:08.87         7672        7732   \n",
       "63593     00:04:41.97    00:04:47.40        16918       17244   \n",
       "29056     00:13:07.70    00:13:16.55        47262       47793   \n",
       "20945     00:19:00.31    00:19:02.16        57015       57108   \n",
       "\n",
       "                      narration   verb  verb_class             noun   \n",
       "48316                put tomato    put           1           tomato  \\\n",
       "36989         open coffee maker   open           3     maker:coffee   \n",
       "63593             take tuna can   take           0             tuna   \n",
       "29056  cleaning kitchen surface  clean           2  surface:kitchen   \n",
       "20945                close oven  close           4             oven   \n",
       "\n",
       "       noun_class            all_nouns all_noun_classes  \n",
       "48316          43           ['tomato']             [43]  \n",
       "36989          50     ['maker:coffee']             [50]  \n",
       "63593         160             ['tuna']            [160]  \n",
       "29056          42  ['surface:kitchen']             [42]  \n",
       "20945          46             ['oven']             [46]  "
      ]
     },
     "execution_count": 19,
     "metadata": {},
     "output_type": "execute_result"
    }
   ],
   "source": [
    "df_val.head()"
   ]
  },
  {
   "cell_type": "code",
   "execution_count": 20,
   "id": "6a31d504-8c66-4458-a08c-1ebb3d752160",
   "metadata": {
    "tags": []
   },
   "outputs": [],
   "source": [
    "df_train.to_csv('train.csv')\n",
    "df_val.to_csv('val.csv')"
   ]
  },
  {
   "cell_type": "markdown",
   "id": "04c7a3f5-83f5-4f13-b512-268e6df9f729",
   "metadata": {},
   "source": [
    "## weight for classes exporation"
   ]
  },
  {
   "cell_type": "code",
   "execution_count": null,
   "id": "3a52eda6-214a-4525-bf43-c799d3438daf",
   "metadata": {
    "tags": []
   },
   "outputs": [],
   "source": [
    "unique_labels = np.array(df_train['verb_class'].unique())\n",
    "unique_labels.sort()\n",
    "all_labels = np.array(df_train['verb_class'])"
   ]
  },
  {
   "cell_type": "code",
   "execution_count": null,
   "id": "543cdaea-c256-492c-af74-e3db4df133c3",
   "metadata": {
    "tags": []
   },
   "outputs": [],
   "source": [
    "print(unique_labels)"
   ]
  },
  {
   "cell_type": "code",
   "execution_count": null,
   "id": "5cbb52ef-5807-4ab4-bbbd-f520313699b3",
   "metadata": {
    "tags": []
   },
   "outputs": [],
   "source": [
    "all_labels"
   ]
  },
  {
   "cell_type": "code",
   "execution_count": null,
   "id": "d054e7fb-fcfd-48d1-9812-4cb69b3e9e29",
   "metadata": {
    "tags": []
   },
   "outputs": [],
   "source": [
    "class_weights = compute_class_weight(class_weight='balanced', classes=unique_labels, y=all_labels)"
   ]
  },
  {
   "cell_type": "code",
   "execution_count": null,
   "id": "f1d7a46e-b96f-4c14-845a-518874e9d5e0",
   "metadata": {
    "tags": []
   },
   "outputs": [],
   "source": [
    "class_weights"
   ]
  },
  {
   "cell_type": "code",
   "execution_count": null,
   "id": "1745639f-564e-4beb-91f6-c0a98f053307",
   "metadata": {
    "tags": []
   },
   "outputs": [],
   "source": [
    "class_weights_tensor = torch.tensor(class_weights, dtype=torch.float32)"
   ]
  },
  {
   "cell_type": "code",
   "execution_count": null,
   "id": "4a4ffbb4-a5b0-42b5-a232-4704c432e90d",
   "metadata": {
    "tags": []
   },
   "outputs": [],
   "source": [
    "class_weights_tensor.dtype"
   ]
  },
  {
   "cell_type": "code",
   "execution_count": null,
   "id": "1fb0937a-05d3-4169-af07-1f9c5b270460",
   "metadata": {
    "tags": []
   },
   "outputs": [],
   "source": [
    "criterion = nn.CrossEntropyLoss(weight=class_weights)"
   ]
  },
  {
   "cell_type": "code",
   "execution_count": null,
   "id": "5067c0a5-8b80-4022-9ea0-d5535533f31a",
   "metadata": {},
   "outputs": [],
   "source": []
  }
 ],
 "metadata": {
  "kernelspec": {
   "display_name": "Python 3 (ipykernel)",
   "language": "python",
   "name": "python3"
  },
  "language_info": {
   "codemirror_mode": {
    "name": "ipython",
    "version": 3
   },
   "file_extension": ".py",
   "mimetype": "text/x-python",
   "name": "python",
   "nbconvert_exporter": "python",
   "pygments_lexer": "ipython3",
   "version": "3.10.9"
  }
 },
 "nbformat": 4,
 "nbformat_minor": 5
}
